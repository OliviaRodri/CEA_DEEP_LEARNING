{
 "metadata": {
  "language_info": {
   "codemirror_mode": {
    "name": "ipython",
    "version": 3
   },
   "file_extension": ".py",
   "mimetype": "text/x-python",
   "name": "python",
   "nbconvert_exporter": "python",
   "pygments_lexer": "ipython3",
   "version": "3.8.3-final"
  },
  "orig_nbformat": 2,
  "kernelspec": {
   "name": "mlenv",
   "display_name": "mlenv",
   "language": "python"
  }
 },
 "nbformat": 4,
 "nbformat_minor": 2,
 "cells": [
  {
   "source": [
    "## UTMCC DataViz Module 20 Final Team Project\n",
    "### Food Deserts in the Austin, Texas Metro Area"
   ],
   "cell_type": "markdown",
   "metadata": {}
  },
  {
   "cell_type": "code",
   "execution_count": 1,
   "metadata": {},
   "outputs": [],
   "source": [
    "# Import dependencies\n",
    "from sklearn.model_selection import train_test_split\n",
    "from sklearn.preprocessing import StandardScaler,OneHotEncoder\n",
    "from sklearn.ensemble import RandomForestClassifier\n",
    "from sklearn.metrics import accuracy_score\n",
    "from sklearn.svm import SVC\n",
    "from sklearn.linear_model import LogisticRegression\n",
    "import pandas as pd\n",
    "from scipy import stats\n",
    "import numpy as np \n",
    "import seaborn as sns\n",
    "import matplotlib.pyplot as plt\n",
    "import tensorflow as tf\n",
    "from tensorflow import keras\n",
    "from tensorflow.keras import layers\n",
    "from tensorflow.keras import activations\n",
    "# Import checkpoint dependencies\n",
    "import os\n",
    "from tensorflow.keras.callbacks import ModelCheckpoint"
   ]
  },
  {
   "cell_type": "code",
   "execution_count": 2,
   "metadata": {},
   "outputs": [],
   "source": [
    "import numpy as np\n",
    "import pandas as pd\n",
    "from pandas import DataFrame\n",
    "import datetime as dt\n",
    "import calendar\n",
    "import random\n",
    "\n",
    "%matplotlib inline\n",
    "from matplotlib import style\n",
    "style.use('fivethirtyeight')\n",
    "import matplotlib.pyplot as plt\n",
    "import statistics\n",
    "from flask import Flask, jsonify\n",
    "from mpl_toolkits.mplot3d import Axes3D\n",
    "\n",
    "# Python SQL toolkit and Object Relational Mapper\n",
    "import sqlite3\n",
    "import sqlalchemy\n",
    "from sqlalchemy.ext.automap import automap_base\n",
    "from sqlalchemy.orm import Session\n",
    "from sqlalchemy import create_engine, func\n",
    "from sqlalchemy import extract"
   ]
  },
  {
   "cell_type": "code",
   "execution_count": 3,
   "metadata": {},
   "outputs": [],
   "source": [
    "# Import and read csv files\n",
    "food_atlas_df = pd.read_csv(\"resources/food_access_research_atlas.csv\")\n",
    "# food_var_df = pd.read_csv(\"resources/food_access_variable_lookup.csv\")"
   ]
  },
  {
   "cell_type": "code",
   "execution_count": 4,
   "metadata": {},
   "outputs": [
    {
     "output_type": "execute_result",
     "data": {
      "text/plain": [
       "   CensusTract    State   County  Urban  POP2010  OHU2010  GroupQuartersFlag  \\\n",
       "0   1001020100  Alabama  Autauga      1     1912      693                  0   \n",
       "1   1001020200  Alabama  Autauga      1     2170      743                  0   \n",
       "2   1001020300  Alabama  Autauga      1     3373     1256                  0   \n",
       "3   1001020400  Alabama  Autauga      1     4386     1722                  0   \n",
       "4   1001020500  Alabama  Autauga      1    10766     4082                  0   \n",
       "\n",
       "   NUMGQTRS  PCTGQTRS  LILATracts_1And10  ...  TractSeniors  TractWhite  \\\n",
       "0         0  0.000000                  0  ...           221        1622   \n",
       "1       181  0.083410                  0  ...           214         888   \n",
       "2         0  0.000000                  0  ...           439        2576   \n",
       "3         0  0.000000                  0  ...           904        4086   \n",
       "4       181  0.016812                  0  ...          1126        8666   \n",
       "\n",
       "   TractBlack  TractAsian  TractNHOPI  TractAIAN  TractOMultir  TractHispanic  \\\n",
       "0         217          14           0         14            45             44   \n",
       "1        1217           5           0          5            55             75   \n",
       "2         647          17           5         11           117             87   \n",
       "3         193          18           4         11            74             85   \n",
       "4        1437         296           9         48           310            355   \n",
       "\n",
       "   TractHUNV  TractSNAP  \n",
       "0         26        112  \n",
       "1         87        202  \n",
       "2        108        120  \n",
       "3         19         82  \n",
       "4        198        488  \n",
       "\n",
       "[5 rows x 147 columns]"
      ],
      "text/html": "<div>\n<style scoped>\n    .dataframe tbody tr th:only-of-type {\n        vertical-align: middle;\n    }\n\n    .dataframe tbody tr th {\n        vertical-align: top;\n    }\n\n    .dataframe thead th {\n        text-align: right;\n    }\n</style>\n<table border=\"1\" class=\"dataframe\">\n  <thead>\n    <tr style=\"text-align: right;\">\n      <th></th>\n      <th>CensusTract</th>\n      <th>State</th>\n      <th>County</th>\n      <th>Urban</th>\n      <th>POP2010</th>\n      <th>OHU2010</th>\n      <th>GroupQuartersFlag</th>\n      <th>NUMGQTRS</th>\n      <th>PCTGQTRS</th>\n      <th>LILATracts_1And10</th>\n      <th>...</th>\n      <th>TractSeniors</th>\n      <th>TractWhite</th>\n      <th>TractBlack</th>\n      <th>TractAsian</th>\n      <th>TractNHOPI</th>\n      <th>TractAIAN</th>\n      <th>TractOMultir</th>\n      <th>TractHispanic</th>\n      <th>TractHUNV</th>\n      <th>TractSNAP</th>\n    </tr>\n  </thead>\n  <tbody>\n    <tr>\n      <th>0</th>\n      <td>1001020100</td>\n      <td>Alabama</td>\n      <td>Autauga</td>\n      <td>1</td>\n      <td>1912</td>\n      <td>693</td>\n      <td>0</td>\n      <td>0</td>\n      <td>0.000000</td>\n      <td>0</td>\n      <td>...</td>\n      <td>221</td>\n      <td>1622</td>\n      <td>217</td>\n      <td>14</td>\n      <td>0</td>\n      <td>14</td>\n      <td>45</td>\n      <td>44</td>\n      <td>26</td>\n      <td>112</td>\n    </tr>\n    <tr>\n      <th>1</th>\n      <td>1001020200</td>\n      <td>Alabama</td>\n      <td>Autauga</td>\n      <td>1</td>\n      <td>2170</td>\n      <td>743</td>\n      <td>0</td>\n      <td>181</td>\n      <td>0.083410</td>\n      <td>0</td>\n      <td>...</td>\n      <td>214</td>\n      <td>888</td>\n      <td>1217</td>\n      <td>5</td>\n      <td>0</td>\n      <td>5</td>\n      <td>55</td>\n      <td>75</td>\n      <td>87</td>\n      <td>202</td>\n    </tr>\n    <tr>\n      <th>2</th>\n      <td>1001020300</td>\n      <td>Alabama</td>\n      <td>Autauga</td>\n      <td>1</td>\n      <td>3373</td>\n      <td>1256</td>\n      <td>0</td>\n      <td>0</td>\n      <td>0.000000</td>\n      <td>0</td>\n      <td>...</td>\n      <td>439</td>\n      <td>2576</td>\n      <td>647</td>\n      <td>17</td>\n      <td>5</td>\n      <td>11</td>\n      <td>117</td>\n      <td>87</td>\n      <td>108</td>\n      <td>120</td>\n    </tr>\n    <tr>\n      <th>3</th>\n      <td>1001020400</td>\n      <td>Alabama</td>\n      <td>Autauga</td>\n      <td>1</td>\n      <td>4386</td>\n      <td>1722</td>\n      <td>0</td>\n      <td>0</td>\n      <td>0.000000</td>\n      <td>0</td>\n      <td>...</td>\n      <td>904</td>\n      <td>4086</td>\n      <td>193</td>\n      <td>18</td>\n      <td>4</td>\n      <td>11</td>\n      <td>74</td>\n      <td>85</td>\n      <td>19</td>\n      <td>82</td>\n    </tr>\n    <tr>\n      <th>4</th>\n      <td>1001020500</td>\n      <td>Alabama</td>\n      <td>Autauga</td>\n      <td>1</td>\n      <td>10766</td>\n      <td>4082</td>\n      <td>0</td>\n      <td>181</td>\n      <td>0.016812</td>\n      <td>0</td>\n      <td>...</td>\n      <td>1126</td>\n      <td>8666</td>\n      <td>1437</td>\n      <td>296</td>\n      <td>9</td>\n      <td>48</td>\n      <td>310</td>\n      <td>355</td>\n      <td>198</td>\n      <td>488</td>\n    </tr>\n  </tbody>\n</table>\n<p>5 rows × 147 columns</p>\n</div>"
     },
     "metadata": {},
     "execution_count": 4
    }
   ],
   "source": [
    "food_atlas_df.head()"
   ]
  },
  {
   "cell_type": "code",
   "execution_count": null,
   "metadata": {},
   "outputs": [],
   "source": [
    "# food_var_df.head()"
   ]
  },
  {
   "source": [
    "## Preprocessing the data"
   ],
   "cell_type": "markdown",
   "metadata": {}
  },
  {
   "cell_type": "code",
   "execution_count": 5,
   "metadata": {},
   "outputs": [
    {
     "output_type": "execute_result",
     "data": {
      "text/plain": [
       "CensusTract       int64\n",
       "State            object\n",
       "County           object\n",
       "Urban             int64\n",
       "POP2010           int64\n",
       "                  ...  \n",
       "TractAIAN         int64\n",
       "TractOMultir      int64\n",
       "TractHispanic     int64\n",
       "TractHUNV         int64\n",
       "TractSNAP         int64\n",
       "Length: 147, dtype: object"
      ]
     },
     "metadata": {},
     "execution_count": 5
    }
   ],
   "source": [
    "food_atlas_df.dtypes"
   ]
  },
  {
   "cell_type": "code",
   "execution_count": 6,
   "metadata": {},
   "outputs": [
    {
     "output_type": "execute_result",
     "data": {
      "text/plain": [
       "       CensusTract  State    County  Urban  POP2010  OHU2010  \\\n",
       "61468  48001950100  Texas  Anderson      0     4685     1874   \n",
       "61469  48001950401  Texas  Anderson      0     5422       77   \n",
       "61470  48001950402  Texas  Anderson      0     7535       83   \n",
       "61471  48001950500  Texas  Anderson      1     4377     1604   \n",
       "61472  48001950600  Texas  Anderson      1     6405     2253   \n",
       "...            ...    ...       ...    ...      ...      ...   \n",
       "66721  48505950400  Texas    Zapata      0     5610     1741   \n",
       "66722  48507950100  Texas    Zavala      0     1232      388   \n",
       "66723  48507950200  Texas    Zavala      0     1880      590   \n",
       "66724  48507950301  Texas    Zavala      0     2254      628   \n",
       "66725  48507950302  Texas    Zavala      1     6311     1967   \n",
       "\n",
       "       GroupQuartersFlag  NUMGQTRS  PCTGQTRS  LILATracts_1And10  ...  \\\n",
       "61468                  0        49  0.010459                  0  ...   \n",
       "61469                  1      5219  0.962560                  0  ...   \n",
       "61470                  1      7315  0.970803                  0  ...   \n",
       "61471                  0        86  0.019648                  1  ...   \n",
       "61472                  0        96  0.014988                  1  ...   \n",
       "...                  ...       ...       ...                ...  ...   \n",
       "66721                  0         0  0.000000                  1  ...   \n",
       "66722                  0         0  0.000000                  1  ...   \n",
       "66723                  0         0  0.000000                  1  ...   \n",
       "66724                  0       348  0.154392                  0  ...   \n",
       "66725                  0        61  0.009666                  1  ...   \n",
       "\n",
       "       TractSeniors  TractWhite  TractBlack  TractAsian  TractNHOPI  \\\n",
       "61468           912        4012         452          22           0   \n",
       "61469            24        1825        2266          21           0   \n",
       "61470           134        2591        3248          13           0   \n",
       "61471           627        2737         800          19           2   \n",
       "61472           791        3831        1674          68           4   \n",
       "...             ...         ...         ...         ...         ...   \n",
       "66721           555        5264           5          12           0   \n",
       "66722           125        1056           4           0           0   \n",
       "66723           203        1612          21           2           9   \n",
       "66724           225        2096          14           1           0   \n",
       "66725           855        5537          50           1           7   \n",
       "\n",
       "       TractAIAN  TractOMultir  TractHispanic  TractHUNV  TractSNAP  \n",
       "61468         13           186            236        125        218  \n",
       "61469          5          1305           1324          5          0  \n",
       "61470         10          1673           1737          0          0  \n",
       "61471         20           799           1389         66        288  \n",
       "61472         43           785           1253        194        412  \n",
       "...          ...           ...            ...        ...        ...  \n",
       "66721         30           299           5176         58        539  \n",
       "66722          2           170           1104         55        164  \n",
       "66723         13           223           1635         59        155  \n",
       "66724          3           140           2109        160        384  \n",
       "66725         23           693           6113        310        616  \n",
       "\n",
       "[5258 rows x 147 columns]"
      ],
      "text/html": "<div>\n<style scoped>\n    .dataframe tbody tr th:only-of-type {\n        vertical-align: middle;\n    }\n\n    .dataframe tbody tr th {\n        vertical-align: top;\n    }\n\n    .dataframe thead th {\n        text-align: right;\n    }\n</style>\n<table border=\"1\" class=\"dataframe\">\n  <thead>\n    <tr style=\"text-align: right;\">\n      <th></th>\n      <th>CensusTract</th>\n      <th>State</th>\n      <th>County</th>\n      <th>Urban</th>\n      <th>POP2010</th>\n      <th>OHU2010</th>\n      <th>GroupQuartersFlag</th>\n      <th>NUMGQTRS</th>\n      <th>PCTGQTRS</th>\n      <th>LILATracts_1And10</th>\n      <th>...</th>\n      <th>TractSeniors</th>\n      <th>TractWhite</th>\n      <th>TractBlack</th>\n      <th>TractAsian</th>\n      <th>TractNHOPI</th>\n      <th>TractAIAN</th>\n      <th>TractOMultir</th>\n      <th>TractHispanic</th>\n      <th>TractHUNV</th>\n      <th>TractSNAP</th>\n    </tr>\n  </thead>\n  <tbody>\n    <tr>\n      <th>61468</th>\n      <td>48001950100</td>\n      <td>Texas</td>\n      <td>Anderson</td>\n      <td>0</td>\n      <td>4685</td>\n      <td>1874</td>\n      <td>0</td>\n      <td>49</td>\n      <td>0.010459</td>\n      <td>0</td>\n      <td>...</td>\n      <td>912</td>\n      <td>4012</td>\n      <td>452</td>\n      <td>22</td>\n      <td>0</td>\n      <td>13</td>\n      <td>186</td>\n      <td>236</td>\n      <td>125</td>\n      <td>218</td>\n    </tr>\n    <tr>\n      <th>61469</th>\n      <td>48001950401</td>\n      <td>Texas</td>\n      <td>Anderson</td>\n      <td>0</td>\n      <td>5422</td>\n      <td>77</td>\n      <td>1</td>\n      <td>5219</td>\n      <td>0.962560</td>\n      <td>0</td>\n      <td>...</td>\n      <td>24</td>\n      <td>1825</td>\n      <td>2266</td>\n      <td>21</td>\n      <td>0</td>\n      <td>5</td>\n      <td>1305</td>\n      <td>1324</td>\n      <td>5</td>\n      <td>0</td>\n    </tr>\n    <tr>\n      <th>61470</th>\n      <td>48001950402</td>\n      <td>Texas</td>\n      <td>Anderson</td>\n      <td>0</td>\n      <td>7535</td>\n      <td>83</td>\n      <td>1</td>\n      <td>7315</td>\n      <td>0.970803</td>\n      <td>0</td>\n      <td>...</td>\n      <td>134</td>\n      <td>2591</td>\n      <td>3248</td>\n      <td>13</td>\n      <td>0</td>\n      <td>10</td>\n      <td>1673</td>\n      <td>1737</td>\n      <td>0</td>\n      <td>0</td>\n    </tr>\n    <tr>\n      <th>61471</th>\n      <td>48001950500</td>\n      <td>Texas</td>\n      <td>Anderson</td>\n      <td>1</td>\n      <td>4377</td>\n      <td>1604</td>\n      <td>0</td>\n      <td>86</td>\n      <td>0.019648</td>\n      <td>1</td>\n      <td>...</td>\n      <td>627</td>\n      <td>2737</td>\n      <td>800</td>\n      <td>19</td>\n      <td>2</td>\n      <td>20</td>\n      <td>799</td>\n      <td>1389</td>\n      <td>66</td>\n      <td>288</td>\n    </tr>\n    <tr>\n      <th>61472</th>\n      <td>48001950600</td>\n      <td>Texas</td>\n      <td>Anderson</td>\n      <td>1</td>\n      <td>6405</td>\n      <td>2253</td>\n      <td>0</td>\n      <td>96</td>\n      <td>0.014988</td>\n      <td>1</td>\n      <td>...</td>\n      <td>791</td>\n      <td>3831</td>\n      <td>1674</td>\n      <td>68</td>\n      <td>4</td>\n      <td>43</td>\n      <td>785</td>\n      <td>1253</td>\n      <td>194</td>\n      <td>412</td>\n    </tr>\n    <tr>\n      <th>...</th>\n      <td>...</td>\n      <td>...</td>\n      <td>...</td>\n      <td>...</td>\n      <td>...</td>\n      <td>...</td>\n      <td>...</td>\n      <td>...</td>\n      <td>...</td>\n      <td>...</td>\n      <td>...</td>\n      <td>...</td>\n      <td>...</td>\n      <td>...</td>\n      <td>...</td>\n      <td>...</td>\n      <td>...</td>\n      <td>...</td>\n      <td>...</td>\n      <td>...</td>\n      <td>...</td>\n    </tr>\n    <tr>\n      <th>66721</th>\n      <td>48505950400</td>\n      <td>Texas</td>\n      <td>Zapata</td>\n      <td>0</td>\n      <td>5610</td>\n      <td>1741</td>\n      <td>0</td>\n      <td>0</td>\n      <td>0.000000</td>\n      <td>1</td>\n      <td>...</td>\n      <td>555</td>\n      <td>5264</td>\n      <td>5</td>\n      <td>12</td>\n      <td>0</td>\n      <td>30</td>\n      <td>299</td>\n      <td>5176</td>\n      <td>58</td>\n      <td>539</td>\n    </tr>\n    <tr>\n      <th>66722</th>\n      <td>48507950100</td>\n      <td>Texas</td>\n      <td>Zavala</td>\n      <td>0</td>\n      <td>1232</td>\n      <td>388</td>\n      <td>0</td>\n      <td>0</td>\n      <td>0.000000</td>\n      <td>1</td>\n      <td>...</td>\n      <td>125</td>\n      <td>1056</td>\n      <td>4</td>\n      <td>0</td>\n      <td>0</td>\n      <td>2</td>\n      <td>170</td>\n      <td>1104</td>\n      <td>55</td>\n      <td>164</td>\n    </tr>\n    <tr>\n      <th>66723</th>\n      <td>48507950200</td>\n      <td>Texas</td>\n      <td>Zavala</td>\n      <td>0</td>\n      <td>1880</td>\n      <td>590</td>\n      <td>0</td>\n      <td>0</td>\n      <td>0.000000</td>\n      <td>1</td>\n      <td>...</td>\n      <td>203</td>\n      <td>1612</td>\n      <td>21</td>\n      <td>2</td>\n      <td>9</td>\n      <td>13</td>\n      <td>223</td>\n      <td>1635</td>\n      <td>59</td>\n      <td>155</td>\n    </tr>\n    <tr>\n      <th>66724</th>\n      <td>48507950301</td>\n      <td>Texas</td>\n      <td>Zavala</td>\n      <td>0</td>\n      <td>2254</td>\n      <td>628</td>\n      <td>0</td>\n      <td>348</td>\n      <td>0.154392</td>\n      <td>0</td>\n      <td>...</td>\n      <td>225</td>\n      <td>2096</td>\n      <td>14</td>\n      <td>1</td>\n      <td>0</td>\n      <td>3</td>\n      <td>140</td>\n      <td>2109</td>\n      <td>160</td>\n      <td>384</td>\n    </tr>\n    <tr>\n      <th>66725</th>\n      <td>48507950302</td>\n      <td>Texas</td>\n      <td>Zavala</td>\n      <td>1</td>\n      <td>6311</td>\n      <td>1967</td>\n      <td>0</td>\n      <td>61</td>\n      <td>0.009666</td>\n      <td>1</td>\n      <td>...</td>\n      <td>855</td>\n      <td>5537</td>\n      <td>50</td>\n      <td>1</td>\n      <td>7</td>\n      <td>23</td>\n      <td>693</td>\n      <td>6113</td>\n      <td>310</td>\n      <td>616</td>\n    </tr>\n  </tbody>\n</table>\n<p>5258 rows × 147 columns</p>\n</div>"
     },
     "metadata": {},
     "execution_count": 6
    }
   ],
   "source": [
    "# Create new df keeping only Texas\n",
    "food_texas_df = food_atlas_df[(food_atlas_df[\"State\"]==\"Texas\")]\n",
    "food_texas_df"
   ]
  },
  {
   "cell_type": "code",
   "execution_count": 7,
   "metadata": {},
   "outputs": [
    {
     "output_type": "execute_result",
     "data": {
      "text/plain": [
       "       CensusTract  State      County  Urban  POP2010  OHU2010  \\\n",
       "61529  48021950100  Texas     Bastrop      0     8608     3063   \n",
       "61530  48021950200  Texas     Bastrop      1     7955     2625   \n",
       "61531  48021950300  Texas     Bastrop      0    12927     4734   \n",
       "61532  48021950400  Texas     Bastrop      1     7984     3127   \n",
       "61533  48021950501  Texas     Bastrop      0     8008     2168   \n",
       "...            ...    ...         ...    ...      ...      ...   \n",
       "66673  48491021507  Texas  Williamson      1     9196     3293   \n",
       "66674  48491021508  Texas  Williamson      1     6531     2402   \n",
       "66675  48491021601  Texas  Williamson      0     3278     1120   \n",
       "66676  48491021602  Texas  Williamson      0     2857      959   \n",
       "66677  48491021603  Texas  Williamson      0     1653      540   \n",
       "\n",
       "       GroupQuartersFlag  NUMGQTRS  PCTGQTRS  LILATracts_1And10  ...  \\\n",
       "61529                  0         0  0.000000                  0  ...   \n",
       "61530                  0       186  0.023381                  1  ...   \n",
       "61531                  0        71  0.005492                  0  ...   \n",
       "61532                  0       456  0.057114                  0  ...   \n",
       "61533                  0      1519  0.189685                  0  ...   \n",
       "...                  ...       ...       ...                ...  ...   \n",
       "66673                  0         1  0.000109                  0  ...   \n",
       "66674                  0         0  0.000000                  0  ...   \n",
       "66675                  0         0  0.000000                  1  ...   \n",
       "66676                  0         0  0.000000                  0  ...   \n",
       "66677                  0         0  0.000000                  1  ...   \n",
       "\n",
       "       TractSeniors  TractWhite  TractBlack  TractAsian  TractNHOPI  \\\n",
       "61529          1028        6507         383          53           4   \n",
       "61530           891        4521        1328          32          14   \n",
       "61531          1468        9971        1213         156          18   \n",
       "61532          1199        6312         800          78           3   \n",
       "61533           566        5209         849          37          12   \n",
       "...             ...         ...         ...         ...         ...   \n",
       "66673           444        6315        1227         421          15   \n",
       "66674           301        4744         761         303           7   \n",
       "66675           236        2569         102          19           6   \n",
       "66676           332        2464          47          19           0   \n",
       "66677           181        1393          19          13           0   \n",
       "\n",
       "       TractAIAN  TractOMultir  TractHispanic  TractHUNV  TractSNAP  \n",
       "61529         65          1596           2660         51        351  \n",
       "61530         76          1984           3674        148        444  \n",
       "61531         88          1481           3012         95        568  \n",
       "61532         62           729           1711        255        261  \n",
       "61533        123          1778           3253        128        285  \n",
       "...          ...           ...            ...        ...        ...  \n",
       "66673         44          1174           2710        179        277  \n",
       "66674         28           688           1627         23        133  \n",
       "66675         15           567            954          5         26  \n",
       "66676         16           311            906         12        106  \n",
       "66677         12           216            532         14         31  \n",
       "\n",
       "[350 rows x 147 columns]"
      ],
      "text/html": "<div>\n<style scoped>\n    .dataframe tbody tr th:only-of-type {\n        vertical-align: middle;\n    }\n\n    .dataframe tbody tr th {\n        vertical-align: top;\n    }\n\n    .dataframe thead th {\n        text-align: right;\n    }\n</style>\n<table border=\"1\" class=\"dataframe\">\n  <thead>\n    <tr style=\"text-align: right;\">\n      <th></th>\n      <th>CensusTract</th>\n      <th>State</th>\n      <th>County</th>\n      <th>Urban</th>\n      <th>POP2010</th>\n      <th>OHU2010</th>\n      <th>GroupQuartersFlag</th>\n      <th>NUMGQTRS</th>\n      <th>PCTGQTRS</th>\n      <th>LILATracts_1And10</th>\n      <th>...</th>\n      <th>TractSeniors</th>\n      <th>TractWhite</th>\n      <th>TractBlack</th>\n      <th>TractAsian</th>\n      <th>TractNHOPI</th>\n      <th>TractAIAN</th>\n      <th>TractOMultir</th>\n      <th>TractHispanic</th>\n      <th>TractHUNV</th>\n      <th>TractSNAP</th>\n    </tr>\n  </thead>\n  <tbody>\n    <tr>\n      <th>61529</th>\n      <td>48021950100</td>\n      <td>Texas</td>\n      <td>Bastrop</td>\n      <td>0</td>\n      <td>8608</td>\n      <td>3063</td>\n      <td>0</td>\n      <td>0</td>\n      <td>0.000000</td>\n      <td>0</td>\n      <td>...</td>\n      <td>1028</td>\n      <td>6507</td>\n      <td>383</td>\n      <td>53</td>\n      <td>4</td>\n      <td>65</td>\n      <td>1596</td>\n      <td>2660</td>\n      <td>51</td>\n      <td>351</td>\n    </tr>\n    <tr>\n      <th>61530</th>\n      <td>48021950200</td>\n      <td>Texas</td>\n      <td>Bastrop</td>\n      <td>1</td>\n      <td>7955</td>\n      <td>2625</td>\n      <td>0</td>\n      <td>186</td>\n      <td>0.023381</td>\n      <td>1</td>\n      <td>...</td>\n      <td>891</td>\n      <td>4521</td>\n      <td>1328</td>\n      <td>32</td>\n      <td>14</td>\n      <td>76</td>\n      <td>1984</td>\n      <td>3674</td>\n      <td>148</td>\n      <td>444</td>\n    </tr>\n    <tr>\n      <th>61531</th>\n      <td>48021950300</td>\n      <td>Texas</td>\n      <td>Bastrop</td>\n      <td>0</td>\n      <td>12927</td>\n      <td>4734</td>\n      <td>0</td>\n      <td>71</td>\n      <td>0.005492</td>\n      <td>0</td>\n      <td>...</td>\n      <td>1468</td>\n      <td>9971</td>\n      <td>1213</td>\n      <td>156</td>\n      <td>18</td>\n      <td>88</td>\n      <td>1481</td>\n      <td>3012</td>\n      <td>95</td>\n      <td>568</td>\n    </tr>\n    <tr>\n      <th>61532</th>\n      <td>48021950400</td>\n      <td>Texas</td>\n      <td>Bastrop</td>\n      <td>1</td>\n      <td>7984</td>\n      <td>3127</td>\n      <td>0</td>\n      <td>456</td>\n      <td>0.057114</td>\n      <td>0</td>\n      <td>...</td>\n      <td>1199</td>\n      <td>6312</td>\n      <td>800</td>\n      <td>78</td>\n      <td>3</td>\n      <td>62</td>\n      <td>729</td>\n      <td>1711</td>\n      <td>255</td>\n      <td>261</td>\n    </tr>\n    <tr>\n      <th>61533</th>\n      <td>48021950501</td>\n      <td>Texas</td>\n      <td>Bastrop</td>\n      <td>0</td>\n      <td>8008</td>\n      <td>2168</td>\n      <td>0</td>\n      <td>1519</td>\n      <td>0.189685</td>\n      <td>0</td>\n      <td>...</td>\n      <td>566</td>\n      <td>5209</td>\n      <td>849</td>\n      <td>37</td>\n      <td>12</td>\n      <td>123</td>\n      <td>1778</td>\n      <td>3253</td>\n      <td>128</td>\n      <td>285</td>\n    </tr>\n    <tr>\n      <th>...</th>\n      <td>...</td>\n      <td>...</td>\n      <td>...</td>\n      <td>...</td>\n      <td>...</td>\n      <td>...</td>\n      <td>...</td>\n      <td>...</td>\n      <td>...</td>\n      <td>...</td>\n      <td>...</td>\n      <td>...</td>\n      <td>...</td>\n      <td>...</td>\n      <td>...</td>\n      <td>...</td>\n      <td>...</td>\n      <td>...</td>\n      <td>...</td>\n      <td>...</td>\n      <td>...</td>\n    </tr>\n    <tr>\n      <th>66673</th>\n      <td>48491021507</td>\n      <td>Texas</td>\n      <td>Williamson</td>\n      <td>1</td>\n      <td>9196</td>\n      <td>3293</td>\n      <td>0</td>\n      <td>1</td>\n      <td>0.000109</td>\n      <td>0</td>\n      <td>...</td>\n      <td>444</td>\n      <td>6315</td>\n      <td>1227</td>\n      <td>421</td>\n      <td>15</td>\n      <td>44</td>\n      <td>1174</td>\n      <td>2710</td>\n      <td>179</td>\n      <td>277</td>\n    </tr>\n    <tr>\n      <th>66674</th>\n      <td>48491021508</td>\n      <td>Texas</td>\n      <td>Williamson</td>\n      <td>1</td>\n      <td>6531</td>\n      <td>2402</td>\n      <td>0</td>\n      <td>0</td>\n      <td>0.000000</td>\n      <td>0</td>\n      <td>...</td>\n      <td>301</td>\n      <td>4744</td>\n      <td>761</td>\n      <td>303</td>\n      <td>7</td>\n      <td>28</td>\n      <td>688</td>\n      <td>1627</td>\n      <td>23</td>\n      <td>133</td>\n    </tr>\n    <tr>\n      <th>66675</th>\n      <td>48491021601</td>\n      <td>Texas</td>\n      <td>Williamson</td>\n      <td>0</td>\n      <td>3278</td>\n      <td>1120</td>\n      <td>0</td>\n      <td>0</td>\n      <td>0.000000</td>\n      <td>1</td>\n      <td>...</td>\n      <td>236</td>\n      <td>2569</td>\n      <td>102</td>\n      <td>19</td>\n      <td>6</td>\n      <td>15</td>\n      <td>567</td>\n      <td>954</td>\n      <td>5</td>\n      <td>26</td>\n    </tr>\n    <tr>\n      <th>66676</th>\n      <td>48491021602</td>\n      <td>Texas</td>\n      <td>Williamson</td>\n      <td>0</td>\n      <td>2857</td>\n      <td>959</td>\n      <td>0</td>\n      <td>0</td>\n      <td>0.000000</td>\n      <td>0</td>\n      <td>...</td>\n      <td>332</td>\n      <td>2464</td>\n      <td>47</td>\n      <td>19</td>\n      <td>0</td>\n      <td>16</td>\n      <td>311</td>\n      <td>906</td>\n      <td>12</td>\n      <td>106</td>\n    </tr>\n    <tr>\n      <th>66677</th>\n      <td>48491021603</td>\n      <td>Texas</td>\n      <td>Williamson</td>\n      <td>0</td>\n      <td>1653</td>\n      <td>540</td>\n      <td>0</td>\n      <td>0</td>\n      <td>0.000000</td>\n      <td>1</td>\n      <td>...</td>\n      <td>181</td>\n      <td>1393</td>\n      <td>19</td>\n      <td>13</td>\n      <td>0</td>\n      <td>12</td>\n      <td>216</td>\n      <td>532</td>\n      <td>14</td>\n      <td>31</td>\n    </tr>\n  </tbody>\n</table>\n<p>350 rows × 147 columns</p>\n</div>"
     },
     "metadata": {},
     "execution_count": 7
    }
   ],
   "source": [
    "# Create new df keeping only select Counties in the Austin Metro Area\n",
    "counties = [\"Bastrop\", \"Caldwell\", \"Hays\", \"Travis\", \"Williamson\"]\n",
    "food_austin_df = food_texas_df.loc[food_texas_df[\"County\"].isin(counties)]\n",
    "food_austin_df"
   ]
  },
  {
   "cell_type": "code",
   "execution_count": 8,
   "metadata": {},
   "outputs": [
    {
     "output_type": "execute_result",
     "data": {
      "text/plain": [
       "       LILATracts_1And10  lasnaphalf  lasnaphalfshare  lahunvhalf  \\\n",
       "61529                  0  325.133846         0.106149   48.548857   \n",
       "61530                  1  368.584869         0.140413  120.671667   \n",
       "61531                  0  590.025451         0.124636  100.788957   \n",
       "61532                  0  241.111748         0.077106  191.810180   \n",
       "61533                  0  307.709167         0.141932  144.460704   \n",
       "...                  ...         ...              ...         ...   \n",
       "66673                  0  253.269297         0.076911  147.346423   \n",
       "66674                  0   65.461476         0.027253    3.168106   \n",
       "66675                  1   24.931507         0.022260    6.618853   \n",
       "66676                  0  104.153688         0.108607   13.420352   \n",
       "66677                  1   32.568093         0.060311   15.626323   \n",
       "\n",
       "       lahunvhalfshare     lasnap1  lasnap1share     lahunv1  lahunv1share  \\\n",
       "61529         0.015850  319.907937      0.104443   47.889963      0.015635   \n",
       "61530         0.045970  233.501673      0.088953   81.658810      0.031108   \n",
       "61531         0.021290  549.545092      0.116085   84.946165      0.017944   \n",
       "61532         0.061340  188.984455      0.060436  114.453080      0.036602   \n",
       "61533         0.066633  307.703411      0.141930  144.458152      0.066632   \n",
       "...                ...         ...           ...         ...           ...   \n",
       "66673         0.044745  200.157469      0.060783   94.092539      0.028574   \n",
       "66674         0.001319   37.486129      0.015606    0.346386      0.000144   \n",
       "66675         0.005910   24.931507      0.022260    6.618853      0.005910   \n",
       "66676         0.013994  104.153688      0.108607   13.420352      0.013994   \n",
       "66677         0.028938   32.568093      0.060311   15.626323      0.028938   \n",
       "\n",
       "        lasnap10  lasnap10share  lahunv10  lahunv10share  lasnap20  \\\n",
       "61529   5.159378       0.001684  0.922672       0.000301       0.0   \n",
       "61530   0.000000       0.000000  0.000000       0.000000       0.0   \n",
       "61531  48.577263       0.010261  8.752010       0.001849       0.0   \n",
       "61532   0.000000       0.000000  0.000000       0.000000       0.0   \n",
       "61533   0.000000       0.000000  0.000000       0.000000       0.0   \n",
       "...          ...            ...       ...            ...       ...   \n",
       "66673   0.000000       0.000000  0.000000       0.000000       0.0   \n",
       "66674   0.000000       0.000000  0.000000       0.000000       0.0   \n",
       "66675  15.243361       0.013610  2.243933       0.002004       0.0   \n",
       "66676   0.000000       0.000000  0.000000       0.000000       0.0   \n",
       "66677  11.559745       0.021407  3.761015       0.006965       0.0   \n",
       "\n",
       "       lasnap20share  lahunv20  lahunv20share  \n",
       "61529            0.0       0.0            0.0  \n",
       "61530            0.0       0.0            0.0  \n",
       "61531            0.0       0.0            0.0  \n",
       "61532            0.0       0.0            0.0  \n",
       "61533            0.0       0.0            0.0  \n",
       "...              ...       ...            ...  \n",
       "66673            0.0       0.0            0.0  \n",
       "66674            0.0       0.0            0.0  \n",
       "66675            0.0       0.0            0.0  \n",
       "66676            0.0       0.0            0.0  \n",
       "66677            0.0       0.0            0.0  \n",
       "\n",
       "[350 rows x 17 columns]"
      ],
      "text/html": "<div>\n<style scoped>\n    .dataframe tbody tr th:only-of-type {\n        vertical-align: middle;\n    }\n\n    .dataframe tbody tr th {\n        vertical-align: top;\n    }\n\n    .dataframe thead th {\n        text-align: right;\n    }\n</style>\n<table border=\"1\" class=\"dataframe\">\n  <thead>\n    <tr style=\"text-align: right;\">\n      <th></th>\n      <th>LILATracts_1And10</th>\n      <th>lasnaphalf</th>\n      <th>lasnaphalfshare</th>\n      <th>lahunvhalf</th>\n      <th>lahunvhalfshare</th>\n      <th>lasnap1</th>\n      <th>lasnap1share</th>\n      <th>lahunv1</th>\n      <th>lahunv1share</th>\n      <th>lasnap10</th>\n      <th>lasnap10share</th>\n      <th>lahunv10</th>\n      <th>lahunv10share</th>\n      <th>lasnap20</th>\n      <th>lasnap20share</th>\n      <th>lahunv20</th>\n      <th>lahunv20share</th>\n    </tr>\n  </thead>\n  <tbody>\n    <tr>\n      <th>61529</th>\n      <td>0</td>\n      <td>325.133846</td>\n      <td>0.106149</td>\n      <td>48.548857</td>\n      <td>0.015850</td>\n      <td>319.907937</td>\n      <td>0.104443</td>\n      <td>47.889963</td>\n      <td>0.015635</td>\n      <td>5.159378</td>\n      <td>0.001684</td>\n      <td>0.922672</td>\n      <td>0.000301</td>\n      <td>0.0</td>\n      <td>0.0</td>\n      <td>0.0</td>\n      <td>0.0</td>\n    </tr>\n    <tr>\n      <th>61530</th>\n      <td>1</td>\n      <td>368.584869</td>\n      <td>0.140413</td>\n      <td>120.671667</td>\n      <td>0.045970</td>\n      <td>233.501673</td>\n      <td>0.088953</td>\n      <td>81.658810</td>\n      <td>0.031108</td>\n      <td>0.000000</td>\n      <td>0.000000</td>\n      <td>0.000000</td>\n      <td>0.000000</td>\n      <td>0.0</td>\n      <td>0.0</td>\n      <td>0.0</td>\n      <td>0.0</td>\n    </tr>\n    <tr>\n      <th>61531</th>\n      <td>0</td>\n      <td>590.025451</td>\n      <td>0.124636</td>\n      <td>100.788957</td>\n      <td>0.021290</td>\n      <td>549.545092</td>\n      <td>0.116085</td>\n      <td>84.946165</td>\n      <td>0.017944</td>\n      <td>48.577263</td>\n      <td>0.010261</td>\n      <td>8.752010</td>\n      <td>0.001849</td>\n      <td>0.0</td>\n      <td>0.0</td>\n      <td>0.0</td>\n      <td>0.0</td>\n    </tr>\n    <tr>\n      <th>61532</th>\n      <td>0</td>\n      <td>241.111748</td>\n      <td>0.077106</td>\n      <td>191.810180</td>\n      <td>0.061340</td>\n      <td>188.984455</td>\n      <td>0.060436</td>\n      <td>114.453080</td>\n      <td>0.036602</td>\n      <td>0.000000</td>\n      <td>0.000000</td>\n      <td>0.000000</td>\n      <td>0.000000</td>\n      <td>0.0</td>\n      <td>0.0</td>\n      <td>0.0</td>\n      <td>0.0</td>\n    </tr>\n    <tr>\n      <th>61533</th>\n      <td>0</td>\n      <td>307.709167</td>\n      <td>0.141932</td>\n      <td>144.460704</td>\n      <td>0.066633</td>\n      <td>307.703411</td>\n      <td>0.141930</td>\n      <td>144.458152</td>\n      <td>0.066632</td>\n      <td>0.000000</td>\n      <td>0.000000</td>\n      <td>0.000000</td>\n      <td>0.000000</td>\n      <td>0.0</td>\n      <td>0.0</td>\n      <td>0.0</td>\n      <td>0.0</td>\n    </tr>\n    <tr>\n      <th>...</th>\n      <td>...</td>\n      <td>...</td>\n      <td>...</td>\n      <td>...</td>\n      <td>...</td>\n      <td>...</td>\n      <td>...</td>\n      <td>...</td>\n      <td>...</td>\n      <td>...</td>\n      <td>...</td>\n      <td>...</td>\n      <td>...</td>\n      <td>...</td>\n      <td>...</td>\n      <td>...</td>\n      <td>...</td>\n    </tr>\n    <tr>\n      <th>66673</th>\n      <td>0</td>\n      <td>253.269297</td>\n      <td>0.076911</td>\n      <td>147.346423</td>\n      <td>0.044745</td>\n      <td>200.157469</td>\n      <td>0.060783</td>\n      <td>94.092539</td>\n      <td>0.028574</td>\n      <td>0.000000</td>\n      <td>0.000000</td>\n      <td>0.000000</td>\n      <td>0.000000</td>\n      <td>0.0</td>\n      <td>0.0</td>\n      <td>0.0</td>\n      <td>0.0</td>\n    </tr>\n    <tr>\n      <th>66674</th>\n      <td>0</td>\n      <td>65.461476</td>\n      <td>0.027253</td>\n      <td>3.168106</td>\n      <td>0.001319</td>\n      <td>37.486129</td>\n      <td>0.015606</td>\n      <td>0.346386</td>\n      <td>0.000144</td>\n      <td>0.000000</td>\n      <td>0.000000</td>\n      <td>0.000000</td>\n      <td>0.000000</td>\n      <td>0.0</td>\n      <td>0.0</td>\n      <td>0.0</td>\n      <td>0.0</td>\n    </tr>\n    <tr>\n      <th>66675</th>\n      <td>1</td>\n      <td>24.931507</td>\n      <td>0.022260</td>\n      <td>6.618853</td>\n      <td>0.005910</td>\n      <td>24.931507</td>\n      <td>0.022260</td>\n      <td>6.618853</td>\n      <td>0.005910</td>\n      <td>15.243361</td>\n      <td>0.013610</td>\n      <td>2.243933</td>\n      <td>0.002004</td>\n      <td>0.0</td>\n      <td>0.0</td>\n      <td>0.0</td>\n      <td>0.0</td>\n    </tr>\n    <tr>\n      <th>66676</th>\n      <td>0</td>\n      <td>104.153688</td>\n      <td>0.108607</td>\n      <td>13.420352</td>\n      <td>0.013994</td>\n      <td>104.153688</td>\n      <td>0.108607</td>\n      <td>13.420352</td>\n      <td>0.013994</td>\n      <td>0.000000</td>\n      <td>0.000000</td>\n      <td>0.000000</td>\n      <td>0.000000</td>\n      <td>0.0</td>\n      <td>0.0</td>\n      <td>0.0</td>\n      <td>0.0</td>\n    </tr>\n    <tr>\n      <th>66677</th>\n      <td>1</td>\n      <td>32.568093</td>\n      <td>0.060311</td>\n      <td>15.626323</td>\n      <td>0.028938</td>\n      <td>32.568093</td>\n      <td>0.060311</td>\n      <td>15.626323</td>\n      <td>0.028938</td>\n      <td>11.559745</td>\n      <td>0.021407</td>\n      <td>3.761015</td>\n      <td>0.006965</td>\n      <td>0.0</td>\n      <td>0.0</td>\n      <td>0.0</td>\n      <td>0.0</td>\n    </tr>\n  </tbody>\n</table>\n<p>350 rows × 17 columns</p>\n</div>"
     },
     "metadata": {},
     "execution_count": 8
    }
   ],
   "source": [
    "# Create new df with select feature columns\n",
    "food_desert_df = food_austin_df[[\"LILATracts_1And10\", \"lasnaphalf\", \"lasnaphalfshare\", \"lahunvhalf\", \"lahunvhalfshare\", \"lasnap1\", \"lasnap1share\", \"lahunv1\", \"lahunv1share\", \"lasnap10\", \"lasnap10share\", \"lahunv10\", \"lahunv10share\", \"lasnap20\", \"lasnap20share\",  \"lahunv20\", \"lahunv20share\"]]\n",
    "food_desert_df"
   ]
  },
  {
   "cell_type": "code",
   "execution_count": null,
   "metadata": {},
   "outputs": [],
   "source": [
    "# print(food_desert_df)"
   ]
  },
  {
   "cell_type": "code",
   "execution_count": null,
   "metadata": {},
   "outputs": [],
   "source": []
  },
  {
   "source": [
    "## SQLite database"
   ],
   "cell_type": "markdown",
   "metadata": {}
  },
  {
   "cell_type": "code",
   "execution_count": 9,
   "metadata": {},
   "outputs": [
    {
     "output_type": "stream",
     "name": "stdout",
     "text": [
      "2020-12-18 19:31:10,679 INFO sqlalchemy.engine.base.Engine SELECT CAST('test plain returns' AS VARCHAR(60)) AS anon_1\n",
      "2020-12-18 19:31:10,682 INFO sqlalchemy.engine.base.Engine ()\n",
      "2020-12-18 19:31:10,684 INFO sqlalchemy.engine.base.Engine SELECT CAST('test unicode returns' AS VARCHAR(60)) AS anon_1\n",
      "2020-12-18 19:31:10,685 INFO sqlalchemy.engine.base.Engine ()\n"
     ]
    }
   ],
   "source": [
    "# SQLAlchemy Create Engine, to access and query the SQLite database file\n",
    "engine = create_engine(\"sqlite:///food_desert.sqlite\", echo=True)\n",
    "sqlite_connection = engine.connect()"
   ]
  },
  {
   "cell_type": "code",
   "execution_count": null,
   "metadata": {},
   "outputs": [],
   "source": [
    "# to reflect the database into a new model\n",
    "#Base = automap_base()\n",
    "# to reflect the db tables \n",
    "#Base.prepare(engine, reflect=True)"
   ]
  },
  {
   "source": [
    "### Create the database"
   ],
   "cell_type": "markdown",
   "metadata": {}
  },
  {
   "cell_type": "code",
   "execution_count": 10,
   "metadata": {},
   "outputs": [],
   "source": [
    "# Create the database\n",
    "conn = sqlite3.connect(\"DB1.sqlite\")\n",
    "cur = conn.cursor()"
   ]
  },
  {
   "cell_type": "code",
   "execution_count": 12,
   "metadata": {},
   "outputs": [],
   "source": [
    "cur.execute('CREATE TABLE Food_desert_Austin (LILATracts_1And10, lasnaphalf, lasnaphalfshare, lahunvhalf, lahunvhalfshare, lasnap1, lasnap1share, lahunv1, lahunv1share, lasnap10, lasnap10share, lahunv10, lahunv10share, lasnap20, lasnap20share,  lahunv20, lahunv20share)')\n",
    "conn.commit()"
   ]
  },
  {
   "cell_type": "code",
   "execution_count": 13,
   "metadata": {},
   "outputs": [],
   "source": [
    "# Create our session (link) from Python to the DB\n",
    "session = Session(engine)"
   ]
  },
  {
   "cell_type": "code",
   "execution_count": 14,
   "metadata": {},
   "outputs": [],
   "source": [
    "# Data from dataframe to SQLite\n",
    "food_desert_df.to_sql('Food_desert_Austin', conn, if_exists='replace')"
   ]
  },
  {
   "cell_type": "code",
   "execution_count": 15,
   "metadata": {},
   "outputs": [
    {
     "output_type": "execute_result",
     "data": {
      "text/plain": [
       "<sqlite3.Cursor at 0x17f8003e110>"
      ]
     },
     "metadata": {},
     "execution_count": 15
    }
   ],
   "source": [
    "cur.execute('''SELECT * FROM Food_desert_Austin''')"
   ]
  },
  {
   "cell_type": "code",
   "execution_count": 16,
   "metadata": {
    "tags": [
     "outputPrepend"
    ]
   },
   "outputs": [
    {
     "output_type": "stream",
     "name": "stdout",
     "text": [
      ".07144449999998, 0.10381418199999999, 48.538971000000004, 0.019755381000000002, 1.7798392769999998, 0.000724395, 0.0, 0.0, 0.0, 0.0, 0.0, 0.0, 0.0, 0.0)\n(66339, 0, 113.0478145, 0.044263044, 84.69485295, 0.03316165, 0.0, 0.0, 0.0, 0.0, 0.0, 0.0, 0.0, 0.0, 0.0, 0.0, 0.0, 0.0)\n(66340, 1, 330.79864530000003, 0.359955, 68.19571140000001, 0.074206432, 323.9826608, 0.35253826, 66.88980403, 0.072785423, 0.0, 0.0, 0.0, 0.0, 0.0, 0.0, 0.0, 0.0)\n(66341, 0, 344.3517653, 0.162814073, 35.7769961, 0.016915837, 14.98002571, 0.007082754, 1.272340008, 0.000601579, 0.0, 0.0, 0.0, 0.0, 0.0, 0.0, 0.0, 0.0)\n(66342, 1, 394.82307799999995, 0.20362201, 209.0910897, 0.10783449699999999, 71.55946077, 0.036905343, 37.62040336, 0.019401962, 0.0, 0.0, 0.0, 0.0, 0.0, 0.0, 0.0, 0.0)\n(66343, 0, 225.35482119999998, 0.10550319300000001, 129.7266683, 0.060733459000000004, 47.13064164, 0.022064907, 21.97454184, 0.010287707, 0.0, 0.0, 0.0, 0.0, 0.0, 0.0, 0.0, 0.0)\n(66344, 0, 73.61248472, 0.060288685, 53.68982266, 0.043972009000000006, 0.0, 0.0, 0.0, 0.0, 0.0, 0.0, 0.0, 0.0, 0.0, 0.0, 0.0, 0.0)\n(66345, 0, 0.32126156699999997, 0.00017788599999999998, 0.225418179, 0.000124816, 0.0, 0.0, 0.0, 0.0, 0.0, 0.0, 0.0, 0.0, 0.0, 0.0, 0.0, 0.0)\n(66346, 0, 219.8532997, 0.119615506, 114.45973899999998, 0.062274069, 4.313961642, 0.002347096, 2.136824884, 0.001162582, 0.0, 0.0, 0.0, 0.0, 0.0, 0.0, 0.0, 0.0)\n(66347, 0, 200.3883031, 0.09002169900000001, 101.8454732, 0.045752682999999995, 0.0, 0.0, 0.0, 0.0, 0.0, 0.0, 0.0, 0.0, 0.0, 0.0, 0.0, 0.0)\n(66348, 1, 0.0, 0.0, 0.0, 0.0, 0.0, 0.0, 0.0, 0.0, 0.0, 0.0, 0.0, 0.0, 0.0, 0.0, 0.0, 0.0)\n(66349, 0, 81.76058353, 0.025751365, 24.23399748, 0.007632755, 0.0, 0.0, 0.0, 0.0, 0.0, 0.0, 0.0, 0.0, 0.0, 0.0, 0.0, 0.0)\n(66350, 0, 59.73382143, 0.055463158, 8.453578522, 0.007849191, 0.0, 0.0, 0.0, 0.0, 0.0, 0.0, 0.0, 0.0, 0.0, 0.0, 0.0, 0.0)\n(66351, 0, 64.9102113, 0.036081273999999997, 91.90795685, 0.051088358, 63.59233378, 0.035348712000000004, 90.3310312, 0.050211802, 0.0, 0.0, 0.0, 0.0, 0.0, 0.0, 0.0, 0.0)\n(66352, 0, 82.27102813, 0.06855919, 27.88152654, 0.023234605, 0.0, 0.0, 0.0, 0.0, 0.0, 0.0, 0.0, 0.0, 0.0, 0.0, 0.0, 0.0)\n(66353, 0, 11.8748205, 0.007530006999999999, 7.342987404, 0.004656301, 0.0, 0.0, 0.0, 0.0, 0.0, 0.0, 0.0, 0.0, 0.0, 0.0, 0.0, 0.0)\n(66354, 1, 461.4101637, 0.30177250699999997, 113.30411770000002, 0.07410341200000001, 236.9559914, 0.154974488, 71.16617609999999, 0.046544262, 0.0, 0.0, 0.0, 0.0, 0.0, 0.0, 0.0, 0.0)\n(66355, 1, 308.18131689999996, 0.231541185, 20.67671441, 0.015534721999999999, 66.25746667, 0.049780215, 1.811787473, 0.001361223, 0.0, 0.0, 0.0, 0.0, 0.0, 0.0, 0.0, 0.0)\n(66356, 1, 505.8325246, 0.431229774, 95.97432606, 0.081819545, 505.8325246, 0.431229774, 95.97432606, 0.081819545, 0.0, 0.0, 0.0, 0.0, 0.0, 0.0, 0.0, 0.0)\n(66357, 0, 90.45609005, 0.050449575999999996, 52.90457839, 0.029506179, 4.895711176, 0.002730458, 2.485709712, 0.0013863410000000001, 0.0, 0.0, 0.0, 0.0, 0.0, 0.0, 0.0, 0.0)\n(66358, 0, 181.2317521, 0.055186282999999996, 127.69494329999999, 0.038883966, 68.87132797, 0.020971781000000002, 26.41196421, 0.00804262, 0.0, 0.0, 0.0, 0.0, 0.0, 0.0, 0.0, 0.0)\n(66359, 0, 155.3242183, 0.06934116900000001, 69.95134109, 0.031228277000000002, 36.73073898, 0.016397651, 14.49683116, 0.006471800000000001, 0.0, 0.0, 0.0, 0.0, 0.0, 0.0, 0.0, 0.0)\n(66360, 1, 322.04979, 0.157250874, 75.34408205, 0.036789103, 253.8882222, 0.123968859, 69.35827455, 0.033866345, 0.0, 0.0, 0.0, 0.0, 0.0, 0.0, 0.0, 0.0)\n(66361, 0, 111.5519983, 0.07996559, 54.90459517, 0.039358133, 0.6766121209999999, 0.00048502699999999996, 0.11431642800000001, 8.190000000000001e-05, 0.0, 0.0, 0.0, 0.0, 0.0, 0.0, 0.0, 0.0)\n(66362, 0, 40.20528745, 0.037893768, 5.398714657, 0.005088327, 0.32555714199999997, 0.00030684, 0.0, 0.0, 0.0, 0.0, 0.0, 0.0, 0.0, 0.0, 0.0, 0.0)\n(66363, 0, 290.8045023, 0.135889954, 0.0, 0.0, 290.8045023, 0.135889954, 0.0, 0.0, 0.0, 0.0, 0.0, 0.0, 0.0, 0.0, 0.0, 0.0)\n(66364, 1, 309.2760489, 0.132338917, 84.34558051, 0.036091391, 64.59823466, 0.027641521000000002, 30.18227919, 0.012914968, 0.0, 0.0, 0.0, 0.0, 0.0, 0.0, 0.0, 0.0)\n(66365, 0, 263.72416749999996, 0.10812799, 67.50689221, 0.027678103, 194.5502059, 0.079766382, 41.70823006, 0.017100545, 0.0, 0.0, 0.0, 0.0, 0.0, 0.0, 0.0, 0.0)\n(66366, 0, 0.0, 0.0, 0.0, 0.0, 0.0, 0.0, 0.0, 0.0, 0.0, 0.0, 0.0, 0.0, 0.0, 0.0, 0.0, 0.0)\n(66367, 1, 262.90490409999995, 0.27300613100000004, 25.11377182, 0.026078683, 167.0103806, 0.173427186, 25.11377182, 0.026078683, 0.0, 0.0, 0.0, 0.0, 0.0, 0.0, 0.0, 0.0)\n(66368, 0, 394.40534180000003, 0.183786273, 81.98593943, 0.038204072, 384.6301268, 0.179231187, 78.34676386, 0.036508278, 0.0, 0.0, 0.0, 0.0, 0.0, 0.0, 0.0, 0.0)\n(66369, 0, 149.7833255, 0.248809511, 44.536926799999996, 0.07398160599999999, 143.74259419999998, 0.238775073, 44.03459939, 0.073147175, 0.0, 0.0, 0.0, 0.0, 0.0, 0.0, 0.0, 0.0)\n(66370, 0, 274.4374702, 0.160021848, 65.97998418, 0.038472294, 274.4374702, 0.160021848, 65.97998418, 0.038472294, 0.0, 0.0, 0.0, 0.0, 0.0, 0.0, 0.0, 0.0)\n(66371, 0, 85.37640384, 0.170411984, 21.57865147, 0.043071161, 85.36889898, 0.170397004, 21.57675463, 0.043067375, 0.0, 0.0, 0.0, 0.0, 0.0, 0.0, 0.0, 0.0)\n(66372, 0, 552.9525213, 0.269864578, 43.16072868, 0.021064289, 549.6216289, 0.26823896, 43.06942661, 0.02101973, 0.0, 0.0, 0.0, 0.0, 0.0, 0.0, 0.0, 0.0)\n(66373, 0, 220.4082747, 0.281133003, 39.97041266, 0.050982669, 213.03268590000002, 0.271725365, 38.63287066, 0.049276621, 0.0, 0.0, 0.0, 0.0, 0.0, 0.0, 0.0, 0.0)\n(66374, 0, 76.53561696, 0.028483667999999997, 192.62794409999998, 0.071688852, 42.6519413, 0.015873443, 104.2491132, 0.038797586, 0.0, 0.0, 0.0, 0.0, 0.0, 0.0, 0.0, 0.0)\n(66375, 0, 0.0, 0.0, 0.0, 0.0, 0.0, 0.0, 0.0, 0.0, 0.0, 0.0, 0.0, 0.0, 0.0, 0.0, 0.0, 0.0)\n(66589, 0, 15.97034455, 0.008722198, 14.76851036, 0.008065817, 15.69170251, 0.008570018, 14.47676324, 0.007906479000000001, 0.0, 0.0, 0.0, 0.0, 0.0, 0.0, 0.0, 0.0)\n(66590, 0, 12.47183095, 0.009859155, 23.56811134, 0.018630918, 12.47183095, 0.009859155, 23.56811134, 0.018630918, 0.0, 0.0, 0.0, 0.0, 0.0, 0.0, 0.0, 0.0)\n(66591, 0, 0.0, 0.0, 60.09230057, 0.021129501000000002, 0.0, 0.0, 60.09230057, 0.021129501000000002, 0.0, 0.0, 0.0, 0.0, 0.0, 0.0, 0.0, 0.0)\n(66592, 0, 0.0, 0.0, 115.38644620000001, 0.097126638, 0.0, 0.0, 42.6792365, 0.035925282999999995, 0.0, 0.0, 0.0, 0.0, 0.0, 0.0, 0.0, 0.0)\n(66593, 0, 20.75466938, 0.019164053, 0.0, 0.0, 19.27746924, 0.017800063999999997, 0.0, 0.0, 0.0, 0.0, 0.0, 0.0, 0.0, 0.0, 0.0, 0.0)\n(66594, 0, 46.42440689, 0.03464508, 77.16996887, 0.057589529, 24.36952095, 0.01818621, 16.43806825, 0.012267215, 0.0, 0.0, 0.0, 0.0, 0.0, 0.0, 0.0, 0.0)\n(66595, 0, 58.88210912, 0.04898678, 8.270795843, 0.006880862, 34.68840881, 0.028858909, 0.841552312, 0.0007001269999999999, 0.0, 0.0, 0.0, 0.0, 0.0, 0.0, 0.0, 0.0)\n(66596, 0, 11.41492444, 0.010638327, 8.730007244, 0.008136074, 10.30434805, 0.009603307, 7.998913306, 0.007454719, 0.0, 0.0, 0.0, 0.0, 0.0, 0.0, 0.0, 0.0)\n(66597, 0, 56.3342809, 0.053397423, 34.1278734, 0.032348695, 32.49090216, 0.030797064, 0.6433094739999999, 0.000609772, 0.0, 0.0, 0.0, 0.0, 0.0, 0.0, 0.0, 0.0)\n(66598, 1, 112.9517725, 0.059168032, 132.1649223, 0.06923254200000001, 52.46542521, 0.027483197999999997, 53.65399135, 0.02810581, 0.0, 0.0, 0.0, 0.0, 0.0, 0.0, 0.0, 0.0)\n(66599, 0, 0.0, 0.0, 59.04473479, 0.062947478, 0.0, 0.0, 7.660495574, 0.00816684, 0.0, 0.0, 0.0, 0.0, 0.0, 0.0, 0.0, 0.0)\n(66600, 1, 31.56085517, 0.050986842000000004, 15.42173404, 0.024913947999999998, 31.56085517, 0.050986842000000004, 15.42173404, 0.024913947999999998, 26.684789600000002, 0.043109515, 10.00178862, 0.016157978, 0.0, 0.0, 0.0, 0.0)\n(66601, 0, 161.6656816, 0.09509746, 64.74345767, 0.038084387000000004, 161.6656816, 0.09509746, 64.74345767, 0.038084387000000004, 56.53349173, 0.033254995, 22.33600927, 0.013138829, 0.0, 0.0, 0.0, 0.0)\n(66602, 0, 3.729268241, 0.002439024, 9.168039392, 0.005996102, 3.729268241, 0.002439024, 9.168039392, 0.005996102, 0.0, 0.0, 0.0, 0.0, 0.0, 0.0, 0.0, 0.0)\n(66603, 0, 86.75115125, 0.049374588, 21.73677223, 0.012371527, 86.75115125, 0.049374588, 21.73677223, 0.012371527, 30.966283699999998, 0.017624521, 5.198686412, 0.002958843, 0.0, 0.0, 0.0, 0.0)\n(66604, 0, 62.37285001, 0.031613203, 65.13651098, 0.033013943999999996, 62.37285001, 0.031613203, 65.13651098, 0.033013943999999996, 10.03118424, 0.005084229, 2.837444343, 0.0014381370000000001, 0.0, 0.0, 0.0, 0.0)\n(66605, 0, 35.76617683, 0.03396598, 10.6709636, 0.010133869, 34.18687312, 0.032466166, 10.01234716, 0.009508401999999999, 0.0, 0.0, 0.0, 0.0, 0.0, 0.0, 0.0, 0.0)\n(66606, 0, 8.517920387, 0.009309203, 7.098461047000001, 0.0077578809999999995, 5.022150435, 0.005488689000000001, 4.650287594, 0.0050822820000000005, 0.0, 0.0, 0.0, 0.0, 0.0, 0.0, 0.0, 0.0)\n(66607, 0, 10.79063208, 0.009457171, 11.18225852, 0.009800402, 1.18694989, 0.001040272, 2.8330713210000003, 0.002482972, 0.0, 0.0, 0.0, 0.0, 0.0, 0.0, 0.0, 0.0)\n(66608, 0, 255.9133067, 0.113840439, 31.14329999, 0.013853781, 183.9112626, 0.08181106, 19.02884218, 0.008464787, 0.0, 0.0, 0.0, 0.0, 0.0, 0.0, 0.0, 0.0)\n(66609, 0, 112.7174625, 0.036185381, 40.34688920000001, 0.012952452, 6.479037158, 0.002079948, 0.0, 0.0, 0.0, 0.0, 0.0, 0.0, 0.0, 0.0, 0.0, 0.0)\n(66610, 0, 70.8468064, 0.044362434000000006, 0.0, 0.0, 41.004889500000004, 0.025676199, 0.0, 0.0, 0.0, 0.0, 0.0, 0.0, 0.0, 0.0, 0.0, 0.0)\n(66611, 0, 45.74680809, 0.032676291, 0.0, 0.0, 39.764049799999995, 0.028402893, 0.0, 0.0, 0.0, 0.0, 0.0, 0.0, 0.0, 0.0, 0.0, 0.0)\n(66612, 0, 127.5237512, 0.103174556, 34.36690433, 0.027804939, 0.0, 0.0, 0.0, 0.0, 0.0, 0.0, 0.0, 0.0, 0.0, 0.0, 0.0, 0.0)\n(66613, 0, 43.95115672, 0.034097096, 12.98849635, 0.010076413000000001, 8.097352054, 0.006281887, 2.842844935, 0.002205465, 0.0, 0.0, 0.0, 0.0, 0.0, 0.0, 0.0, 0.0)\n(66614, 0, 105.66882269999999, 0.031741911, 46.13693482, 0.013859096999999999, 0.10401846199999999, 3.12e-05, 0.0, 0.0, 0.0, 0.0, 0.0, 0.0, 0.0, 0.0, 0.0, 0.0)\n(66615, 0, 74.40421731, 0.049209138, 17.9910718, 0.011898856999999999, 74.40421731, 0.049209138, 17.9910718, 0.011898856999999999, 0.0, 0.0, 0.0, 0.0, 0.0, 0.0, 0.0, 0.0)\n(66616, 0, 54.14677242, 0.023090307999999997, 0.0, 0.0, 41.90217498, 0.017868731000000002, 0.0, 0.0, 0.0, 0.0, 0.0, 0.0, 0.0, 0.0, 0.0, 0.0)\n(66617, 1, 65.1559939, 0.10180624, 17.848837399999997, 0.027888807999999998, 65.1559939, 0.10180624, 17.848837399999997, 0.027888807999999998, 0.0, 0.0, 0.0, 0.0, 0.0, 0.0, 0.0, 0.0)\n(66618, 0, 221.19584480000003, 0.07105552400000001, 15.48404164, 0.0049739929999999995, 90.64447239, 0.029118044, 3.5413584989999998, 0.001137603, 0.0, 0.0, 0.0, 0.0, 0.0, 0.0, 0.0, 0.0)\n(66619, 0, 58.70370471, 0.061728396, 5.632390849, 0.005922598, 58.70370471, 0.061728396, 5.632390849, 0.005922598, 0.0, 0.0, 0.0, 0.0, 0.0, 0.0, 0.0, 0.0)\n(66620, 0, 123.17241259999999, 0.067528735, 10.46315765, 0.00573638, 123.17241259999999, 0.067528735, 10.46315765, 0.00573638, 0.0, 0.0, 0.0, 0.0, 0.0, 0.0, 0.0, 0.0)\n(66621, 1, 181.89512539999998, 0.202330507, 89.82321234, 0.099914585, 171.71012869999998, 0.191001255, 87.05423092, 0.096834517, 0.0, 0.0, 0.0, 0.0, 0.0, 0.0, 0.0, 0.0)\n(66622, 0, 18.75680514, 0.009748859, 28.32704125, 0.014722994, 6.733070757999999, 0.003499517, 12.283954800000002, 0.006384592, 0.0, 0.0, 0.0, 0.0, 0.0, 0.0, 0.0, 0.0)\n(66623, 0, 60.88935582, 0.07138259799999999, 0.0, 0.0, 12.82796998, 0.015038652, 0.0, 0.0, 0.0, 0.0, 0.0, 0.0, 0.0, 0.0, 0.0, 0.0)\n(66624, 0, 136.59188669999998, 0.05956907400000001, 120.23411499999999, 0.052435288, 99.14655098, 0.043238792000000005, 63.36458839, 0.027633924, 0.0, 0.0, 0.0, 0.0, 0.0, 0.0, 0.0, 0.0)\n(66625, 0, 33.10192418, 0.045407302999999996, 25.497842600000002, 0.034976464, 0.0, 0.0, 0.0, 0.0, 0.0, 0.0, 0.0, 0.0, 0.0, 0.0, 0.0, 0.0)\n(66626, 0, 62.50327355, 0.04692438, 6.132465391, 0.004603953, 0.0, 0.0, 0.0, 0.0, 0.0, 0.0, 0.0, 0.0, 0.0, 0.0, 0.0, 0.0)\n(66627, 0, 245.80050559999998, 0.089317044, 102.68106879999999, 0.037311435, 74.45121988, 0.027053496, 41.76204444, 0.015175161000000001, 0.0, 0.0, 0.0, 0.0, 0.0, 0.0, 0.0, 0.0)\n(66628, 1, 104.187226, 0.030697474, 151.8215689, 0.044732342, 48.03720652, 0.014153566999999999, 72.22473363, 0.021280122000000002, 0.0, 0.0, 0.0, 0.0, 0.0, 0.0, 0.0, 0.0)\n(66629, 0, 151.4308658, 0.073617339, 102.7588679, 0.049955697, 46.88749002, 0.022794112999999998, 4.043743492, 0.001965845, 0.0, 0.0, 0.0, 0.0, 0.0, 0.0, 0.0, 0.0)\n(66630, 0, 127.05302749999998, 0.070389489, 21.83346137, 0.0120961, 117.8007176, 0.065263555, 18.91472697, 0.010479073, 0.0, 0.0, 0.0, 0.0, 0.0, 0.0, 0.0, 0.0)\n(66631, 0, 53.42666792, 0.021302499, 136.7197949, 0.054513475, 4.367929258, 0.001741599, 0.0, 0.0, 0.0, 0.0, 0.0, 0.0, 0.0, 0.0, 0.0, 0.0)\n(66632, 0, 11.66048248, 0.005565863000000001, 44.98343318, 0.021471806, 7.486971409, 0.003573733, 43.49559563, 0.020761621, 0.0, 0.0, 0.0, 0.0, 0.0, 0.0, 0.0, 0.0)\n(66633, 0, 88.52267584, 0.049787782, 48.71305121, 0.027397667, 15.36626375, 0.008642443, 11.16450198, 0.006279247, 0.0, 0.0, 0.0, 0.0, 0.0, 0.0, 0.0, 0.0)\n(66634, 1, 418.231877, 0.117579949, 59.66798988, 0.016774807, 119.00313600000001, 0.03345604, 0.0, 0.0, 0.0, 0.0, 0.0, 0.0, 0.0, 0.0, 0.0, 0.0)\n(66635, 0, 35.44152731, 0.039379475, 0.0, 0.0, 22.35723309, 0.02484137, 0.0, 0.0, 0.0, 0.0, 0.0, 0.0, 0.0, 0.0, 0.0, 0.0)\n(66636, 0, 105.6119301, 0.040019677999999996, 46.46905596, 0.017608585, 34.52372146, 0.013082123000000001, 18.73245544, 0.0070983159999999995, 0.0, 0.0, 0.0, 0.0, 0.0, 0.0, 0.0, 0.0)\n(66637, 0, 9.024773439, 0.007687200999999999, 0.0, 0.0, 1.131995996, 0.000964221, 0.0, 0.0, 0.0, 0.0, 0.0, 0.0, 0.0, 0.0, 0.0, 0.0)\n(66638, 0, 179.9500549, 0.083156218, 49.69479111, 0.022964321, 149.68891069999998, 0.069172325, 40.46288662, 0.018698192, 0.0, 0.0, 0.0, 0.0, 0.0, 0.0, 0.0, 0.0)\n(66639, 0, 16.34042561, 0.007400555, 0.0, 0.0, 16.33435677, 0.007397806999999999, 0.0, 0.0, 0.0, 0.0, 0.0, 0.0, 0.0, 0.0, 0.0, 0.0)\n(66640, 0, 83.70325699, 0.027141134, 60.63747785, 0.019661958, 82.56395815, 0.026771711, 58.28852578, 0.0189003, 0.0, 0.0, 0.0, 0.0, 0.0, 0.0, 0.0, 0.0)\n(66641, 0, 86.11422883, 0.050008263, 73.27161064, 0.042550297, 56.73458072, 0.032946911, 60.33120589, 0.035035542999999995, 0.0, 0.0, 0.0, 0.0, 0.0, 0.0, 0.0, 0.0)\n(66642, 0, 0.0, 0.0, 107.84531070000001, 0.042492242, 0.0, 0.0, 56.35956723, 0.022206291, 0.0, 0.0, 0.0, 0.0, 0.0, 0.0, 0.0, 0.0)\n(66643, 0, 48.49621552, 0.03081081, 0.0, 0.0, 37.09253428, 0.023565778, 0.0, 0.0, 0.0, 0.0, 0.0, 0.0, 0.0, 0.0, 0.0, 0.0)\n(66644, 0, 44.06021841, 0.02038881, 0.0, 0.0, 44.06021841, 0.02038881, 0.0, 0.0, 0.0, 0.0, 0.0, 0.0, 0.0, 0.0, 0.0, 0.0)\n(66645, 0, 75.70008654, 0.08544027800000001, 29.36672526, 0.033145287999999995, 0.0, 0.0, 0.0, 0.0, 0.0, 0.0, 0.0, 0.0, 0.0, 0.0, 0.0, 0.0)\n(66646, 0, 111.6006404, 0.030914305, 64.75032264, 0.017936377, 17.13374118, 0.0047461890000000005, 0.22756036600000001, 6.3e-05, 0.0, 0.0, 0.0, 0.0, 0.0, 0.0, 0.0, 0.0)\n(66647, 0, 196.46553600000001, 0.088418333, 46.03999779, 0.020720071, 0.0, 0.0, 0.0, 0.0, 0.0, 0.0, 0.0, 0.0, 0.0, 0.0, 0.0, 0.0)\n(66648, 0, 43.03196342, 0.037582501000000004, 32.28329702, 0.028195018999999998, 17.86736919, 0.015604689, 17.19747693, 0.015019631, 0.0, 0.0, 0.0, 0.0, 0.0, 0.0, 0.0, 0.0)\n(66649, 0, 139.8605124, 0.08222252299999999, 48.32091621, 0.028407357999999997, 0.0, 0.0, 0.0, 0.0, 0.0, 0.0, 0.0, 0.0, 0.0, 0.0, 0.0, 0.0)\n(66650, 0, 62.09910184, 0.027224507999999998, 15.00879589, 0.006579919, 16.50624715, 0.007236408000000001, 0.89605542, 0.000392834, 0.0, 0.0, 0.0, 0.0, 0.0, 0.0, 0.0, 0.0)\n(66651, 0, 88.82456214, 0.06331045099999999, 35.46153813, 0.025275508, 75.82055534, 0.05404173599999999, 35.46153813, 0.025275508, 0.0, 0.0, 0.0, 0.0, 0.0, 0.0, 0.0, 0.0)\n(66652, 0, 10.70944112, 0.0040035290000000005, 44.75851447, 0.016732155, 8.028912, 0.0030014620000000003, 34.52030494, 0.012904787, 0.0, 0.0, 0.0, 0.0, 0.0, 0.0, 0.0, 0.0)\n(66653, 0, 64.15608033, 0.031760436, 0.0, 0.0, 64.15608033, 0.031760436, 0.0, 0.0, 0.0, 0.0, 0.0, 0.0, 0.0, 0.0, 0.0, 0.0)\n(66654, 0, 10.34659598, 0.015215582, 11.89776338, 0.017496711, 9.118743775, 0.013409917, 11.63037651, 0.017103495, 0.0, 0.0, 0.0, 0.0, 0.0, 0.0, 0.0, 0.0)\n(66655, 0, 70.80442746, 0.033210332, 19.70173083, 0.009240962, 70.80442746, 0.033210332, 19.70173083, 0.009240962, 0.0, 0.0, 0.0, 0.0, 0.0, 0.0, 0.0, 0.0)\n(66656, 0, 81.88779424, 0.14366279699999998, 39.63925327, 0.06954255, 80.99876305, 0.142103093, 38.88090348, 0.06821211099999999, 0.0, 0.0, 0.0, 0.0, 0.0, 0.0, 0.0, 0.0)\n(66657, 0, 216.2052012, 0.11512524, 6.644347786, 0.003537991, 216.2052012, 0.11512524, 6.644347786, 0.003537991, 0.0, 0.0, 0.0, 0.0, 0.0, 0.0, 0.0, 0.0)\n(66658, 0, 167.30473769999998, 0.099231754, 61.99255182, 0.036769011000000004, 167.2558928, 0.099202783, 61.976974899999995, 0.036759772, 31.179387199999997, 0.018493112, 6.1001830120000005, 0.0036181390000000003, 0.0, 0.0, 0.0, 0.0)\n(66659, 1, 354.253765, 0.375268819, 85.27476194, 0.090333434, 354.253765, 0.375268819, 85.27476194, 0.090333434, 0.0, 0.0, 0.0, 0.0, 0.0, 0.0, 0.0, 0.0)\n(66660, 1, 126.1838241, 0.137605043, 37.20512872, 0.040572659, 126.1838241, 0.137605043, 37.20512872, 0.040572659, 0.0, 0.0, 0.0, 0.0, 0.0, 0.0, 0.0, 0.0)\n(66661, 0, 24.86553876, 0.023152271000000002, 35.06000025, 0.032644321000000004, 24.34240153, 0.022665177999999998, 34.56067503, 0.032179399, 0.0, 0.0, 0.0, 0.0, 0.0, 0.0, 0.0, 0.0)\n(66662, 0, 78.92335032, 0.065010997, 16.06807203, 0.013235644, 28.6838287, 0.023627536, 5.224546596000001, 0.00430358, 0.0, 0.0, 0.0, 0.0, 0.0, 0.0, 0.0, 0.0)\n(66663, 1, 236.595834, 0.234718089, 83.3035048, 0.082642366, 127.2635251, 0.126253497, 72.08116507, 0.071509092, 0.0, 0.0, 0.0, 0.0, 0.0, 0.0, 0.0, 0.0)\n(66664, 1, 158.1899044, 0.117788462, 57.001825, 0.042443652000000005, 158.1899044, 0.117788462, 57.001825, 0.042443652000000005, 56.89623582, 0.04236503, 11.8653602, 0.008834966999999999, 0.0, 0.0, 0.0, 0.0)\n(66665, 0, 91.03689724, 0.038027108, 40.98128584, 0.017118332, 87.89319691, 0.03671395, 40.98128584, 0.017118332, 0.0, 0.0, 0.0, 0.0, 0.0, 0.0, 0.0, 0.0)\n(66666, 0, 187.6097574, 0.122380794, 121.03774059999999, 0.078954821, 11.3676255, 0.007415281, 12.17566899, 0.00794238, 0.0, 0.0, 0.0, 0.0, 0.0, 0.0, 0.0, 0.0)\n(66667, 1, 81.01840453, 0.071319018, 31.46956266, 0.02770208, 81.01840453, 0.071319018, 31.46956266, 0.02770208, 0.0, 0.0, 0.0, 0.0, 0.0, 0.0, 0.0, 0.0)\n(66668, 1, 276.4195053, 0.171263634, 22.21124181, 0.013761612, 275.0303048, 0.170402915, 22.1286014, 0.01371041, 0.0, 0.0, 0.0, 0.0, 0.0, 0.0, 0.0, 0.0)\n(66669, 1, 236.35861630000002, 0.149216298, 91.09366917, 0.05750863, 83.39238156, 0.052646705999999995, 28.8963533, 0.018242647, 0.0, 0.0, 0.0, 0.0, 0.0, 0.0, 0.0, 0.0)\n(66670, 0, 0.0, 0.0, 55.40298576, 0.027211682999999997, 0.0, 0.0, 55.40298576, 0.027211682999999997, 0.0, 0.0, 0.0, 0.0, 0.0, 0.0, 0.0, 0.0)\n(66671, 0, 190.6017779, 0.076886558, 4.066530088, 0.0016403910000000002, 74.73798371, 0.03014844, 0.051224161, 2.07e-05, 0.0, 0.0, 0.0, 0.0, 0.0, 0.0, 0.0, 0.0)\n(66672, 0, 26.35005039, 0.027081243999999997, 3.2837837530000002, 0.0033749059999999996, 21.49832674, 0.022094889, 3.1151941830000003, 0.0032016379999999997, 0.0, 0.0, 0.0, 0.0, 0.0, 0.0, 0.0, 0.0)\n(66673, 0, 253.2692972, 0.076911417, 147.346423, 0.044745346, 200.1574686, 0.060782710999999996, 94.09253878, 0.028573501, 0.0, 0.0, 0.0, 0.0, 0.0, 0.0, 0.0, 0.0)\n(66674, 0, 65.46147629, 0.027252903999999998, 3.168105637, 0.001318945, 37.48612878, 0.015606215, 0.34638583799999995, 0.000144207, 0.0, 0.0, 0.0, 0.0, 0.0, 0.0, 0.0, 0.0)\n(66675, 1, 24.93150665, 0.022260274, 6.618852562000001, 0.00590969, 24.93150665, 0.022260274, 6.618852562000001, 0.00590969, 15.243361499999999, 0.013610144, 2.243933201, 0.0020035120000000003, 0.0, 0.0, 0.0, 0.0)\n(66676, 0, 104.1536881, 0.10860655699999999, 13.42035173, 0.01399411, 104.1536881, 0.10860655699999999, 13.42035173, 0.01399411, 0.0, 0.0, 0.0, 0.0, 0.0, 0.0, 0.0, 0.0)\n(66677, 1, 32.56809308, 0.060311283, 15.62632346, 0.028937636, 32.56809308, 0.060311283, 15.62632346, 0.028937636, 11.55974514, 0.021406935, 3.76101533, 0.006964843, 0.0, 0.0, 0.0, 0.0)\n"
     ]
    }
   ],
   "source": [
    "for row in cur.fetchall():\n",
    "    print(row)"
   ]
  },
  {
   "cell_type": "code",
   "execution_count": null,
   "metadata": {},
   "outputs": [],
   "source": [
    "# From SQLite to DataFrame\n",
    "# food_desert2_df = pd.DataFrame(cur.fetchall(), columns=['LILATracts_1And10', 'lasnaphalf', 'lasnaphalfshare', 'lahunvhalf', 'lahunvhalfshare', 'lasnap1', 'lasnap1share', 'lahunv1', 'lahunv1share', 'lasnap10', 'lasnap10share', 'lahunv10', 'lahunv10share', 'lasnap20', 'lasnap20share',  'lahunv20', 'lahunv20share'])\n",
    "# print(food_desert2_df)"
   ]
  },
  {
   "cell_type": "code",
   "execution_count": 17,
   "metadata": {},
   "outputs": [],
   "source": [
    "# Creating a new dataframe from the SQLite database table.\n",
    "food_desert_Austin_df = pd.read_sql_query(\"SELECT * FROM Food_desert_Austin\", conn)"
   ]
  },
  {
   "cell_type": "code",
   "execution_count": 18,
   "metadata": {},
   "outputs": [
    {
     "output_type": "execute_result",
     "data": {
      "text/plain": [
       "     index  LILATracts_1And10  lasnaphalf  lasnaphalfshare  lahunvhalf  \\\n",
       "0    61529                  0  325.133846         0.106149   48.548857   \n",
       "1    61530                  1  368.584869         0.140413  120.671667   \n",
       "2    61531                  0  590.025451         0.124636  100.788957   \n",
       "3    61532                  0  241.111748         0.077106  191.810180   \n",
       "4    61533                  0  307.709167         0.141932  144.460704   \n",
       "..     ...                ...         ...              ...         ...   \n",
       "345  66673                  0  253.269297         0.076911  147.346423   \n",
       "346  66674                  0   65.461476         0.027253    3.168106   \n",
       "347  66675                  1   24.931507         0.022260    6.618853   \n",
       "348  66676                  0  104.153688         0.108607   13.420352   \n",
       "349  66677                  1   32.568093         0.060311   15.626323   \n",
       "\n",
       "     lahunvhalfshare     lasnap1  lasnap1share     lahunv1  lahunv1share  \\\n",
       "0           0.015850  319.907937      0.104443   47.889963      0.015635   \n",
       "1           0.045970  233.501673      0.088953   81.658810      0.031108   \n",
       "2           0.021290  549.545092      0.116085   84.946165      0.017944   \n",
       "3           0.061340  188.984455      0.060436  114.453080      0.036602   \n",
       "4           0.066633  307.703411      0.141930  144.458152      0.066632   \n",
       "..               ...         ...           ...         ...           ...   \n",
       "345         0.044745  200.157469      0.060783   94.092539      0.028574   \n",
       "346         0.001319   37.486129      0.015606    0.346386      0.000144   \n",
       "347         0.005910   24.931507      0.022260    6.618853      0.005910   \n",
       "348         0.013994  104.153688      0.108607   13.420352      0.013994   \n",
       "349         0.028938   32.568093      0.060311   15.626323      0.028938   \n",
       "\n",
       "      lasnap10  lasnap10share  lahunv10  lahunv10share  lasnap20  \\\n",
       "0     5.159378       0.001684  0.922672       0.000301       0.0   \n",
       "1     0.000000       0.000000  0.000000       0.000000       0.0   \n",
       "2    48.577263       0.010261  8.752010       0.001849       0.0   \n",
       "3     0.000000       0.000000  0.000000       0.000000       0.0   \n",
       "4     0.000000       0.000000  0.000000       0.000000       0.0   \n",
       "..         ...            ...       ...            ...       ...   \n",
       "345   0.000000       0.000000  0.000000       0.000000       0.0   \n",
       "346   0.000000       0.000000  0.000000       0.000000       0.0   \n",
       "347  15.243361       0.013610  2.243933       0.002004       0.0   \n",
       "348   0.000000       0.000000  0.000000       0.000000       0.0   \n",
       "349  11.559745       0.021407  3.761015       0.006965       0.0   \n",
       "\n",
       "     lasnap20share  lahunv20  lahunv20share  \n",
       "0              0.0       0.0            0.0  \n",
       "1              0.0       0.0            0.0  \n",
       "2              0.0       0.0            0.0  \n",
       "3              0.0       0.0            0.0  \n",
       "4              0.0       0.0            0.0  \n",
       "..             ...       ...            ...  \n",
       "345            0.0       0.0            0.0  \n",
       "346            0.0       0.0            0.0  \n",
       "347            0.0       0.0            0.0  \n",
       "348            0.0       0.0            0.0  \n",
       "349            0.0       0.0            0.0  \n",
       "\n",
       "[350 rows x 18 columns]"
      ],
      "text/html": "<div>\n<style scoped>\n    .dataframe tbody tr th:only-of-type {\n        vertical-align: middle;\n    }\n\n    .dataframe tbody tr th {\n        vertical-align: top;\n    }\n\n    .dataframe thead th {\n        text-align: right;\n    }\n</style>\n<table border=\"1\" class=\"dataframe\">\n  <thead>\n    <tr style=\"text-align: right;\">\n      <th></th>\n      <th>index</th>\n      <th>LILATracts_1And10</th>\n      <th>lasnaphalf</th>\n      <th>lasnaphalfshare</th>\n      <th>lahunvhalf</th>\n      <th>lahunvhalfshare</th>\n      <th>lasnap1</th>\n      <th>lasnap1share</th>\n      <th>lahunv1</th>\n      <th>lahunv1share</th>\n      <th>lasnap10</th>\n      <th>lasnap10share</th>\n      <th>lahunv10</th>\n      <th>lahunv10share</th>\n      <th>lasnap20</th>\n      <th>lasnap20share</th>\n      <th>lahunv20</th>\n      <th>lahunv20share</th>\n    </tr>\n  </thead>\n  <tbody>\n    <tr>\n      <th>0</th>\n      <td>61529</td>\n      <td>0</td>\n      <td>325.133846</td>\n      <td>0.106149</td>\n      <td>48.548857</td>\n      <td>0.015850</td>\n      <td>319.907937</td>\n      <td>0.104443</td>\n      <td>47.889963</td>\n      <td>0.015635</td>\n      <td>5.159378</td>\n      <td>0.001684</td>\n      <td>0.922672</td>\n      <td>0.000301</td>\n      <td>0.0</td>\n      <td>0.0</td>\n      <td>0.0</td>\n      <td>0.0</td>\n    </tr>\n    <tr>\n      <th>1</th>\n      <td>61530</td>\n      <td>1</td>\n      <td>368.584869</td>\n      <td>0.140413</td>\n      <td>120.671667</td>\n      <td>0.045970</td>\n      <td>233.501673</td>\n      <td>0.088953</td>\n      <td>81.658810</td>\n      <td>0.031108</td>\n      <td>0.000000</td>\n      <td>0.000000</td>\n      <td>0.000000</td>\n      <td>0.000000</td>\n      <td>0.0</td>\n      <td>0.0</td>\n      <td>0.0</td>\n      <td>0.0</td>\n    </tr>\n    <tr>\n      <th>2</th>\n      <td>61531</td>\n      <td>0</td>\n      <td>590.025451</td>\n      <td>0.124636</td>\n      <td>100.788957</td>\n      <td>0.021290</td>\n      <td>549.545092</td>\n      <td>0.116085</td>\n      <td>84.946165</td>\n      <td>0.017944</td>\n      <td>48.577263</td>\n      <td>0.010261</td>\n      <td>8.752010</td>\n      <td>0.001849</td>\n      <td>0.0</td>\n      <td>0.0</td>\n      <td>0.0</td>\n      <td>0.0</td>\n    </tr>\n    <tr>\n      <th>3</th>\n      <td>61532</td>\n      <td>0</td>\n      <td>241.111748</td>\n      <td>0.077106</td>\n      <td>191.810180</td>\n      <td>0.061340</td>\n      <td>188.984455</td>\n      <td>0.060436</td>\n      <td>114.453080</td>\n      <td>0.036602</td>\n      <td>0.000000</td>\n      <td>0.000000</td>\n      <td>0.000000</td>\n      <td>0.000000</td>\n      <td>0.0</td>\n      <td>0.0</td>\n      <td>0.0</td>\n      <td>0.0</td>\n    </tr>\n    <tr>\n      <th>4</th>\n      <td>61533</td>\n      <td>0</td>\n      <td>307.709167</td>\n      <td>0.141932</td>\n      <td>144.460704</td>\n      <td>0.066633</td>\n      <td>307.703411</td>\n      <td>0.141930</td>\n      <td>144.458152</td>\n      <td>0.066632</td>\n      <td>0.000000</td>\n      <td>0.000000</td>\n      <td>0.000000</td>\n      <td>0.000000</td>\n      <td>0.0</td>\n      <td>0.0</td>\n      <td>0.0</td>\n      <td>0.0</td>\n    </tr>\n    <tr>\n      <th>...</th>\n      <td>...</td>\n      <td>...</td>\n      <td>...</td>\n      <td>...</td>\n      <td>...</td>\n      <td>...</td>\n      <td>...</td>\n      <td>...</td>\n      <td>...</td>\n      <td>...</td>\n      <td>...</td>\n      <td>...</td>\n      <td>...</td>\n      <td>...</td>\n      <td>...</td>\n      <td>...</td>\n      <td>...</td>\n      <td>...</td>\n    </tr>\n    <tr>\n      <th>345</th>\n      <td>66673</td>\n      <td>0</td>\n      <td>253.269297</td>\n      <td>0.076911</td>\n      <td>147.346423</td>\n      <td>0.044745</td>\n      <td>200.157469</td>\n      <td>0.060783</td>\n      <td>94.092539</td>\n      <td>0.028574</td>\n      <td>0.000000</td>\n      <td>0.000000</td>\n      <td>0.000000</td>\n      <td>0.000000</td>\n      <td>0.0</td>\n      <td>0.0</td>\n      <td>0.0</td>\n      <td>0.0</td>\n    </tr>\n    <tr>\n      <th>346</th>\n      <td>66674</td>\n      <td>0</td>\n      <td>65.461476</td>\n      <td>0.027253</td>\n      <td>3.168106</td>\n      <td>0.001319</td>\n      <td>37.486129</td>\n      <td>0.015606</td>\n      <td>0.346386</td>\n      <td>0.000144</td>\n      <td>0.000000</td>\n      <td>0.000000</td>\n      <td>0.000000</td>\n      <td>0.000000</td>\n      <td>0.0</td>\n      <td>0.0</td>\n      <td>0.0</td>\n      <td>0.0</td>\n    </tr>\n    <tr>\n      <th>347</th>\n      <td>66675</td>\n      <td>1</td>\n      <td>24.931507</td>\n      <td>0.022260</td>\n      <td>6.618853</td>\n      <td>0.005910</td>\n      <td>24.931507</td>\n      <td>0.022260</td>\n      <td>6.618853</td>\n      <td>0.005910</td>\n      <td>15.243361</td>\n      <td>0.013610</td>\n      <td>2.243933</td>\n      <td>0.002004</td>\n      <td>0.0</td>\n      <td>0.0</td>\n      <td>0.0</td>\n      <td>0.0</td>\n    </tr>\n    <tr>\n      <th>348</th>\n      <td>66676</td>\n      <td>0</td>\n      <td>104.153688</td>\n      <td>0.108607</td>\n      <td>13.420352</td>\n      <td>0.013994</td>\n      <td>104.153688</td>\n      <td>0.108607</td>\n      <td>13.420352</td>\n      <td>0.013994</td>\n      <td>0.000000</td>\n      <td>0.000000</td>\n      <td>0.000000</td>\n      <td>0.000000</td>\n      <td>0.0</td>\n      <td>0.0</td>\n      <td>0.0</td>\n      <td>0.0</td>\n    </tr>\n    <tr>\n      <th>349</th>\n      <td>66677</td>\n      <td>1</td>\n      <td>32.568093</td>\n      <td>0.060311</td>\n      <td>15.626323</td>\n      <td>0.028938</td>\n      <td>32.568093</td>\n      <td>0.060311</td>\n      <td>15.626323</td>\n      <td>0.028938</td>\n      <td>11.559745</td>\n      <td>0.021407</td>\n      <td>3.761015</td>\n      <td>0.006965</td>\n      <td>0.0</td>\n      <td>0.0</td>\n      <td>0.0</td>\n      <td>0.0</td>\n    </tr>\n  </tbody>\n</table>\n<p>350 rows × 18 columns</p>\n</div>"
     },
     "metadata": {},
     "execution_count": 18
    }
   ],
   "source": [
    "food_desert_Austin_df"
   ]
  },
  {
   "cell_type": "code",
   "execution_count": 19,
   "metadata": {},
   "outputs": [],
   "source": [
    "# Close the database connection\n",
    "sqlite_connection.close()"
   ]
  },
  {
   "source": [
    "## Machine Learning Model"
   ],
   "cell_type": "markdown",
   "metadata": {}
  },
  {
   "cell_type": "code",
   "execution_count": 28,
   "metadata": {},
   "outputs": [],
   "source": [
    "# Split the preprocessed dataframe from the SQLite database into our features and target arrays\n",
    "#  Remove LILATracts_1And10 target from features data\n",
    "y = food_desert_Austin_df.LILATracts_1And10.values\n",
    "X = food_desert_Austin_df.drop(columns=\"LILATracts_1And10\").values\n",
    "# Split the preprocessed data into a training and testing dataset\n",
    "X_train, X_test, y_train, y_test = train_test_split(X, y, random_state=42, stratify=y)"
   ]
  },
  {
   "cell_type": "code",
   "execution_count": 21,
   "metadata": {},
   "outputs": [],
   "source": [
    "# Create a StandardScaler instances\n",
    "scaler = StandardScaler()\n",
    "# Fit the StandardScaler\n",
    "X_scaler = scaler.fit(X_train)\n",
    "# Scale the data\n",
    "X_train_scaled = X_scaler.transform(X_train)\n",
    "X_test_scaled = X_scaler.transform(X_test)"
   ]
  },
  {
   "cell_type": "code",
   "execution_count": 22,
   "metadata": {},
   "outputs": [
    {
     "output_type": "stream",
     "name": "stdout",
     "text": [
      "Model: \"sequential\"\n_________________________________________________________________\nLayer (type)                 Output Shape              Param #   \n=================================================================\ndense (Dense)                (None, 30)                540       \n_________________________________________________________________\ndense_1 (Dense)              (None, 10)                310       \n_________________________________________________________________\ndense_2 (Dense)              (None, 1)                 11        \n=================================================================\nTotal params: 861\nTrainable params: 861\nNon-trainable params: 0\n_________________________________________________________________\n"
     ]
    }
   ],
   "source": [
    "# Define the model - deep neural net. the number of input features and the hidden nodes for each layer.\n",
    "# A good rule of thumb for a basic neural network is to have two to three times the amount of neurons in \n",
    "# the hidden layer as the number of inputs.\n",
    "number_input_features = len(X_train_scaled[0])\n",
    "hidden_nodes_layer1 = 30\n",
    "hidden_nodes_layer2 = 10\n",
    "\n",
    "nn = tf.keras.models.Sequential()\n",
    "\n",
    "# First hidden layer\n",
    "nn.add(tf.keras.layers.Dense(units=hidden_nodes_layer1, input_dim=number_input_features, activation=\"relu\"))\n",
    "\n",
    "# Second hidden layer\n",
    "nn.add(tf.keras.layers.Dense(units=hidden_nodes_layer2, activation=\"relu\"))\n",
    "\n",
    "# Output layer\n",
    "nn.add(tf.keras.layers.Dense(units=1, activation=\"sigmoid\"))\n",
    "\n",
    "# Check the structure of the model\n",
    "nn.summary()"
   ]
  },
  {
   "cell_type": "code",
   "execution_count": 23,
   "metadata": {},
   "outputs": [
    {
     "output_type": "stream",
     "name": "stdout",
     "text": [
      "Epoch 1/50\n",
      "9/9 [==============================] - 0s 2ms/step - loss: 0.6112 - accuracy: 0.6947\n",
      "Epoch 2/50\n",
      "9/9 [==============================] - 0s 1ms/step - loss: 0.5538 - accuracy: 0.7672\n",
      "Epoch 3/50\n",
      "9/9 [==============================] - 0s 3ms/step - loss: 0.5094 - accuracy: 0.8321\n",
      "Epoch 4/50\n",
      "9/9 [==============================] - 0s 2ms/step - loss: 0.4715 - accuracy: 0.8435\n",
      "Epoch 5/50\n",
      "9/9 [==============================] - 0s 2ms/step - loss: 0.4394 - accuracy: 0.8626\n",
      "Epoch 6/50\n",
      "9/9 [==============================] - 0s 1ms/step - loss: 0.4108 - accuracy: 0.8779\n",
      "Epoch 7/50\n",
      "9/9 [==============================] - 0s 1ms/step - loss: 0.3872 - accuracy: 0.8740\n",
      "Epoch 8/50\n",
      "9/9 [==============================] - 0s 2ms/step - loss: 0.3664 - accuracy: 0.8779\n",
      "Epoch 9/50\n",
      "9/9 [==============================] - 0s 1ms/step - loss: 0.3494 - accuracy: 0.8817\n",
      "Epoch 10/50\n",
      "9/9 [==============================] - 0s 2ms/step - loss: 0.3355 - accuracy: 0.8817\n",
      "Epoch 11/50\n",
      "9/9 [==============================] - 0s 1ms/step - loss: 0.3238 - accuracy: 0.8779\n",
      "Epoch 12/50\n",
      "9/9 [==============================] - 0s 1ms/step - loss: 0.3137 - accuracy: 0.8779\n",
      "Epoch 13/50\n",
      "9/9 [==============================] - 0s 2ms/step - loss: 0.3048 - accuracy: 0.8817\n",
      "Epoch 14/50\n",
      "9/9 [==============================] - 0s 1ms/step - loss: 0.2982 - accuracy: 0.8855\n",
      "Epoch 15/50\n",
      "9/9 [==============================] - 0s 2ms/step - loss: 0.2917 - accuracy: 0.8855\n",
      "Epoch 16/50\n",
      "9/9 [==============================] - 0s 2ms/step - loss: 0.2858 - accuracy: 0.8893\n",
      "Epoch 17/50\n",
      "9/9 [==============================] - 0s 1ms/step - loss: 0.2808 - accuracy: 0.8969\n",
      "Epoch 18/50\n",
      "9/9 [==============================] - 0s 2ms/step - loss: 0.2759 - accuracy: 0.9084\n",
      "Epoch 19/50\n",
      "9/9 [==============================] - 0s 1ms/step - loss: 0.2721 - accuracy: 0.9122\n",
      "Epoch 20/50\n",
      "9/9 [==============================] - 0s 2ms/step - loss: 0.2690 - accuracy: 0.9122\n",
      "Epoch 21/50\n",
      "9/9 [==============================] - 0s 1ms/step - loss: 0.2646 - accuracy: 0.9046\n",
      "Epoch 22/50\n",
      "9/9 [==============================] - 0s 1ms/step - loss: 0.2605 - accuracy: 0.9084\n",
      "Epoch 23/50\n",
      "9/9 [==============================] - 0s 2ms/step - loss: 0.2578 - accuracy: 0.9008\n",
      "Epoch 24/50\n",
      "9/9 [==============================] - 0s 1ms/step - loss: 0.2541 - accuracy: 0.8931\n",
      "Epoch 25/50\n",
      "9/9 [==============================] - 0s 1ms/step - loss: 0.2501 - accuracy: 0.9008\n",
      "Epoch 26/50\n",
      "9/9 [==============================] - 0s 997us/step - loss: 0.2476 - accuracy: 0.9008\n",
      "Epoch 27/50\n",
      "9/9 [==============================] - 0s 1ms/step - loss: 0.2448 - accuracy: 0.9008\n",
      "Epoch 28/50\n",
      "9/9 [==============================] - 0s 1ms/step - loss: 0.2424 - accuracy: 0.9008\n",
      "Epoch 29/50\n",
      "9/9 [==============================] - 0s 997us/step - loss: 0.2403 - accuracy: 0.9008\n",
      "Epoch 30/50\n",
      "9/9 [==============================] - 0s 1ms/step - loss: 0.2382 - accuracy: 0.9008\n",
      "Epoch 31/50\n",
      "9/9 [==============================] - 0s 1ms/step - loss: 0.2363 - accuracy: 0.9008\n",
      "Epoch 32/50\n",
      "9/9 [==============================] - 0s 1ms/step - loss: 0.2351 - accuracy: 0.9046\n",
      "Epoch 33/50\n",
      "9/9 [==============================] - 0s 1ms/step - loss: 0.2329 - accuracy: 0.9046\n",
      "Epoch 34/50\n",
      "9/9 [==============================] - 0s 886us/step - loss: 0.2313 - accuracy: 0.9046\n",
      "Epoch 35/50\n",
      "9/9 [==============================] - 0s 997us/step - loss: 0.2299 - accuracy: 0.9046\n",
      "Epoch 36/50\n",
      "9/9 [==============================] - 0s 1ms/step - loss: 0.2285 - accuracy: 0.9046\n",
      "Epoch 37/50\n",
      "9/9 [==============================] - 0s 1ms/step - loss: 0.2269 - accuracy: 0.9084\n",
      "Epoch 38/50\n",
      "9/9 [==============================] - 0s 1ms/step - loss: 0.2261 - accuracy: 0.9046\n",
      "Epoch 39/50\n",
      "9/9 [==============================] - 0s 2ms/step - loss: 0.2236 - accuracy: 0.9046\n",
      "Epoch 40/50\n",
      "9/9 [==============================] - 0s 1ms/step - loss: 0.2249 - accuracy: 0.9084\n",
      "Epoch 41/50\n",
      "9/9 [==============================] - 0s 1ms/step - loss: 0.2217 - accuracy: 0.9084\n",
      "Epoch 42/50\n",
      "9/9 [==============================] - 0s 1ms/step - loss: 0.2210 - accuracy: 0.9084\n",
      "Epoch 43/50\n",
      "9/9 [==============================] - 0s 1ms/step - loss: 0.2195 - accuracy: 0.9084\n",
      "Epoch 44/50\n",
      "9/9 [==============================] - 0s 1ms/step - loss: 0.2179 - accuracy: 0.9084\n",
      "Epoch 45/50\n",
      "9/9 [==============================] - 0s 2ms/step - loss: 0.2163 - accuracy: 0.9084\n",
      "Epoch 46/50\n",
      "9/9 [==============================] - 0s 998us/step - loss: 0.2153 - accuracy: 0.9084\n",
      "Epoch 47/50\n",
      "9/9 [==============================] - 0s 1ms/step - loss: 0.2141 - accuracy: 0.9122\n",
      "Epoch 48/50\n",
      "9/9 [==============================] - 0s 2ms/step - loss: 0.2133 - accuracy: 0.9122\n",
      "Epoch 49/50\n",
      "9/9 [==============================] - 0s 1ms/step - loss: 0.2120 - accuracy: 0.9084\n",
      "Epoch 50/50\n",
      "9/9 [==============================] - 0s 1ms/step - loss: 0.2113 - accuracy: 0.9084\n"
     ]
    }
   ],
   "source": [
    "# Compile and train the model\n",
    "nn.compile(loss=\"binary_crossentropy\", optimizer=\"adam\", metrics=[\"accuracy\"])\n",
    "fit_model = nn.fit(X_train_scaled, y_train, epochs=50)"
   ]
  },
  {
   "cell_type": "code",
   "execution_count": 24,
   "metadata": {},
   "outputs": [
    {
     "output_type": "stream",
     "name": "stdout",
     "text": [
      "3/3 - 0s - loss: 0.2608 - accuracy: 0.8864\n",
      "Loss: 0.2607710361480713, Accuracy: 0.8863636255264282\n"
     ]
    }
   ],
   "source": [
    "# Evaluate the model using the test data\n",
    "model_loss, model_accuracy = nn.evaluate(X_test_scaled,y_test,verbose=2)\n",
    "print(f\"Loss: {model_loss}, Accuracy: {model_accuracy}\")"
   ]
  },
  {
   "source": [
    "### Create a callback to save the model's weights, and\n",
    "###   Save and export the results to an HDF5 file, Hierarchical Data Format"
   ],
   "cell_type": "markdown",
   "metadata": {}
  },
  {
   "cell_type": "code",
   "execution_count": 25,
   "metadata": {},
   "outputs": [],
   "source": [
    "# Define the checkpoint path and filenames\n",
    "os.makedirs(\"checkpoints/\",exist_ok=True)\n",
    "checkpoint_path = \"checkpoints/weights.{epoch:02d}.hdf5\"\n",
    "\n",
    "# Export our model to HDF5 file\n",
    "nn.save(\"food_desert_austin.h5\")"
   ]
  },
  {
   "cell_type": "code",
   "execution_count": null,
   "metadata": {},
   "outputs": [],
   "source": []
  },
  {
   "source": [
    "## Comparisons to other ML models"
   ],
   "cell_type": "markdown",
   "metadata": {}
  },
  {
   "cell_type": "code",
   "execution_count": 26,
   "metadata": {},
   "outputs": [
    {
     "output_type": "stream",
     "name": "stdout",
     "text": [
      " Random forest predictive accuracy: 0.875\n"
     ]
    }
   ],
   "source": [
    "# Create a Random Forest classifier, 64 estimators.\n",
    "rf_model = RandomForestClassifier(n_estimators=64, random_state=78)\n",
    "# Fitting the model\n",
    "rf_model = rf_model.fit(X_train_scaled, y_train)\n",
    "# Evaluate the model\n",
    "y_pred = rf_model.predict(X_test_scaled)\n",
    "print(f\" Random forest predictive accuracy: {accuracy_score(y_test,y_pred):.3f}\")"
   ]
  },
  {
   "cell_type": "code",
   "execution_count": 27,
   "metadata": {},
   "outputs": [
    {
     "output_type": "stream",
     "name": "stdout",
     "text": [
      " Logistic regression model accuracy: 0.841\n"
     ]
    }
   ],
   "source": [
    "# Logistic Regression Model Accuracy\n",
    "log_classifier = LogisticRegression(solver=\"lbfgs\",max_iter=200)\n",
    "log_classifier.fit(X_train,y_train)\n",
    "y_pred = log_classifier.predict(X_test)\n",
    "print(f\" Logistic regression model accuracy: {accuracy_score(y_test,y_pred):.3f}\")"
   ]
  },
  {
   "cell_type": "code",
   "execution_count": null,
   "metadata": {},
   "outputs": [],
   "source": []
  },
  {
   "cell_type": "code",
   "execution_count": null,
   "metadata": {},
   "outputs": [],
   "source": []
  },
  {
   "source": [
    "## Other, Plotting and Charting "
   ],
   "cell_type": "markdown",
   "metadata": {}
  },
  {
   "cell_type": "code",
   "execution_count": null,
   "metadata": {},
   "outputs": [],
   "source": [
    "# Scatter and density plots\n",
    "def plotScatterMatrix(df, plotSize, textSize):\n",
    "    df = df.select_dtypes(include =[np.number]) # keep only numerical columns\n",
    "    # Remove rows and columns that would lead to df being singular\n",
    "    df = df.dropna('columns')\n",
    "    df = df[[col for col in df if df[col].nunique() > 1]] # keep columns where there are more than 1 unique values\n",
    "    columnNames = list(df)\n",
    "    if len(columnNames) > 10: # reduce the number of columns for matrix inversion of kernel density plots\n",
    "        columnNames = columnNames[:10]\n",
    "    df = df[columnNames]\n",
    "    ax = pd.plotting.scatter_matrix(df, alpha=0.75, figsize=[plotSize, plotSize], diagonal='kde')\n",
    "    corrs = df.corr().values\n",
    "    for i, j in zip(*plt.np.triu_indices_from(ax, k = 1)):\n",
    "        ax[i, j].annotate('Corr. coef = %.3f' % corrs[i, j], (0.8, 0.2), xycoords='axes fraction', ha='center', va='center', size=textSize)\n",
    "    plt.suptitle('Scatter and Density Plot')\n",
    "    plt.show()"
   ]
  },
  {
   "cell_type": "code",
   "execution_count": null,
   "metadata": {},
   "outputs": [],
   "source": [
    "plotScatterMatrix(food_desert_df, 20, 10)"
   ]
  },
  {
   "cell_type": "code",
   "execution_count": null,
   "metadata": {},
   "outputs": [],
   "source": [
    "# Correlation matrix\n",
    "def plotCorrelationMatrix(df, graphWidth):\n",
    "    filename = food_desert_df\n",
    "    df = df.dropna('columns') # drop columns with NaN\n",
    "    df = df[[col for col in df if df[col].nunique() > 1]] # keep columns where there are more than 1 unique values\n",
    "    if df.shape[1] < 2:\n",
    "        print(f'No correlation plots shown: The number of non-NaN or constant columns ({df.shape[1]}) is less than 2')\n",
    "        return\n",
    "    corr = df.corr()\n",
    "    plt.figure(num=None, figsize=(graphWidth, graphWidth), dpi=80, facecolor='w', edgecolor='k')\n",
    "    corrMat = plt.matshow(corr, fignum = 1)\n",
    "    plt.xticks(range(len(corr.columns)), corr.columns, rotation=90)\n",
    "    plt.yticks(range(len(corr.columns)), corr.columns)\n",
    "    plt.gca().xaxis.tick_bottom()\n",
    "    plt.colorbar(corrMat)\n",
    "    plt.title(f'Correlation Matrix for {filename}', fontsize=15)\n",
    "    plt.show()"
   ]
  },
  {
   "cell_type": "code",
   "execution_count": null,
   "metadata": {},
   "outputs": [],
   "source": [
    "plotCorrelationMatrix(food_desert_df, 24)"
   ]
  },
  {
   "cell_type": "code",
   "execution_count": null,
   "metadata": {},
   "outputs": [],
   "source": []
  }
 ]
}