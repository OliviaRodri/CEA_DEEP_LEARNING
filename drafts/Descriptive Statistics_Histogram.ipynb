{
 "cells": [
  {
   "cell_type": "code",
   "execution_count": 1,
   "metadata": {},
   "outputs": [],
   "source": [
    "import pandas as pd\n",
    "import researchpy as rp\n",
    "%matplotlib inline\n",
    "\n",
    "df = pd.read_csv(\"resources/food_access_research_atlas.csv\")"
   ]
  },
  {
   "cell_type": "code",
   "execution_count": 2,
   "metadata": {
    "scrolled": false
   },
   "outputs": [
    {
     "data": {
      "text/plain": [
       "count     72864.000000\n",
       "mean      67431.742342\n",
       "std       34086.543504\n",
       "min           0.000000\n",
       "25%       44837.000000\n",
       "50%       60893.000000\n",
       "75%       82763.000000\n",
       "max      250000.000000\n",
       "Name: MedianFamilyIncome, dtype: float64"
      ]
     },
     "execution_count": 2,
     "metadata": {},
     "output_type": "execute_result"
    }
   ],
   "source": [
    "df[\"MedianFamilyIncome\"].describe()"
   ]
  },
  {
   "cell_type": "code",
   "execution_count": 3,
   "metadata": {},
   "outputs": [
    {
     "data": {
      "text/html": [
       "<div>\n",
       "<style scoped>\n",
       "    .dataframe tbody tr th:only-of-type {\n",
       "        vertical-align: middle;\n",
       "    }\n",
       "\n",
       "    .dataframe tbody tr th {\n",
       "        vertical-align: top;\n",
       "    }\n",
       "\n",
       "    .dataframe thead th {\n",
       "        text-align: right;\n",
       "    }\n",
       "</style>\n",
       "<table border=\"1\" class=\"dataframe\">\n",
       "  <thead>\n",
       "    <tr style=\"text-align: right;\">\n",
       "      <th></th>\n",
       "      <th>0</th>\n",
       "      <th>1</th>\n",
       "      <th>2</th>\n",
       "      <th>3</th>\n",
       "      <th>4</th>\n",
       "      <th>5</th>\n",
       "      <th>6</th>\n",
       "      <th>7</th>\n",
       "      <th>8</th>\n",
       "      <th>9</th>\n",
       "      <th>...</th>\n",
       "      <th>72854</th>\n",
       "      <th>72855</th>\n",
       "      <th>72856</th>\n",
       "      <th>72857</th>\n",
       "      <th>72858</th>\n",
       "      <th>72859</th>\n",
       "      <th>72860</th>\n",
       "      <th>72861</th>\n",
       "      <th>72862</th>\n",
       "      <th>72863</th>\n",
       "    </tr>\n",
       "  </thead>\n",
       "  <tbody>\n",
       "    <tr>\n",
       "      <th>MedianFamilyIncome</th>\n",
       "      <td>74750</td>\n",
       "      <td>51875</td>\n",
       "      <td>52905</td>\n",
       "      <td>68079</td>\n",
       "      <td>77819</td>\n",
       "      <td>67218</td>\n",
       "      <td>43646</td>\n",
       "      <td>74284</td>\n",
       "      <td>68713</td>\n",
       "      <td>52994</td>\n",
       "      <td>...</td>\n",
       "      <td>90394</td>\n",
       "      <td>78909</td>\n",
       "      <td>81473</td>\n",
       "      <td>71638</td>\n",
       "      <td>42827</td>\n",
       "      <td>67917</td>\n",
       "      <td>52474</td>\n",
       "      <td>66250</td>\n",
       "      <td>81500</td>\n",
       "      <td>68966</td>\n",
       "    </tr>\n",
       "  </tbody>\n",
       "</table>\n",
       "<p>1 rows × 72864 columns</p>\n",
       "</div>"
      ],
      "text/plain": [
       "                    0      1      2      3      4      5      6      7      \\\n",
       "MedianFamilyIncome  74750  51875  52905  68079  77819  67218  43646  74284   \n",
       "\n",
       "                    8      9      ...  72854  72855  72856  72857  72858  \\\n",
       "MedianFamilyIncome  68713  52994  ...  90394  78909  81473  71638  42827   \n",
       "\n",
       "                    72859  72860  72861  72862  72863  \n",
       "MedianFamilyIncome  67917  52474  66250  81500  68966  \n",
       "\n",
       "[1 rows x 72864 columns]"
      ]
     },
     "execution_count": 3,
     "metadata": {},
     "output_type": "execute_result"
    }
   ],
   "source": [
    "MFI = pd.DataFrame([df[\"MedianFamilyIncome\"]])\n",
    "MFI"
   ]
  },
  {
   "cell_type": "code",
   "execution_count": 5,
   "metadata": {},
   "outputs": [
    {
     "data": {
      "text/plain": [
       "<matplotlib.axes._subplots.AxesSubplot at 0x28494a13970>"
      ]
     },
     "execution_count": 5,
     "metadata": {},
     "output_type": "execute_result"
    },
    {
     "data": {
      "image/png": "[encoded data removed]",
      "text/plain": [
       "<Figure size 432x288 with 1 Axes>"
      ]
     },
     "metadata": {
      "needs_background": "light"
     },
     "output_type": "display_data"
    }
   ],
   "source": [
    "pd.to_numeric(df['MedianFamilyIncome']).hist()"
   ]
  }
 ],
 "metadata": {
  "kernelspec": {
   "display_name": "Python 3",
   "language": "python",
   "name": "python3"
  },
  "language_info": {
   "codemirror_mode": {
    "name": "ipython",
    "version": 3
   },
   "file_extension": ".py",
   "mimetype": "text/x-python",
   "name": "python",
   "nbconvert_exporter": "python",
   "pygments_lexer": "ipython3",
   "version": "3.8.3"
  }
 },
 "nbformat": 4,
 "nbformat_minor": 4
}
