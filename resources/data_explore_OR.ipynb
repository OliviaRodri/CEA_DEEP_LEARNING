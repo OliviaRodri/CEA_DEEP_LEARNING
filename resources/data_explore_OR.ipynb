{
 "metadata": {
  "language_info": {
   "codemirror_mode": {
    "name": "ipython",
    "version": 3
   },
   "file_extension": ".py",
   "mimetype": "text/x-python",
   "name": "python",
   "nbconvert_exporter": "python",
   "pygments_lexer": "ipython3",
   "version": "3.6.10-final"
  },
  "orig_nbformat": 2,
  "kernelspec": {
   "name": "python3",
   "display_name": "Python 3",
   "language": "python"
  }
 },
 "nbformat": 4,
 "nbformat_minor": 2,
 "cells": [
  {
   "cell_type": "code",
   "execution_count": 1,
   "metadata": {},
   "outputs": [
    {
     "output_type": "stream",
     "name": "stdout",
     "text": [
      "(1955546, 5)\n"
     ]
    },
    {
     "output_type": "execute_result",
     "data": {
      "text/plain": [
       "        GEOID  PointOrder  SubPolygonId  PointLatitude  PointLongitude\n",
       "0  1001020100           1             1        32.4988        -86.4820\n",
       "1  1001020100           2             1        32.4915        -86.4787\n",
       "2  1001020100           3             1        32.4764        -86.4812\n",
       "3  1001020100           4             1        32.4660        -86.4751\n",
       "4  1001020100           5             1        32.4597        -86.4753"
      ],
      "text/html": "<div>\n<style scoped>\n    .dataframe tbody tr th:only-of-type {\n        vertical-align: middle;\n    }\n\n    .dataframe tbody tr th {\n        vertical-align: top;\n    }\n\n    .dataframe thead th {\n        text-align: right;\n    }\n</style>\n<table border=\"1\" class=\"dataframe\">\n  <thead>\n    <tr style=\"text-align: right;\">\n      <th></th>\n      <th>GEOID</th>\n      <th>PointOrder</th>\n      <th>SubPolygonId</th>\n      <th>PointLatitude</th>\n      <th>PointLongitude</th>\n    </tr>\n  </thead>\n  <tbody>\n    <tr>\n      <th>0</th>\n      <td>1001020100</td>\n      <td>1</td>\n      <td>1</td>\n      <td>32.4988</td>\n      <td>-86.4820</td>\n    </tr>\n    <tr>\n      <th>1</th>\n      <td>1001020100</td>\n      <td>2</td>\n      <td>1</td>\n      <td>32.4915</td>\n      <td>-86.4787</td>\n    </tr>\n    <tr>\n      <th>2</th>\n      <td>1001020100</td>\n      <td>3</td>\n      <td>1</td>\n      <td>32.4764</td>\n      <td>-86.4812</td>\n    </tr>\n    <tr>\n      <th>3</th>\n      <td>1001020100</td>\n      <td>4</td>\n      <td>1</td>\n      <td>32.4660</td>\n      <td>-86.4751</td>\n    </tr>\n    <tr>\n      <th>4</th>\n      <td>1001020100</td>\n      <td>5</td>\n      <td>1</td>\n      <td>32.4597</td>\n      <td>-86.4753</td>\n    </tr>\n  </tbody>\n</table>\n</div>"
     },
     "metadata": {},
     "execution_count": 1
    }
   ],
   "source": [
    "import pandas as pd\n",
    "# import all shapes\n",
    "cen_tract_all_shapes_df  = pd.read_csv('census_tract_shapefiles_all.csv')\n",
    "cen_tract = pd.read_csv('food_access_research_atlas.csv')\n",
    "print(cen_tract_all_shapes_df.shape)\n",
    "cen_tract_all_shapes_df.head(5)"
   ]
  },
  {
   "cell_type": "code",
   "execution_count": 2,
   "metadata": {},
   "outputs": [
    {
     "output_type": "stream",
     "name": "stdout",
     "text": [
      "(72864, 147)\n"
     ]
    },
    {
     "output_type": "execute_result",
     "data": {
      "text/plain": [
       "   CensusTract    State   County  Urban  POP2010  OHU2010  GroupQuartersFlag  \\\n",
       "0   1001020100  Alabama  Autauga      1     1912      693                  0   \n",
       "1   1001020200  Alabama  Autauga      1     2170      743                  0   \n",
       "2   1001020300  Alabama  Autauga      1     3373     1256                  0   \n",
       "3   1001020400  Alabama  Autauga      1     4386     1722                  0   \n",
       "4   1001020500  Alabama  Autauga      1    10766     4082                  0   \n",
       "\n",
       "   NUMGQTRS  PCTGQTRS  LILATracts_1And10  ...  TractSeniors  TractWhite  \\\n",
       "0         0  0.000000                  0  ...           221        1622   \n",
       "1       181  0.083410                  0  ...           214         888   \n",
       "2         0  0.000000                  0  ...           439        2576   \n",
       "3         0  0.000000                  0  ...           904        4086   \n",
       "4       181  0.016812                  0  ...          1126        8666   \n",
       "\n",
       "   TractBlack  TractAsian  TractNHOPI  TractAIAN  TractOMultir  TractHispanic  \\\n",
       "0         217          14           0         14            45             44   \n",
       "1        1217           5           0          5            55             75   \n",
       "2         647          17           5         11           117             87   \n",
       "3         193          18           4         11            74             85   \n",
       "4        1437         296           9         48           310            355   \n",
       "\n",
       "   TractHUNV  TractSNAP  \n",
       "0         26        112  \n",
       "1         87        202  \n",
       "2        108        120  \n",
       "3         19         82  \n",
       "4        198        488  \n",
       "\n",
       "[5 rows x 147 columns]"
      ],
      "text/html": "<div>\n<style scoped>\n    .dataframe tbody tr th:only-of-type {\n        vertical-align: middle;\n    }\n\n    .dataframe tbody tr th {\n        vertical-align: top;\n    }\n\n    .dataframe thead th {\n        text-align: right;\n    }\n</style>\n<table border=\"1\" class=\"dataframe\">\n  <thead>\n    <tr style=\"text-align: right;\">\n      <th></th>\n      <th>CensusTract</th>\n      <th>State</th>\n      <th>County</th>\n      <th>Urban</th>\n      <th>POP2010</th>\n      <th>OHU2010</th>\n      <th>GroupQuartersFlag</th>\n      <th>NUMGQTRS</th>\n      <th>PCTGQTRS</th>\n      <th>LILATracts_1And10</th>\n      <th>...</th>\n      <th>TractSeniors</th>\n      <th>TractWhite</th>\n      <th>TractBlack</th>\n      <th>TractAsian</th>\n      <th>TractNHOPI</th>\n      <th>TractAIAN</th>\n      <th>TractOMultir</th>\n      <th>TractHispanic</th>\n      <th>TractHUNV</th>\n      <th>TractSNAP</th>\n    </tr>\n  </thead>\n  <tbody>\n    <tr>\n      <th>0</th>\n      <td>1001020100</td>\n      <td>Alabama</td>\n      <td>Autauga</td>\n      <td>1</td>\n      <td>1912</td>\n      <td>693</td>\n      <td>0</td>\n      <td>0</td>\n      <td>0.000000</td>\n      <td>0</td>\n      <td>...</td>\n      <td>221</td>\n      <td>1622</td>\n      <td>217</td>\n      <td>14</td>\n      <td>0</td>\n      <td>14</td>\n      <td>45</td>\n      <td>44</td>\n      <td>26</td>\n      <td>112</td>\n    </tr>\n    <tr>\n      <th>1</th>\n      <td>1001020200</td>\n      <td>Alabama</td>\n      <td>Autauga</td>\n      <td>1</td>\n      <td>2170</td>\n      <td>743</td>\n      <td>0</td>\n      <td>181</td>\n      <td>0.083410</td>\n      <td>0</td>\n      <td>...</td>\n      <td>214</td>\n      <td>888</td>\n      <td>1217</td>\n      <td>5</td>\n      <td>0</td>\n      <td>5</td>\n      <td>55</td>\n      <td>75</td>\n      <td>87</td>\n      <td>202</td>\n    </tr>\n    <tr>\n      <th>2</th>\n      <td>1001020300</td>\n      <td>Alabama</td>\n      <td>Autauga</td>\n      <td>1</td>\n      <td>3373</td>\n      <td>1256</td>\n      <td>0</td>\n      <td>0</td>\n      <td>0.000000</td>\n      <td>0</td>\n      <td>...</td>\n      <td>439</td>\n      <td>2576</td>\n      <td>647</td>\n      <td>17</td>\n      <td>5</td>\n      <td>11</td>\n      <td>117</td>\n      <td>87</td>\n      <td>108</td>\n      <td>120</td>\n    </tr>\n    <tr>\n      <th>3</th>\n      <td>1001020400</td>\n      <td>Alabama</td>\n      <td>Autauga</td>\n      <td>1</td>\n      <td>4386</td>\n      <td>1722</td>\n      <td>0</td>\n      <td>0</td>\n      <td>0.000000</td>\n      <td>0</td>\n      <td>...</td>\n      <td>904</td>\n      <td>4086</td>\n      <td>193</td>\n      <td>18</td>\n      <td>4</td>\n      <td>11</td>\n      <td>74</td>\n      <td>85</td>\n      <td>19</td>\n      <td>82</td>\n    </tr>\n    <tr>\n      <th>4</th>\n      <td>1001020500</td>\n      <td>Alabama</td>\n      <td>Autauga</td>\n      <td>1</td>\n      <td>10766</td>\n      <td>4082</td>\n      <td>0</td>\n      <td>181</td>\n      <td>0.016812</td>\n      <td>0</td>\n      <td>...</td>\n      <td>1126</td>\n      <td>8666</td>\n      <td>1437</td>\n      <td>296</td>\n      <td>9</td>\n      <td>48</td>\n      <td>310</td>\n      <td>355</td>\n      <td>198</td>\n      <td>488</td>\n    </tr>\n  </tbody>\n</table>\n<p>5 rows × 147 columns</p>\n</div>"
     },
     "metadata": {},
     "execution_count": 2
    }
   ],
   "source": [
    "print(cen_tract.shape)\n",
    "cen_tract.head(5)"
   ]
  },
  {
   "cell_type": "code",
   "execution_count": 7,
   "metadata": {},
   "outputs": [
    {
     "output_type": "stream",
     "name": "stdout",
     "text": [
      "(23030, 148)\n"
     ]
    },
    {
     "output_type": "execute_result",
     "data": {
      "text/plain": [
       "         GEOID    State   County  Urban  POP2010  OHU2010  GroupQuartersFlag  \\\n",
       "6   1001020700  Alabama  Autauga      1     2891     1188                  0   \n",
       "11  1001021100  Alabama  Autauga      0     3320     1306                  0   \n",
       "17  1003010600  Alabama  Baldwin      1     3325     1186                  0   \n",
       "37  1003011407  Alabama  Baldwin      1     4799     2161                  0   \n",
       "40  1003011502  Alabama  Baldwin      1    10534     4330                  0   \n",
       "\n",
       "    NUMGQTRS  PCTGQTRS  LILATracts_1And10  ...  TractWhite  TractBlack  \\\n",
       "6         36  0.012452                  1  ...        2333         435   \n",
       "11        33  0.009940                  1  ...        1441        1810   \n",
       "17        14  0.004210                  1  ...        1323        1851   \n",
       "37         4  0.000834                  1  ...        4525          56   \n",
       "40         0  0.000000                  1  ...        7818        1693   \n",
       "\n",
       "    TractAsian  TractNHOPI  TractAIAN  TractOMultir  TractHispanic  TractHUNV  \\\n",
       "6           13           3         11            96             98        134   \n",
       "11           2           0         14            53             39        196   \n",
       "17           3           0         30           118             92        156   \n",
       "37          36           1         26           155             57         64   \n",
       "40         113           8         74           828           1314        245   \n",
       "\n",
       "    TractSNAP  Impoverished  \n",
       "6         218         False  \n",
       "11        262         False  \n",
       "17        311         False  \n",
       "37        143         False  \n",
       "40        613         False  \n",
       "\n",
       "[5 rows x 148 columns]"
      ],
      "text/html": "<div>\n<style scoped>\n    .dataframe tbody tr th:only-of-type {\n        vertical-align: middle;\n    }\n\n    .dataframe tbody tr th {\n        vertical-align: top;\n    }\n\n    .dataframe thead th {\n        text-align: right;\n    }\n</style>\n<table border=\"1\" class=\"dataframe\">\n  <thead>\n    <tr style=\"text-align: right;\">\n      <th></th>\n      <th>GEOID</th>\n      <th>State</th>\n      <th>County</th>\n      <th>Urban</th>\n      <th>POP2010</th>\n      <th>OHU2010</th>\n      <th>GroupQuartersFlag</th>\n      <th>NUMGQTRS</th>\n      <th>PCTGQTRS</th>\n      <th>LILATracts_1And10</th>\n      <th>...</th>\n      <th>TractWhite</th>\n      <th>TractBlack</th>\n      <th>TractAsian</th>\n      <th>TractNHOPI</th>\n      <th>TractAIAN</th>\n      <th>TractOMultir</th>\n      <th>TractHispanic</th>\n      <th>TractHUNV</th>\n      <th>TractSNAP</th>\n      <th>Impoverished</th>\n    </tr>\n  </thead>\n  <tbody>\n    <tr>\n      <th>6</th>\n      <td>1001020700</td>\n      <td>Alabama</td>\n      <td>Autauga</td>\n      <td>1</td>\n      <td>2891</td>\n      <td>1188</td>\n      <td>0</td>\n      <td>36</td>\n      <td>0.012452</td>\n      <td>1</td>\n      <td>...</td>\n      <td>2333</td>\n      <td>435</td>\n      <td>13</td>\n      <td>3</td>\n      <td>11</td>\n      <td>96</td>\n      <td>98</td>\n      <td>134</td>\n      <td>218</td>\n      <td>False</td>\n    </tr>\n    <tr>\n      <th>11</th>\n      <td>1001021100</td>\n      <td>Alabama</td>\n      <td>Autauga</td>\n      <td>0</td>\n      <td>3320</td>\n      <td>1306</td>\n      <td>0</td>\n      <td>33</td>\n      <td>0.009940</td>\n      <td>1</td>\n      <td>...</td>\n      <td>1441</td>\n      <td>1810</td>\n      <td>2</td>\n      <td>0</td>\n      <td>14</td>\n      <td>53</td>\n      <td>39</td>\n      <td>196</td>\n      <td>262</td>\n      <td>False</td>\n    </tr>\n    <tr>\n      <th>17</th>\n      <td>1003010600</td>\n      <td>Alabama</td>\n      <td>Baldwin</td>\n      <td>1</td>\n      <td>3325</td>\n      <td>1186</td>\n      <td>0</td>\n      <td>14</td>\n      <td>0.004210</td>\n      <td>1</td>\n      <td>...</td>\n      <td>1323</td>\n      <td>1851</td>\n      <td>3</td>\n      <td>0</td>\n      <td>30</td>\n      <td>118</td>\n      <td>92</td>\n      <td>156</td>\n      <td>311</td>\n      <td>False</td>\n    </tr>\n    <tr>\n      <th>37</th>\n      <td>1003011407</td>\n      <td>Alabama</td>\n      <td>Baldwin</td>\n      <td>1</td>\n      <td>4799</td>\n      <td>2161</td>\n      <td>0</td>\n      <td>4</td>\n      <td>0.000834</td>\n      <td>1</td>\n      <td>...</td>\n      <td>4525</td>\n      <td>56</td>\n      <td>36</td>\n      <td>1</td>\n      <td>26</td>\n      <td>155</td>\n      <td>57</td>\n      <td>64</td>\n      <td>143</td>\n      <td>False</td>\n    </tr>\n    <tr>\n      <th>40</th>\n      <td>1003011502</td>\n      <td>Alabama</td>\n      <td>Baldwin</td>\n      <td>1</td>\n      <td>10534</td>\n      <td>4330</td>\n      <td>0</td>\n      <td>0</td>\n      <td>0.000000</td>\n      <td>1</td>\n      <td>...</td>\n      <td>7818</td>\n      <td>1693</td>\n      <td>113</td>\n      <td>8</td>\n      <td>74</td>\n      <td>828</td>\n      <td>1314</td>\n      <td>245</td>\n      <td>613</td>\n      <td>False</td>\n    </tr>\n  </tbody>\n</table>\n<p>5 rows × 148 columns</p>\n</div>"
     },
     "metadata": {},
     "execution_count": 7
    }
   ],
   "source": [
    "# Create new Impoverished column\n",
    "df = cen_tract\n",
    "cond_1 = df['MedianFamilyIncome'] <= 24250\n",
    "df['Impoverished'] = cond_1\n",
    "\n",
    "# keep only impoverished or food desert for all US\n",
    "df = cen_tract\n",
    "cond_1 = df['Impoverished'] == True\n",
    "cond_2 = (df['LILATracts_1And10'] == 1) | (df['LILATracts_halfAnd10'] == 1)  | (df['LILATracts_1And20'] == 1)  | (df['LILATracts_Vehicle'] == 1)\n",
    "cond_3 = ~((df['State'] == 'Alaska') | (df['State'] == 'Hawaii'))\n",
    "cond_4 = ~(cen_tract['POP2010'] == 0)\n",
    "df_below_income_threshold_deserts = df.loc[(cond_1 | cond_2) & cond_3 & cond_4]\n",
    "print(df_below_income_threshold_deserts.shape)\n",
    "df_below_income_threshold_deserts.head(5)"
   ]
  },
  {
   "cell_type": "code",
   "execution_count": 8,
   "metadata": {},
   "outputs": [
    {
     "output_type": "stream",
     "name": "stdout",
     "text": [
      "(548417, 5)\n"
     ]
    },
    {
     "output_type": "execute_result",
     "data": {
      "text/plain": [
       "         GEOID  PointOrder  SubPolygonId  PointLatitude  PointLongitude\n",
       "83  1001020700           1             1        32.4252        -86.4602\n",
       "84  1001020700           2             1        32.4319        -86.4630\n",
       "85  1001020700           3             1        32.4422        -86.4620\n",
       "86  1001020700           4             1        32.4460        -86.4647\n",
       "87  1001020700           5             1        32.4478        -86.4644"
      ],
      "text/html": "<div>\n<style scoped>\n    .dataframe tbody tr th:only-of-type {\n        vertical-align: middle;\n    }\n\n    .dataframe tbody tr th {\n        vertical-align: top;\n    }\n\n    .dataframe thead th {\n        text-align: right;\n    }\n</style>\n<table border=\"1\" class=\"dataframe\">\n  <thead>\n    <tr style=\"text-align: right;\">\n      <th></th>\n      <th>GEOID</th>\n      <th>PointOrder</th>\n      <th>SubPolygonId</th>\n      <th>PointLatitude</th>\n      <th>PointLongitude</th>\n    </tr>\n  </thead>\n  <tbody>\n    <tr>\n      <th>83</th>\n      <td>1001020700</td>\n      <td>1</td>\n      <td>1</td>\n      <td>32.4252</td>\n      <td>-86.4602</td>\n    </tr>\n    <tr>\n      <th>84</th>\n      <td>1001020700</td>\n      <td>2</td>\n      <td>1</td>\n      <td>32.4319</td>\n      <td>-86.4630</td>\n    </tr>\n    <tr>\n      <th>85</th>\n      <td>1001020700</td>\n      <td>3</td>\n      <td>1</td>\n      <td>32.4422</td>\n      <td>-86.4620</td>\n    </tr>\n    <tr>\n      <th>86</th>\n      <td>1001020700</td>\n      <td>4</td>\n      <td>1</td>\n      <td>32.4460</td>\n      <td>-86.4647</td>\n    </tr>\n    <tr>\n      <th>87</th>\n      <td>1001020700</td>\n      <td>5</td>\n      <td>1</td>\n      <td>32.4478</td>\n      <td>-86.4644</td>\n    </tr>\n  </tbody>\n</table>\n</div>"
     },
     "metadata": {},
     "execution_count": 8
    }
   ],
   "source": [
    "# keep shapes only for Below Income Thresholds OR all food deserts\n",
    "df1 = cen_tract_all_shapes_df\n",
    "df2 = df_below_income_threshold_deserts\n",
    "clm_list = df2['CensusTract'].values\n",
    "cen_tract_desert_shapes_df = df1[df1['GEOID'].isin(clm_list)]\n",
    "print(cen_tract_desert_shapes_df.shape)\n",
    "cen_tract_desert_shapes_df.head(5)"
   ]
  },
  {
   "cell_type": "code",
   "execution_count": 9,
   "metadata": {},
   "outputs": [],
   "source": [
    "# Save both dataframes\n",
    "clmns1 = ['GEOID', 'State', 'County','POP2010','LILATracts_1And10', 'LILATracts_halfAnd10', 'LILATracts_1And20','LILATracts_Vehicle','MedianFamilyIncome','Impoverished']\n",
    "clmns2 = [\"lasnaphalf\", \"lasnaphalfshare\", \"lahunvhalf\", \"lahunvhalfshare\", \"lasnap1\", \"lasnap1share\", \"lahunv1\", \"lahunv1share\", \"lasnap10\", \"lasnap10share\", \"lahunv10\", \"lahunv10share\", \"lasnap20\", \"lasnap20share\",  \"lahunv20\", \"lahunv20share\"]\n",
    "# change CensusTract to GEOID\n",
    "new_columns = df_below_income_threshold_deserts.columns.values\n",
    "new_columns[0] = 'GEOID'\n",
    "df_below_income_threshold_deserts.columns  = new_columns\n",
    "df_below_income_threshold_deserts[clmns1+clmns2].to_csv('All_US_impoverished_or_deserts.csv')\n",
    "cen_tract_desert_shapes_df.to_csv('Shapes_Low_Income_OR_Food_Deserts.csv')"
   ]
  },
  {
   "source": [
    "# End of code "
   ],
   "cell_type": "markdown",
   "metadata": {}
  },
  {
   "cell_type": "code",
   "execution_count": null,
   "metadata": {},
   "outputs": [],
   "source": []
  },
  {
   "cell_type": "code",
   "execution_count": 9,
   "metadata": {},
   "outputs": [
    {
     "output_type": "execute_result",
     "data": {
      "text/plain": [
       "Index(['LILATracts_1And10', 'LILATracts_halfAnd10', 'LILATracts_1And20',\n",
       "       'LILATracts_Vehicle', 'HUNVFlag', 'LowIncomeTracts', 'PovertyRate',\n",
       "       'MedianFamilyIncome', 'LA1and10', 'LAhalfand10', 'LA1and20'],\n",
       "      dtype='object')"
      ]
     },
     "metadata": {},
     "execution_count": 9
    }
   ],
   "source": [
    "df_below_income_threshold_deserts.columns[9:20]"
   ]
  },
  {
   "cell_type": "code",
   "execution_count": 10,
   "metadata": {},
   "outputs": [
    {
     "output_type": "stream",
     "name": "stdout",
     "text": [
      "['GEOID', 'State', 'County', 'POP2010', 'LILATracts_1And10', 'LILATracts_halfAnd10', 'LILATracts_1And20', 'LILATracts_Vehicle', 'MedianFamilyIncome']\n['GEOID', 'State', 'County', 'POP2010', 'LILATracts_1And10', 'LILATracts_halfAnd10', 'LILATracts_1And20', 'LILATracts_Vehicle', 'MedianFamilyIncome', 'Income', 'lasnaphalf', 'lasnaphalfshare', 'lahunvhalf', 'lahunvhalfshare', 'lasnap1', 'lasnap1share', 'lahunv1', 'lahunv1share', 'lasnap10', 'lasnap10share', 'lahunv10', 'lahunv10share', 'lasnap20', 'lasnap20share', 'lahunv20', 'lahunv20share']\n"
     ]
    }
   ],
   "source": [
    "# Save both dataframes\n",
    "clmns1 = ['GEOID', 'State', 'County','POP2010','LILATracts_1And10', 'LILATracts_halfAnd10', 'LILATracts_1And20','LILATracts_Vehicle','MedianFamilyIncome']\n",
    "clmns2 = [\"Income\",\"lasnaphalf\", \"lasnaphalfshare\", \"lahunvhalf\", \"lahunvhalfshare\", \"lasnap1\", \"lasnap1share\", \"lahunv1\", \"lahunv1share\", \"lasnap10\", \"lasnap10share\", \"lahunv10\", \"lahunv10share\", \"lasnap20\", \"lasnap20share\",  \"lahunv20\", \"lahunv20share\"]\n",
    "print(clmns1)\n",
    "print(clmns1+clmns2)\n",
    "\n"
   ]
  },
  {
   "cell_type": "code",
   "execution_count": 5,
   "metadata": {},
   "outputs": [
    {
     "output_type": "stream",
     "name": "stdout",
     "text": [
      "(593982, 152)\n"
     ]
    },
    {
     "output_type": "execute_result",
     "data": {
      "text/plain": [
       "        GEOID    State   County  Urban  POP2010  OHU2010  GroupQuartersFlag  \\\n",
       "0  1001020700  Alabama  Autauga      1     2891     1188                  0   \n",
       "1  1001020700  Alabama  Autauga      1     2891     1188                  0   \n",
       "2  1001020700  Alabama  Autauga      1     2891     1188                  0   \n",
       "3  1001020700  Alabama  Autauga      1     2891     1188                  0   \n",
       "4  1001020700  Alabama  Autauga      1     2891     1188                  0   \n",
       "\n",
       "   NUMGQTRS  PCTGQTRS  LILATracts_1And10  ...  TractAIAN  TractOMultir  \\\n",
       "0        36  0.012452                  1  ...         11            96   \n",
       "1        36  0.012452                  1  ...         11            96   \n",
       "2        36  0.012452                  1  ...         11            96   \n",
       "3        36  0.012452                  1  ...         11            96   \n",
       "4        36  0.012452                  1  ...         11            96   \n",
       "\n",
       "   TractHispanic  TractHUNV  TractSNAP  Impoverished  PointOrder  \\\n",
       "0             98        134        218         False           1   \n",
       "1             98        134        218         False           2   \n",
       "2             98        134        218         False           3   \n",
       "3             98        134        218         False           4   \n",
       "4             98        134        218         False           5   \n",
       "\n",
       "   SubPolygonId  PointLatitude  PointLongitude  \n",
       "0             1        32.4252        -86.4602  \n",
       "1             1        32.4319        -86.4630  \n",
       "2             1        32.4422        -86.4620  \n",
       "3             1        32.4460        -86.4647  \n",
       "4             1        32.4478        -86.4644  \n",
       "\n",
       "[5 rows x 152 columns]"
      ],
      "text/html": "<div>\n<style scoped>\n    .dataframe tbody tr th:only-of-type {\n        vertical-align: middle;\n    }\n\n    .dataframe tbody tr th {\n        vertical-align: top;\n    }\n\n    .dataframe thead th {\n        text-align: right;\n    }\n</style>\n<table border=\"1\" class=\"dataframe\">\n  <thead>\n    <tr style=\"text-align: right;\">\n      <th></th>\n      <th>GEOID</th>\n      <th>State</th>\n      <th>County</th>\n      <th>Urban</th>\n      <th>POP2010</th>\n      <th>OHU2010</th>\n      <th>GroupQuartersFlag</th>\n      <th>NUMGQTRS</th>\n      <th>PCTGQTRS</th>\n      <th>LILATracts_1And10</th>\n      <th>...</th>\n      <th>TractAIAN</th>\n      <th>TractOMultir</th>\n      <th>TractHispanic</th>\n      <th>TractHUNV</th>\n      <th>TractSNAP</th>\n      <th>Impoverished</th>\n      <th>PointOrder</th>\n      <th>SubPolygonId</th>\n      <th>PointLatitude</th>\n      <th>PointLongitude</th>\n    </tr>\n  </thead>\n  <tbody>\n    <tr>\n      <th>0</th>\n      <td>1001020700</td>\n      <td>Alabama</td>\n      <td>Autauga</td>\n      <td>1</td>\n      <td>2891</td>\n      <td>1188</td>\n      <td>0</td>\n      <td>36</td>\n      <td>0.012452</td>\n      <td>1</td>\n      <td>...</td>\n      <td>11</td>\n      <td>96</td>\n      <td>98</td>\n      <td>134</td>\n      <td>218</td>\n      <td>False</td>\n      <td>1</td>\n      <td>1</td>\n      <td>32.4252</td>\n      <td>-86.4602</td>\n    </tr>\n    <tr>\n      <th>1</th>\n      <td>1001020700</td>\n      <td>Alabama</td>\n      <td>Autauga</td>\n      <td>1</td>\n      <td>2891</td>\n      <td>1188</td>\n      <td>0</td>\n      <td>36</td>\n      <td>0.012452</td>\n      <td>1</td>\n      <td>...</td>\n      <td>11</td>\n      <td>96</td>\n      <td>98</td>\n      <td>134</td>\n      <td>218</td>\n      <td>False</td>\n      <td>2</td>\n      <td>1</td>\n      <td>32.4319</td>\n      <td>-86.4630</td>\n    </tr>\n    <tr>\n      <th>2</th>\n      <td>1001020700</td>\n      <td>Alabama</td>\n      <td>Autauga</td>\n      <td>1</td>\n      <td>2891</td>\n      <td>1188</td>\n      <td>0</td>\n      <td>36</td>\n      <td>0.012452</td>\n      <td>1</td>\n      <td>...</td>\n      <td>11</td>\n      <td>96</td>\n      <td>98</td>\n      <td>134</td>\n      <td>218</td>\n      <td>False</td>\n      <td>3</td>\n      <td>1</td>\n      <td>32.4422</td>\n      <td>-86.4620</td>\n    </tr>\n    <tr>\n      <th>3</th>\n      <td>1001020700</td>\n      <td>Alabama</td>\n      <td>Autauga</td>\n      <td>1</td>\n      <td>2891</td>\n      <td>1188</td>\n      <td>0</td>\n      <td>36</td>\n      <td>0.012452</td>\n      <td>1</td>\n      <td>...</td>\n      <td>11</td>\n      <td>96</td>\n      <td>98</td>\n      <td>134</td>\n      <td>218</td>\n      <td>False</td>\n      <td>4</td>\n      <td>1</td>\n      <td>32.4460</td>\n      <td>-86.4647</td>\n    </tr>\n    <tr>\n      <th>4</th>\n      <td>1001020700</td>\n      <td>Alabama</td>\n      <td>Autauga</td>\n      <td>1</td>\n      <td>2891</td>\n      <td>1188</td>\n      <td>0</td>\n      <td>36</td>\n      <td>0.012452</td>\n      <td>1</td>\n      <td>...</td>\n      <td>11</td>\n      <td>96</td>\n      <td>98</td>\n      <td>134</td>\n      <td>218</td>\n      <td>False</td>\n      <td>5</td>\n      <td>1</td>\n      <td>32.4478</td>\n      <td>-86.4644</td>\n    </tr>\n  </tbody>\n</table>\n<p>5 rows × 152 columns</p>\n</div>"
     },
     "metadata": {},
     "execution_count": 5
    }
   ],
   "source": [
    "# change CensusTract to GEOID\n",
    "new_columns = cen_tract.columns.values\n",
    "new_columns[0] = 'GEOID'\n",
    "cen_tract.columns  = new_columns\n",
    "\n",
    "# Create new Impoverished column\n",
    "df = cen_tract\n",
    "cond_1 = df['MedianFamilyIncome'] <= 24250\n",
    "df['Impoverished'] = cond_1\n",
    "# keep only impoverished and food desert for all US\n",
    "df = cen_tract\n",
    "cond_1 = df['Impoverished'] == True\n",
    "cond_2 = (df['LILATracts_1And10'] == 1) | (df['LILATracts_halfAnd10'] == 1)  | (df['LILATracts_1And20'] == 1)  | (df['LILATracts_Vehicle'] == 1)\n",
    "df_below_income_threshold_deserts = df.loc[cond_1 | cond_2]\n",
    "# print(df.shape)\n",
    "# df_below_income_threshold_deserts[['MedianFamilyIncome','Impoverished','LILATracts_halfAnd10','LILATracts_1And20','LILATracts_Vehicle','LILATracts_1And10']].head(5)\n",
    "\n",
    "# Merge dataframes\n",
    "# df1 = df_below_income_threshold_deserts\n",
    "# df2 = cen_tract_all_shapes_df\n",
    "# merged_df = pd.merge(df1, df2, on=\"GEOID\",how=\"left\")\n",
    "clmns = ['GEOID', 'State', 'County','POP2010','LILATracts_1And10', 'LILATracts_halfAnd10', 'LILATracts_1And20','LILATracts_Vehicle','MedianFamilyIncome',]\n",
    "merged_df[].to_csv('All_US_impoverished_or_deserts.csv')\n",
    "print(merged_df.shape)\n",
    "merged_df.head(5)"
   ]
  },
  {
   "cell_type": "code",
   "execution_count": 25,
   "metadata": {},
   "outputs": [
    {
     "output_type": "execute_result",
     "data": {
      "text/plain": [
       "        GEOID    State   County  Urban  POP2010  OHU2010  GroupQuartersFlag  \\\n",
       "0  1001020100  Alabama  Autauga      1     1912      693                  0   \n",
       "1  1001020200  Alabama  Autauga      1     2170      743                  0   \n",
       "\n",
       "   NUMGQTRS  PCTGQTRS  LILATracts_1And10  ...  TractSeniors  TractWhite  \\\n",
       "0         0   0.00000                  0  ...           221        1622   \n",
       "1       181   0.08341                  0  ...           214         888   \n",
       "\n",
       "   TractBlack  TractAsian  TractNHOPI  TractAIAN  TractOMultir  TractHispanic  \\\n",
       "0         217          14           0         14            45             44   \n",
       "1        1217           5           0          5            55             75   \n",
       "\n",
       "   TractHUNV  TractSNAP  \n",
       "0         26        112  \n",
       "1         87        202  \n",
       "\n",
       "[2 rows x 147 columns]"
      ],
      "text/html": "<div>\n<style scoped>\n    .dataframe tbody tr th:only-of-type {\n        vertical-align: middle;\n    }\n\n    .dataframe tbody tr th {\n        vertical-align: top;\n    }\n\n    .dataframe thead th {\n        text-align: right;\n    }\n</style>\n<table border=\"1\" class=\"dataframe\">\n  <thead>\n    <tr style=\"text-align: right;\">\n      <th></th>\n      <th>GEOID</th>\n      <th>State</th>\n      <th>County</th>\n      <th>Urban</th>\n      <th>POP2010</th>\n      <th>OHU2010</th>\n      <th>GroupQuartersFlag</th>\n      <th>NUMGQTRS</th>\n      <th>PCTGQTRS</th>\n      <th>LILATracts_1And10</th>\n      <th>...</th>\n      <th>TractSeniors</th>\n      <th>TractWhite</th>\n      <th>TractBlack</th>\n      <th>TractAsian</th>\n      <th>TractNHOPI</th>\n      <th>TractAIAN</th>\n      <th>TractOMultir</th>\n      <th>TractHispanic</th>\n      <th>TractHUNV</th>\n      <th>TractSNAP</th>\n    </tr>\n  </thead>\n  <tbody>\n    <tr>\n      <th>0</th>\n      <td>1001020100</td>\n      <td>Alabama</td>\n      <td>Autauga</td>\n      <td>1</td>\n      <td>1912</td>\n      <td>693</td>\n      <td>0</td>\n      <td>0</td>\n      <td>0.00000</td>\n      <td>0</td>\n      <td>...</td>\n      <td>221</td>\n      <td>1622</td>\n      <td>217</td>\n      <td>14</td>\n      <td>0</td>\n      <td>14</td>\n      <td>45</td>\n      <td>44</td>\n      <td>26</td>\n      <td>112</td>\n    </tr>\n    <tr>\n      <th>1</th>\n      <td>1001020200</td>\n      <td>Alabama</td>\n      <td>Autauga</td>\n      <td>1</td>\n      <td>2170</td>\n      <td>743</td>\n      <td>0</td>\n      <td>181</td>\n      <td>0.08341</td>\n      <td>0</td>\n      <td>...</td>\n      <td>214</td>\n      <td>888</td>\n      <td>1217</td>\n      <td>5</td>\n      <td>0</td>\n      <td>5</td>\n      <td>55</td>\n      <td>75</td>\n      <td>87</td>\n      <td>202</td>\n    </tr>\n  </tbody>\n</table>\n<p>2 rows × 147 columns</p>\n</div>"
     },
     "metadata": {},
     "execution_count": 25
    }
   ],
   "source": [
    "# change CensusTract to GEOID\n",
    "new_columns = cen_tract.columns.values\n",
    "new_columns[0] = 'GEOID'\n",
    "cen_tract.columns  = new_columns\n",
    "cen_tract.head(2)"
   ]
  },
  {
   "cell_type": "code",
   "execution_count": 26,
   "metadata": {},
   "outputs": [
    {
     "output_type": "execute_result",
     "data": {
      "text/plain": [
       "(72864, 147)"
      ]
     },
     "metadata": {},
     "execution_count": 26
    }
   ],
   "source": [
    "cen_tract.shape"
   ]
  },
  {
   "cell_type": "code",
   "execution_count": 6,
   "metadata": {},
   "outputs": [
    {
     "output_type": "stream",
     "name": "stdout",
     "text": [
      "(7565, 147)\nIL_IN_OH\n"
     ]
    },
    {
     "output_type": "execute_result",
     "data": {
      "text/plain": [
       "             GEOID     State County  Urban  POP2010  OHU2010  \\\n",
       "20889  17001000100  Illinois  Adams      1     4627     2115   \n",
       "20890  17001000201  Illinois  Adams      1     1986      872   \n",
       "20891  17001000202  Illinois  Adams      1     2999     1046   \n",
       "20892  17001000400  Illinois  Adams      1     4322     1534   \n",
       "20893  17001000500  Illinois  Adams      1     2337      889   \n",
       "\n",
       "       GroupQuartersFlag  NUMGQTRS  PCTGQTRS  LILATracts_1And10  ...  \\\n",
       "20889                  0        23  0.004971                  0  ...   \n",
       "20890                  0        20  0.010070                  0  ...   \n",
       "20891                  0       549  0.183061                  0  ...   \n",
       "20892                  0       589  0.136279                  0  ...   \n",
       "20893                  0       273  0.116816                  0  ...   \n",
       "\n",
       "       TractSeniors  TractWhite  TractBlack  TractAsian  TractNHOPI  \\\n",
       "20889          1074        4412          62          45           1   \n",
       "20890           326        1882          53           9           1   \n",
       "20891           289        2688         215          14           1   \n",
       "20892           890        3527         582          13           0   \n",
       "20893           429        1872         380           6           1   \n",
       "\n",
       "       TractAIAN  TractOMultir  TractHispanic  TractHUNV  TractSNAP  \n",
       "20889          7           100             72         98        180  \n",
       "20890          2            39             18         45        140  \n",
       "20891          9            72             62         84        227  \n",
       "20892          9           191             78        202        496  \n",
       "20893          5            73             18        171        230  \n",
       "\n",
       "[5 rows x 147 columns]"
      ],
      "text/html": "<div>\n<style scoped>\n    .dataframe tbody tr th:only-of-type {\n        vertical-align: middle;\n    }\n\n    .dataframe tbody tr th {\n        vertical-align: top;\n    }\n\n    .dataframe thead th {\n        text-align: right;\n    }\n</style>\n<table border=\"1\" class=\"dataframe\">\n  <thead>\n    <tr style=\"text-align: right;\">\n      <th></th>\n      <th>GEOID</th>\n      <th>State</th>\n      <th>County</th>\n      <th>Urban</th>\n      <th>POP2010</th>\n      <th>OHU2010</th>\n      <th>GroupQuartersFlag</th>\n      <th>NUMGQTRS</th>\n      <th>PCTGQTRS</th>\n      <th>LILATracts_1And10</th>\n      <th>...</th>\n      <th>TractSeniors</th>\n      <th>TractWhite</th>\n      <th>TractBlack</th>\n      <th>TractAsian</th>\n      <th>TractNHOPI</th>\n      <th>TractAIAN</th>\n      <th>TractOMultir</th>\n      <th>TractHispanic</th>\n      <th>TractHUNV</th>\n      <th>TractSNAP</th>\n    </tr>\n  </thead>\n  <tbody>\n    <tr>\n      <th>20889</th>\n      <td>17001000100</td>\n      <td>Illinois</td>\n      <td>Adams</td>\n      <td>1</td>\n      <td>4627</td>\n      <td>2115</td>\n      <td>0</td>\n      <td>23</td>\n      <td>0.004971</td>\n      <td>0</td>\n      <td>...</td>\n      <td>1074</td>\n      <td>4412</td>\n      <td>62</td>\n      <td>45</td>\n      <td>1</td>\n      <td>7</td>\n      <td>100</td>\n      <td>72</td>\n      <td>98</td>\n      <td>180</td>\n    </tr>\n    <tr>\n      <th>20890</th>\n      <td>17001000201</td>\n      <td>Illinois</td>\n      <td>Adams</td>\n      <td>1</td>\n      <td>1986</td>\n      <td>872</td>\n      <td>0</td>\n      <td>20</td>\n      <td>0.010070</td>\n      <td>0</td>\n      <td>...</td>\n      <td>326</td>\n      <td>1882</td>\n      <td>53</td>\n      <td>9</td>\n      <td>1</td>\n      <td>2</td>\n      <td>39</td>\n      <td>18</td>\n      <td>45</td>\n      <td>140</td>\n    </tr>\n    <tr>\n      <th>20891</th>\n      <td>17001000202</td>\n      <td>Illinois</td>\n      <td>Adams</td>\n      <td>1</td>\n      <td>2999</td>\n      <td>1046</td>\n      <td>0</td>\n      <td>549</td>\n      <td>0.183061</td>\n      <td>0</td>\n      <td>...</td>\n      <td>289</td>\n      <td>2688</td>\n      <td>215</td>\n      <td>14</td>\n      <td>1</td>\n      <td>9</td>\n      <td>72</td>\n      <td>62</td>\n      <td>84</td>\n      <td>227</td>\n    </tr>\n    <tr>\n      <th>20892</th>\n      <td>17001000400</td>\n      <td>Illinois</td>\n      <td>Adams</td>\n      <td>1</td>\n      <td>4322</td>\n      <td>1534</td>\n      <td>0</td>\n      <td>589</td>\n      <td>0.136279</td>\n      <td>0</td>\n      <td>...</td>\n      <td>890</td>\n      <td>3527</td>\n      <td>582</td>\n      <td>13</td>\n      <td>0</td>\n      <td>9</td>\n      <td>191</td>\n      <td>78</td>\n      <td>202</td>\n      <td>496</td>\n    </tr>\n    <tr>\n      <th>20893</th>\n      <td>17001000500</td>\n      <td>Illinois</td>\n      <td>Adams</td>\n      <td>1</td>\n      <td>2337</td>\n      <td>889</td>\n      <td>0</td>\n      <td>273</td>\n      <td>0.116816</td>\n      <td>0</td>\n      <td>...</td>\n      <td>429</td>\n      <td>1872</td>\n      <td>380</td>\n      <td>6</td>\n      <td>1</td>\n      <td>5</td>\n      <td>73</td>\n      <td>18</td>\n      <td>171</td>\n      <td>230</td>\n    </tr>\n  </tbody>\n</table>\n<p>5 rows × 147 columns</p>\n</div>"
     },
     "metadata": {},
     "execution_count": 6
    }
   ],
   "source": [
    "State = \"IL_IN_OH\"\n",
    "cond1 = cen_tract[\"State\"]=='Illinois'\n",
    "cond2 = cen_tract[\"State\"]=='Indiana'\n",
    "cond3 = cen_tract[\"State\"]=='Ohio'\n",
    "cond4 = ~(cen_tract['POP2010'] == 0)\n",
    "cen_tract_city = cen_tract[(cond1 | cond2 | cond3) & cond4]\n",
    "#cen_tract_city = cen_tract[(cen_tract[\"State\"]==State)]\n",
    "print(cen_tract_city.shape)\n",
    "print(State)\n",
    "cen_tract_city.head(5)"
   ]
  },
  {
   "cell_type": "code",
   "execution_count": 21,
   "metadata": {},
   "outputs": [
    {
     "output_type": "execute_result",
     "data": {
      "text/plain": [
       "       MedianFamilyIncome  Impoverished\n",
       "20910               18934          True\n",
       "20948               14643          True\n",
       "20949               19422          True\n",
       "20950               11750          True\n",
       "20951                7750          True\n",
       "...                   ...           ...\n",
       "53091               15942          True\n",
       "53093               19231          True\n",
       "53203                   0          True\n",
       "53266                   0          True\n",
       "53296                   0          True\n",
       "\n",
       "[365 rows x 2 columns]"
      ],
      "text/html": "<div>\n<style scoped>\n    .dataframe tbody tr th:only-of-type {\n        vertical-align: middle;\n    }\n\n    .dataframe tbody tr th {\n        vertical-align: top;\n    }\n\n    .dataframe thead th {\n        text-align: right;\n    }\n</style>\n<table border=\"1\" class=\"dataframe\">\n  <thead>\n    <tr style=\"text-align: right;\">\n      <th></th>\n      <th>MedianFamilyIncome</th>\n      <th>Impoverished</th>\n    </tr>\n  </thead>\n  <tbody>\n    <tr>\n      <th>20910</th>\n      <td>18934</td>\n      <td>True</td>\n    </tr>\n    <tr>\n      <th>20948</th>\n      <td>14643</td>\n      <td>True</td>\n    </tr>\n    <tr>\n      <th>20949</th>\n      <td>19422</td>\n      <td>True</td>\n    </tr>\n    <tr>\n      <th>20950</th>\n      <td>11750</td>\n      <td>True</td>\n    </tr>\n    <tr>\n      <th>20951</th>\n      <td>7750</td>\n      <td>True</td>\n    </tr>\n    <tr>\n      <th>...</th>\n      <td>...</td>\n      <td>...</td>\n    </tr>\n    <tr>\n      <th>53091</th>\n      <td>15942</td>\n      <td>True</td>\n    </tr>\n    <tr>\n      <th>53093</th>\n      <td>19231</td>\n      <td>True</td>\n    </tr>\n    <tr>\n      <th>53203</th>\n      <td>0</td>\n      <td>True</td>\n    </tr>\n    <tr>\n      <th>53266</th>\n      <td>0</td>\n      <td>True</td>\n    </tr>\n    <tr>\n      <th>53296</th>\n      <td>0</td>\n      <td>True</td>\n    </tr>\n  </tbody>\n</table>\n<p>365 rows × 2 columns</p>\n</div>"
     },
     "metadata": {},
     "execution_count": 21
    }
   ],
   "source": [
    "df[['MedianFamilyIncome','Impoverished']].loc[df['Impoverished'] == True]"
   ]
  },
  {
   "cell_type": "code",
   "execution_count": 7,
   "metadata": {},
   "outputs": [
    {
     "output_type": "stream",
     "name": "stdout",
     "text": [
      "(365, 147)\n"
     ]
    },
    {
     "output_type": "execute_result",
     "data": {
      "text/plain": [
       "             GEOID     State     County  Urban  POP2010  OHU2010  \\\n",
       "20910  17003957900  Illinois  Alexander      1     1610      718   \n",
       "20948  17019000301  Illinois  Champaign      1     4819     1970   \n",
       "20949  17019000302  Illinois  Champaign      1     3372     1971   \n",
       "20950  17019000401  Illinois  Champaign      1     4843      539   \n",
       "20951  17019000402  Illinois  Champaign      1     3931     1294   \n",
       "\n",
       "       GroupQuartersFlag  NUMGQTRS  PCTGQTRS  LILATracts_1And10  ...  \\\n",
       "20910                  0       107  0.066460                  0  ...   \n",
       "20948                  0       165  0.034239                  0  ...   \n",
       "20949                  0         0  0.000000                  0  ...   \n",
       "20950                  1      3684  0.760685                  0  ...   \n",
       "20951                  0       691  0.175782                  0  ...   \n",
       "\n",
       "       TractSeniors  TractWhite  TractBlack  TractAsian  TractNHOPI  \\\n",
       "20910           267         373        1187           5           1   \n",
       "20948            88        3617         198         710           2   \n",
       "20949            19        1696         180        1286           0   \n",
       "20950             4        3800         113         731           5   \n",
       "20951             3        3222         136         358           3   \n",
       "\n",
       "       TractAIAN  TractOMultir  TractHispanic  TractHUNV  TractSNAP  \n",
       "20910          4            40              4        160        293  \n",
       "20948          8           284            381        731         40  \n",
       "20949          7           203            208        823         19  \n",
       "20950          9           185            276        154          5  \n",
       "20951          8           204            302        444         11  \n",
       "\n",
       "[5 rows x 147 columns]"
      ],
      "text/html": "<div>\n<style scoped>\n    .dataframe tbody tr th:only-of-type {\n        vertical-align: middle;\n    }\n\n    .dataframe tbody tr th {\n        vertical-align: top;\n    }\n\n    .dataframe thead th {\n        text-align: right;\n    }\n</style>\n<table border=\"1\" class=\"dataframe\">\n  <thead>\n    <tr style=\"text-align: right;\">\n      <th></th>\n      <th>GEOID</th>\n      <th>State</th>\n      <th>County</th>\n      <th>Urban</th>\n      <th>POP2010</th>\n      <th>OHU2010</th>\n      <th>GroupQuartersFlag</th>\n      <th>NUMGQTRS</th>\n      <th>PCTGQTRS</th>\n      <th>LILATracts_1And10</th>\n      <th>...</th>\n      <th>TractSeniors</th>\n      <th>TractWhite</th>\n      <th>TractBlack</th>\n      <th>TractAsian</th>\n      <th>TractNHOPI</th>\n      <th>TractAIAN</th>\n      <th>TractOMultir</th>\n      <th>TractHispanic</th>\n      <th>TractHUNV</th>\n      <th>TractSNAP</th>\n    </tr>\n  </thead>\n  <tbody>\n    <tr>\n      <th>20910</th>\n      <td>17003957900</td>\n      <td>Illinois</td>\n      <td>Alexander</td>\n      <td>1</td>\n      <td>1610</td>\n      <td>718</td>\n      <td>0</td>\n      <td>107</td>\n      <td>0.066460</td>\n      <td>0</td>\n      <td>...</td>\n      <td>267</td>\n      <td>373</td>\n      <td>1187</td>\n      <td>5</td>\n      <td>1</td>\n      <td>4</td>\n      <td>40</td>\n      <td>4</td>\n      <td>160</td>\n      <td>293</td>\n    </tr>\n    <tr>\n      <th>20948</th>\n      <td>17019000301</td>\n      <td>Illinois</td>\n      <td>Champaign</td>\n      <td>1</td>\n      <td>4819</td>\n      <td>1970</td>\n      <td>0</td>\n      <td>165</td>\n      <td>0.034239</td>\n      <td>0</td>\n      <td>...</td>\n      <td>88</td>\n      <td>3617</td>\n      <td>198</td>\n      <td>710</td>\n      <td>2</td>\n      <td>8</td>\n      <td>284</td>\n      <td>381</td>\n      <td>731</td>\n      <td>40</td>\n    </tr>\n    <tr>\n      <th>20949</th>\n      <td>17019000302</td>\n      <td>Illinois</td>\n      <td>Champaign</td>\n      <td>1</td>\n      <td>3372</td>\n      <td>1971</td>\n      <td>0</td>\n      <td>0</td>\n      <td>0.000000</td>\n      <td>0</td>\n      <td>...</td>\n      <td>19</td>\n      <td>1696</td>\n      <td>180</td>\n      <td>1286</td>\n      <td>0</td>\n      <td>7</td>\n      <td>203</td>\n      <td>208</td>\n      <td>823</td>\n      <td>19</td>\n    </tr>\n    <tr>\n      <th>20950</th>\n      <td>17019000401</td>\n      <td>Illinois</td>\n      <td>Champaign</td>\n      <td>1</td>\n      <td>4843</td>\n      <td>539</td>\n      <td>1</td>\n      <td>3684</td>\n      <td>0.760685</td>\n      <td>0</td>\n      <td>...</td>\n      <td>4</td>\n      <td>3800</td>\n      <td>113</td>\n      <td>731</td>\n      <td>5</td>\n      <td>9</td>\n      <td>185</td>\n      <td>276</td>\n      <td>154</td>\n      <td>5</td>\n    </tr>\n    <tr>\n      <th>20951</th>\n      <td>17019000402</td>\n      <td>Illinois</td>\n      <td>Champaign</td>\n      <td>1</td>\n      <td>3931</td>\n      <td>1294</td>\n      <td>0</td>\n      <td>691</td>\n      <td>0.175782</td>\n      <td>0</td>\n      <td>...</td>\n      <td>3</td>\n      <td>3222</td>\n      <td>136</td>\n      <td>358</td>\n      <td>3</td>\n      <td>8</td>\n      <td>204</td>\n      <td>302</td>\n      <td>444</td>\n      <td>11</td>\n    </tr>\n  </tbody>\n</table>\n<p>5 rows × 147 columns</p>\n</div>"
     },
     "metadata": {},
     "execution_count": 7
    }
   ],
   "source": [
    "# Create new Impoverished column\n",
    "df = cen_tract_city\n",
    "cond_1 = df['MedianFamilyIncome'] <= 24250\n",
    "df_below_income_threshold = df.loc[cond_1]\n",
    "print(df_below_income_threshold.shape)\n",
    "df_below_income_threshold.head(5)"
   ]
  },
  {
   "cell_type": "code",
   "execution_count": 8,
   "metadata": {},
   "outputs": [
    {
     "output_type": "execute_result",
     "data": {
      "text/plain": [
       "20910    18934\n",
       "20948    14643\n",
       "20949    19422\n",
       "20950    11750\n",
       "20951     7750\n",
       "         ...  \n",
       "53091    15942\n",
       "53093    19231\n",
       "53203        0\n",
       "53266        0\n",
       "53296        0\n",
       "Name: MedianFamilyIncome, Length: 365, dtype: int64"
      ]
     },
     "metadata": {},
     "execution_count": 8
    }
   ],
   "source": [
    "df_below_income_threshold['MedianFamilyIncome']"
   ]
  },
  {
   "cell_type": "code",
   "execution_count": 9,
   "metadata": {},
   "outputs": [
    {
     "output_type": "stream",
     "name": "stdout",
     "text": [
      "(3340, 151)\n"
     ]
    },
    {
     "output_type": "execute_result",
     "data": {
      "text/plain": [
       "          GEOID     State     County  Urban  POP2010  OHU2010  \\\n",
       "0   17003957900  Illinois  Alexander      1     1610      718   \n",
       "1   17003957900  Illinois  Alexander      1     1610      718   \n",
       "2   17003957900  Illinois  Alexander      1     1610      718   \n",
       "3   17003957900  Illinois  Alexander      1     1610      718   \n",
       "4   17003957900  Illinois  Alexander      1     1610      718   \n",
       "5   17003957900  Illinois  Alexander      1     1610      718   \n",
       "6   17003957900  Illinois  Alexander      1     1610      718   \n",
       "7   17003957900  Illinois  Alexander      1     1610      718   \n",
       "8   17003957900  Illinois  Alexander      1     1610      718   \n",
       "9   17003957900  Illinois  Alexander      1     1610      718   \n",
       "10  17003957900  Illinois  Alexander      1     1610      718   \n",
       "11  17003957900  Illinois  Alexander      1     1610      718   \n",
       "12  17003957900  Illinois  Alexander      1     1610      718   \n",
       "13  17019000301  Illinois  Champaign      1     4819     1970   \n",
       "14  17019000301  Illinois  Champaign      1     4819     1970   \n",
       "15  17019000301  Illinois  Champaign      1     4819     1970   \n",
       "16  17019000301  Illinois  Champaign      1     4819     1970   \n",
       "17  17019000301  Illinois  Champaign      1     4819     1970   \n",
       "18  17019000301  Illinois  Champaign      1     4819     1970   \n",
       "19  17019000302  Illinois  Champaign      1     3372     1971   \n",
       "20  17019000302  Illinois  Champaign      1     3372     1971   \n",
       "21  17019000302  Illinois  Champaign      1     3372     1971   \n",
       "22  17019000302  Illinois  Champaign      1     3372     1971   \n",
       "23  17019000302  Illinois  Champaign      1     3372     1971   \n",
       "24  17019000302  Illinois  Champaign      1     3372     1971   \n",
       "25  17019000401  Illinois  Champaign      1     4843      539   \n",
       "26  17019000401  Illinois  Champaign      1     4843      539   \n",
       "27  17019000401  Illinois  Champaign      1     4843      539   \n",
       "28  17019000401  Illinois  Champaign      1     4843      539   \n",
       "29  17019000401  Illinois  Champaign      1     4843      539   \n",
       "30  17019000401  Illinois  Champaign      1     4843      539   \n",
       "31  17019000402  Illinois  Champaign      1     3931     1294   \n",
       "32  17019000402  Illinois  Champaign      1     3931     1294   \n",
       "33  17019000402  Illinois  Champaign      1     3931     1294   \n",
       "34  17019000402  Illinois  Champaign      1     3931     1294   \n",
       "35  17019000402  Illinois  Champaign      1     3931     1294   \n",
       "36  17019000402  Illinois  Champaign      1     3931     1294   \n",
       "37  17019000402  Illinois  Champaign      1     3931     1294   \n",
       "38  17029000800  Illinois      Coles      1     5675     1033   \n",
       "39  17029000800  Illinois      Coles      1     5675     1033   \n",
       "40  17029000800  Illinois      Coles      1     5675     1033   \n",
       "41  17029000800  Illinois      Coles      1     5675     1033   \n",
       "42  17029000800  Illinois      Coles      1     5675     1033   \n",
       "43  17029000800  Illinois      Coles      1     5675     1033   \n",
       "44  17029000800  Illinois      Coles      1     5675     1033   \n",
       "45  17029000800  Illinois      Coles      1     5675     1033   \n",
       "46  17029000800  Illinois      Coles      1     5675     1033   \n",
       "47  17029000800  Illinois      Coles      1     5675     1033   \n",
       "48  17029000800  Illinois      Coles      1     5675     1033   \n",
       "49  17029000800  Illinois      Coles      1     5675     1033   \n",
       "\n",
       "    GroupQuartersFlag  NUMGQTRS  PCTGQTRS  LILATracts_1And10  ...  TractNHOPI  \\\n",
       "0                   0       107  0.066460                  0  ...           1   \n",
       "1                   0       107  0.066460                  0  ...           1   \n",
       "2                   0       107  0.066460                  0  ...           1   \n",
       "3                   0       107  0.066460                  0  ...           1   \n",
       "4                   0       107  0.066460                  0  ...           1   \n",
       "5                   0       107  0.066460                  0  ...           1   \n",
       "6                   0       107  0.066460                  0  ...           1   \n",
       "7                   0       107  0.066460                  0  ...           1   \n",
       "8                   0       107  0.066460                  0  ...           1   \n",
       "9                   0       107  0.066460                  0  ...           1   \n",
       "10                  0       107  0.066460                  0  ...           1   \n",
       "11                  0       107  0.066460                  0  ...           1   \n",
       "12                  0       107  0.066460                  0  ...           1   \n",
       "13                  0       165  0.034239                  0  ...           2   \n",
       "14                  0       165  0.034239                  0  ...           2   \n",
       "15                  0       165  0.034239                  0  ...           2   \n",
       "16                  0       165  0.034239                  0  ...           2   \n",
       "17                  0       165  0.034239                  0  ...           2   \n",
       "18                  0       165  0.034239                  0  ...           2   \n",
       "19                  0         0  0.000000                  0  ...           0   \n",
       "20                  0         0  0.000000                  0  ...           0   \n",
       "21                  0         0  0.000000                  0  ...           0   \n",
       "22                  0         0  0.000000                  0  ...           0   \n",
       "23                  0         0  0.000000                  0  ...           0   \n",
       "24                  0         0  0.000000                  0  ...           0   \n",
       "25                  1      3684  0.760685                  0  ...           5   \n",
       "26                  1      3684  0.760685                  0  ...           5   \n",
       "27                  1      3684  0.760685                  0  ...           5   \n",
       "28                  1      3684  0.760685                  0  ...           5   \n",
       "29                  1      3684  0.760685                  0  ...           5   \n",
       "30                  1      3684  0.760685                  0  ...           5   \n",
       "31                  0       691  0.175782                  0  ...           3   \n",
       "32                  0       691  0.175782                  0  ...           3   \n",
       "33                  0       691  0.175782                  0  ...           3   \n",
       "34                  0       691  0.175782                  0  ...           3   \n",
       "35                  0       691  0.175782                  0  ...           3   \n",
       "36                  0       691  0.175782                  0  ...           3   \n",
       "37                  0       691  0.175782                  0  ...           3   \n",
       "38                  0      3525  0.621145                  0  ...           4   \n",
       "39                  0      3525  0.621145                  0  ...           4   \n",
       "40                  0      3525  0.621145                  0  ...           4   \n",
       "41                  0      3525  0.621145                  0  ...           4   \n",
       "42                  0      3525  0.621145                  0  ...           4   \n",
       "43                  0      3525  0.621145                  0  ...           4   \n",
       "44                  0      3525  0.621145                  0  ...           4   \n",
       "45                  0      3525  0.621145                  0  ...           4   \n",
       "46                  0      3525  0.621145                  0  ...           4   \n",
       "47                  0      3525  0.621145                  0  ...           4   \n",
       "48                  0      3525  0.621145                  0  ...           4   \n",
       "49                  0      3525  0.621145                  0  ...           4   \n",
       "\n",
       "    TractAIAN  TractOMultir  TractHispanic  TractHUNV  TractSNAP  PointOrder  \\\n",
       "0           4            40              4        160        293           1   \n",
       "1           4            40              4        160        293           2   \n",
       "2           4            40              4        160        293           3   \n",
       "3           4            40              4        160        293           4   \n",
       "4           4            40              4        160        293           5   \n",
       "5           4            40              4        160        293           6   \n",
       "6           4            40              4        160        293           7   \n",
       "7           4            40              4        160        293           8   \n",
       "8           4            40              4        160        293           9   \n",
       "9           4            40              4        160        293          10   \n",
       "10          4            40              4        160        293          11   \n",
       "11          4            40              4        160        293          12   \n",
       "12          4            40              4        160        293          13   \n",
       "13          8           284            381        731         40           1   \n",
       "14          8           284            381        731         40           2   \n",
       "15          8           284            381        731         40           3   \n",
       "16          8           284            381        731         40           4   \n",
       "17          8           284            381        731         40           5   \n",
       "18          8           284            381        731         40           6   \n",
       "19          7           203            208        823         19           1   \n",
       "20          7           203            208        823         19           2   \n",
       "21          7           203            208        823         19           3   \n",
       "22          7           203            208        823         19           4   \n",
       "23          7           203            208        823         19           5   \n",
       "24          7           203            208        823         19           6   \n",
       "25          9           185            276        154          5           1   \n",
       "26          9           185            276        154          5           2   \n",
       "27          9           185            276        154          5           3   \n",
       "28          9           185            276        154          5           4   \n",
       "29          9           185            276        154          5           5   \n",
       "30          9           185            276        154          5           6   \n",
       "31          8           204            302        444         11           1   \n",
       "32          8           204            302        444         11           2   \n",
       "33          8           204            302        444         11           3   \n",
       "34          8           204            302        444         11           4   \n",
       "35          8           204            302        444         11           5   \n",
       "36          8           204            302        444         11           6   \n",
       "37          8           204            302        444         11           7   \n",
       "38          6           173            226        166        167           1   \n",
       "39          6           173            226        166        167           2   \n",
       "40          6           173            226        166        167           3   \n",
       "41          6           173            226        166        167           4   \n",
       "42          6           173            226        166        167           5   \n",
       "43          6           173            226        166        167           6   \n",
       "44          6           173            226        166        167           7   \n",
       "45          6           173            226        166        167           8   \n",
       "46          6           173            226        166        167           9   \n",
       "47          6           173            226        166        167          10   \n",
       "48          6           173            226        166        167          11   \n",
       "49          6           173            226        166        167          12   \n",
       "\n",
       "    SubPolygonId  PointLatitude  PointLongitude  \n",
       "0              1        37.0001        -89.1616  \n",
       "1              1        36.9821        -89.1329  \n",
       "2              1        36.9703        -89.1700  \n",
       "3              1        36.9735        -89.1855  \n",
       "4              1        36.9800        -89.1921  \n",
       "5              1        36.9898        -89.1950  \n",
       "6              1        37.0050        -89.1965  \n",
       "7              1        37.0087        -89.1852  \n",
       "8              1        37.0054        -89.1833  \n",
       "9              1        37.0094        -89.1749  \n",
       "10             1        37.0061        -89.1722  \n",
       "11             1        37.0053        -89.1680  \n",
       "12             1        37.0001        -89.1616  \n",
       "13             1        40.1103        -88.2288  \n",
       "14             1        40.1091        -88.2287  \n",
       "15             1        40.1090        -88.2424  \n",
       "16             1        40.1126        -88.2418  \n",
       "17             1        40.1127        -88.2288  \n",
       "18             1        40.1103        -88.2288  \n",
       "19             1        40.1135        -88.2289  \n",
       "20             1        40.1127        -88.2289  \n",
       "21             1        40.1126        -88.2418  \n",
       "22             1        40.1163        -88.2405  \n",
       "23             1        40.1164        -88.2289  \n",
       "24             1        40.1135        -88.2289  \n",
       "25             1        40.1069        -88.2287  \n",
       "26             1        40.1055        -88.2287  \n",
       "27             1        40.1041        -88.2355  \n",
       "28             1        40.1090        -88.2354  \n",
       "29             1        40.1091        -88.2287  \n",
       "30             1        40.1069        -88.2287  \n",
       "31             1        40.1054        -88.2355  \n",
       "32             1        40.1041        -88.2355  \n",
       "33             1        40.1041        -88.2415  \n",
       "34             1        40.1053        -88.2430  \n",
       "35             1        40.1090        -88.2424  \n",
       "36             1        40.1090        -88.2354  \n",
       "37             1        40.1054        -88.2355  \n",
       "38             1        39.4737        -88.1721  \n",
       "39             1        39.4736        -88.1783  \n",
       "40             1        39.4706        -88.1795  \n",
       "41             1        39.4716        -88.1864  \n",
       "42             1        39.4811        -88.1864  \n",
       "43             1        39.4819        -88.1770  \n",
       "44             1        39.4844        -88.1770  \n",
       "45             1        39.4844        -88.1711  \n",
       "46             1        39.4805        -88.1711  \n",
       "47             1        39.4805        -88.1675  \n",
       "48             1        39.4772        -88.1674  \n",
       "49             1        39.4772        -88.1630  \n",
       "\n",
       "[50 rows x 151 columns]"
      ],
      "text/html": "<div>\n<style scoped>\n    .dataframe tbody tr th:only-of-type {\n        vertical-align: middle;\n    }\n\n    .dataframe tbody tr th {\n        vertical-align: top;\n    }\n\n    .dataframe thead th {\n        text-align: right;\n    }\n</style>\n<table border=\"1\" class=\"dataframe\">\n  <thead>\n    <tr style=\"text-align: right;\">\n      <th></th>\n      <th>GEOID</th>\n      <th>State</th>\n      <th>County</th>\n      <th>Urban</th>\n      <th>POP2010</th>\n      <th>OHU2010</th>\n      <th>GroupQuartersFlag</th>\n      <th>NUMGQTRS</th>\n      <th>PCTGQTRS</th>\n      <th>LILATracts_1And10</th>\n      <th>...</th>\n      <th>TractNHOPI</th>\n      <th>TractAIAN</th>\n      <th>TractOMultir</th>\n      <th>TractHispanic</th>\n      <th>TractHUNV</th>\n      <th>TractSNAP</th>\n      <th>PointOrder</th>\n      <th>SubPolygonId</th>\n      <th>PointLatitude</th>\n      <th>PointLongitude</th>\n    </tr>\n  </thead>\n  <tbody>\n    <tr>\n      <th>0</th>\n      <td>17003957900</td>\n      <td>Illinois</td>\n      <td>Alexander</td>\n      <td>1</td>\n      <td>1610</td>\n      <td>718</td>\n      <td>0</td>\n      <td>107</td>\n      <td>0.066460</td>\n      <td>0</td>\n      <td>...</td>\n      <td>1</td>\n      <td>4</td>\n      <td>40</td>\n      <td>4</td>\n      <td>160</td>\n      <td>293</td>\n      <td>1</td>\n      <td>1</td>\n      <td>37.0001</td>\n      <td>-89.1616</td>\n    </tr>\n    <tr>\n      <th>1</th>\n      <td>17003957900</td>\n      <td>Illinois</td>\n      <td>Alexander</td>\n      <td>1</td>\n      <td>1610</td>\n      <td>718</td>\n      <td>0</td>\n      <td>107</td>\n      <td>0.066460</td>\n      <td>0</td>\n      <td>...</td>\n      <td>1</td>\n      <td>4</td>\n      <td>40</td>\n      <td>4</td>\n      <td>160</td>\n      <td>293</td>\n      <td>2</td>\n      <td>1</td>\n      <td>36.9821</td>\n      <td>-89.1329</td>\n    </tr>\n    <tr>\n      <th>2</th>\n      <td>17003957900</td>\n      <td>Illinois</td>\n      <td>Alexander</td>\n      <td>1</td>\n      <td>1610</td>\n      <td>718</td>\n      <td>0</td>\n      <td>107</td>\n      <td>0.066460</td>\n      <td>0</td>\n      <td>...</td>\n      <td>1</td>\n      <td>4</td>\n      <td>40</td>\n      <td>4</td>\n      <td>160</td>\n      <td>293</td>\n      <td>3</td>\n      <td>1</td>\n      <td>36.9703</td>\n      <td>-89.1700</td>\n    </tr>\n    <tr>\n      <th>3</th>\n      <td>17003957900</td>\n      <td>Illinois</td>\n      <td>Alexander</td>\n      <td>1</td>\n      <td>1610</td>\n      <td>718</td>\n      <td>0</td>\n      <td>107</td>\n      <td>0.066460</td>\n      <td>0</td>\n      <td>...</td>\n      <td>1</td>\n      <td>4</td>\n      <td>40</td>\n      <td>4</td>\n      <td>160</td>\n      <td>293</td>\n      <td>4</td>\n      <td>1</td>\n      <td>36.9735</td>\n      <td>-89.1855</td>\n    </tr>\n    <tr>\n      <th>4</th>\n      <td>17003957900</td>\n      <td>Illinois</td>\n      <td>Alexander</td>\n      <td>1</td>\n      <td>1610</td>\n      <td>718</td>\n      <td>0</td>\n      <td>107</td>\n      <td>0.066460</td>\n      <td>0</td>\n      <td>...</td>\n      <td>1</td>\n      <td>4</td>\n      <td>40</td>\n      <td>4</td>\n      <td>160</td>\n      <td>293</td>\n      <td>5</td>\n      <td>1</td>\n      <td>36.9800</td>\n      <td>-89.1921</td>\n    </tr>\n    <tr>\n      <th>5</th>\n      <td>17003957900</td>\n      <td>Illinois</td>\n      <td>Alexander</td>\n      <td>1</td>\n      <td>1610</td>\n      <td>718</td>\n      <td>0</td>\n      <td>107</td>\n      <td>0.066460</td>\n      <td>0</td>\n      <td>...</td>\n      <td>1</td>\n      <td>4</td>\n      <td>40</td>\n      <td>4</td>\n      <td>160</td>\n      <td>293</td>\n      <td>6</td>\n      <td>1</td>\n      <td>36.9898</td>\n      <td>-89.1950</td>\n    </tr>\n    <tr>\n      <th>6</th>\n      <td>17003957900</td>\n      <td>Illinois</td>\n      <td>Alexander</td>\n      <td>1</td>\n      <td>1610</td>\n      <td>718</td>\n      <td>0</td>\n      <td>107</td>\n      <td>0.066460</td>\n      <td>0</td>\n      <td>...</td>\n      <td>1</td>\n      <td>4</td>\n      <td>40</td>\n      <td>4</td>\n      <td>160</td>\n      <td>293</td>\n      <td>7</td>\n      <td>1</td>\n      <td>37.0050</td>\n      <td>-89.1965</td>\n    </tr>\n    <tr>\n      <th>7</th>\n      <td>17003957900</td>\n      <td>Illinois</td>\n      <td>Alexander</td>\n      <td>1</td>\n      <td>1610</td>\n      <td>718</td>\n      <td>0</td>\n      <td>107</td>\n      <td>0.066460</td>\n      <td>0</td>\n      <td>...</td>\n      <td>1</td>\n      <td>4</td>\n      <td>40</td>\n      <td>4</td>\n      <td>160</td>\n      <td>293</td>\n      <td>8</td>\n      <td>1</td>\n      <td>37.0087</td>\n      <td>-89.1852</td>\n    </tr>\n    <tr>\n      <th>8</th>\n      <td>17003957900</td>\n      <td>Illinois</td>\n      <td>Alexander</td>\n      <td>1</td>\n      <td>1610</td>\n      <td>718</td>\n      <td>0</td>\n      <td>107</td>\n      <td>0.066460</td>\n      <td>0</td>\n      <td>...</td>\n      <td>1</td>\n      <td>4</td>\n      <td>40</td>\n      <td>4</td>\n      <td>160</td>\n      <td>293</td>\n      <td>9</td>\n      <td>1</td>\n      <td>37.0054</td>\n      <td>-89.1833</td>\n    </tr>\n    <tr>\n      <th>9</th>\n      <td>17003957900</td>\n      <td>Illinois</td>\n      <td>Alexander</td>\n      <td>1</td>\n      <td>1610</td>\n      <td>718</td>\n      <td>0</td>\n      <td>107</td>\n      <td>0.066460</td>\n      <td>0</td>\n      <td>...</td>\n      <td>1</td>\n      <td>4</td>\n      <td>40</td>\n      <td>4</td>\n      <td>160</td>\n      <td>293</td>\n      <td>10</td>\n      <td>1</td>\n      <td>37.0094</td>\n      <td>-89.1749</td>\n    </tr>\n    <tr>\n      <th>10</th>\n      <td>17003957900</td>\n      <td>Illinois</td>\n      <td>Alexander</td>\n      <td>1</td>\n      <td>1610</td>\n      <td>718</td>\n      <td>0</td>\n      <td>107</td>\n      <td>0.066460</td>\n      <td>0</td>\n      <td>...</td>\n      <td>1</td>\n      <td>4</td>\n      <td>40</td>\n      <td>4</td>\n      <td>160</td>\n      <td>293</td>\n      <td>11</td>\n      <td>1</td>\n      <td>37.0061</td>\n      <td>-89.1722</td>\n    </tr>\n    <tr>\n      <th>11</th>\n      <td>17003957900</td>\n      <td>Illinois</td>\n      <td>Alexander</td>\n      <td>1</td>\n      <td>1610</td>\n      <td>718</td>\n      <td>0</td>\n      <td>107</td>\n      <td>0.066460</td>\n      <td>0</td>\n      <td>...</td>\n      <td>1</td>\n      <td>4</td>\n      <td>40</td>\n      <td>4</td>\n      <td>160</td>\n      <td>293</td>\n      <td>12</td>\n      <td>1</td>\n      <td>37.0053</td>\n      <td>-89.1680</td>\n    </tr>\n    <tr>\n      <th>12</th>\n      <td>17003957900</td>\n      <td>Illinois</td>\n      <td>Alexander</td>\n      <td>1</td>\n      <td>1610</td>\n      <td>718</td>\n      <td>0</td>\n      <td>107</td>\n      <td>0.066460</td>\n      <td>0</td>\n      <td>...</td>\n      <td>1</td>\n      <td>4</td>\n      <td>40</td>\n      <td>4</td>\n      <td>160</td>\n      <td>293</td>\n      <td>13</td>\n      <td>1</td>\n      <td>37.0001</td>\n      <td>-89.1616</td>\n    </tr>\n    <tr>\n      <th>13</th>\n      <td>17019000301</td>\n      <td>Illinois</td>\n      <td>Champaign</td>\n      <td>1</td>\n      <td>4819</td>\n      <td>1970</td>\n      <td>0</td>\n      <td>165</td>\n      <td>0.034239</td>\n      <td>0</td>\n      <td>...</td>\n      <td>2</td>\n      <td>8</td>\n      <td>284</td>\n      <td>381</td>\n      <td>731</td>\n      <td>40</td>\n      <td>1</td>\n      <td>1</td>\n      <td>40.1103</td>\n      <td>-88.2288</td>\n    </tr>\n    <tr>\n      <th>14</th>\n      <td>17019000301</td>\n      <td>Illinois</td>\n      <td>Champaign</td>\n      <td>1</td>\n      <td>4819</td>\n      <td>1970</td>\n      <td>0</td>\n      <td>165</td>\n      <td>0.034239</td>\n      <td>0</td>\n      <td>...</td>\n      <td>2</td>\n      <td>8</td>\n      <td>284</td>\n      <td>381</td>\n      <td>731</td>\n      <td>40</td>\n      <td>2</td>\n      <td>1</td>\n      <td>40.1091</td>\n      <td>-88.2287</td>\n    </tr>\n    <tr>\n      <th>15</th>\n      <td>17019000301</td>\n      <td>Illinois</td>\n      <td>Champaign</td>\n      <td>1</td>\n      <td>4819</td>\n      <td>1970</td>\n      <td>0</td>\n      <td>165</td>\n      <td>0.034239</td>\n      <td>0</td>\n      <td>...</td>\n      <td>2</td>\n      <td>8</td>\n      <td>284</td>\n      <td>381</td>\n      <td>731</td>\n      <td>40</td>\n      <td>3</td>\n      <td>1</td>\n      <td>40.1090</td>\n      <td>-88.2424</td>\n    </tr>\n    <tr>\n      <th>16</th>\n      <td>17019000301</td>\n      <td>Illinois</td>\n      <td>Champaign</td>\n      <td>1</td>\n      <td>4819</td>\n      <td>1970</td>\n      <td>0</td>\n      <td>165</td>\n      <td>0.034239</td>\n      <td>0</td>\n      <td>...</td>\n      <td>2</td>\n      <td>8</td>\n      <td>284</td>\n      <td>381</td>\n      <td>731</td>\n      <td>40</td>\n      <td>4</td>\n      <td>1</td>\n      <td>40.1126</td>\n      <td>-88.2418</td>\n    </tr>\n    <tr>\n      <th>17</th>\n      <td>17019000301</td>\n      <td>Illinois</td>\n      <td>Champaign</td>\n      <td>1</td>\n      <td>4819</td>\n      <td>1970</td>\n      <td>0</td>\n      <td>165</td>\n      <td>0.034239</td>\n      <td>0</td>\n      <td>...</td>\n      <td>2</td>\n      <td>8</td>\n      <td>284</td>\n      <td>381</td>\n      <td>731</td>\n      <td>40</td>\n      <td>5</td>\n      <td>1</td>\n      <td>40.1127</td>\n      <td>-88.2288</td>\n    </tr>\n    <tr>\n      <th>18</th>\n      <td>17019000301</td>\n      <td>Illinois</td>\n      <td>Champaign</td>\n      <td>1</td>\n      <td>4819</td>\n      <td>1970</td>\n      <td>0</td>\n      <td>165</td>\n      <td>0.034239</td>\n      <td>0</td>\n      <td>...</td>\n      <td>2</td>\n      <td>8</td>\n      <td>284</td>\n      <td>381</td>\n      <td>731</td>\n      <td>40</td>\n      <td>6</td>\n      <td>1</td>\n      <td>40.1103</td>\n      <td>-88.2288</td>\n    </tr>\n    <tr>\n      <th>19</th>\n      <td>17019000302</td>\n      <td>Illinois</td>\n      <td>Champaign</td>\n      <td>1</td>\n      <td>3372</td>\n      <td>1971</td>\n      <td>0</td>\n      <td>0</td>\n      <td>0.000000</td>\n      <td>0</td>\n      <td>...</td>\n      <td>0</td>\n      <td>7</td>\n      <td>203</td>\n      <td>208</td>\n      <td>823</td>\n      <td>19</td>\n      <td>1</td>\n      <td>1</td>\n      <td>40.1135</td>\n      <td>-88.2289</td>\n    </tr>\n    <tr>\n      <th>20</th>\n      <td>17019000302</td>\n      <td>Illinois</td>\n      <td>Champaign</td>\n      <td>1</td>\n      <td>3372</td>\n      <td>1971</td>\n      <td>0</td>\n      <td>0</td>\n      <td>0.000000</td>\n      <td>0</td>\n      <td>...</td>\n      <td>0</td>\n      <td>7</td>\n      <td>203</td>\n      <td>208</td>\n      <td>823</td>\n      <td>19</td>\n      <td>2</td>\n      <td>1</td>\n      <td>40.1127</td>\n      <td>-88.2289</td>\n    </tr>\n    <tr>\n      <th>21</th>\n      <td>17019000302</td>\n      <td>Illinois</td>\n      <td>Champaign</td>\n      <td>1</td>\n      <td>3372</td>\n      <td>1971</td>\n      <td>0</td>\n      <td>0</td>\n      <td>0.000000</td>\n      <td>0</td>\n      <td>...</td>\n      <td>0</td>\n      <td>7</td>\n      <td>203</td>\n      <td>208</td>\n      <td>823</td>\n      <td>19</td>\n      <td>3</td>\n      <td>1</td>\n      <td>40.1126</td>\n      <td>-88.2418</td>\n    </tr>\n    <tr>\n      <th>22</th>\n      <td>17019000302</td>\n      <td>Illinois</td>\n      <td>Champaign</td>\n      <td>1</td>\n      <td>3372</td>\n      <td>1971</td>\n      <td>0</td>\n      <td>0</td>\n      <td>0.000000</td>\n      <td>0</td>\n      <td>...</td>\n      <td>0</td>\n      <td>7</td>\n      <td>203</td>\n      <td>208</td>\n      <td>823</td>\n      <td>19</td>\n      <td>4</td>\n      <td>1</td>\n      <td>40.1163</td>\n      <td>-88.2405</td>\n    </tr>\n    <tr>\n      <th>23</th>\n      <td>17019000302</td>\n      <td>Illinois</td>\n      <td>Champaign</td>\n      <td>1</td>\n      <td>3372</td>\n      <td>1971</td>\n      <td>0</td>\n      <td>0</td>\n      <td>0.000000</td>\n      <td>0</td>\n      <td>...</td>\n      <td>0</td>\n      <td>7</td>\n      <td>203</td>\n      <td>208</td>\n      <td>823</td>\n      <td>19</td>\n      <td>5</td>\n      <td>1</td>\n      <td>40.1164</td>\n      <td>-88.2289</td>\n    </tr>\n    <tr>\n      <th>24</th>\n      <td>17019000302</td>\n      <td>Illinois</td>\n      <td>Champaign</td>\n      <td>1</td>\n      <td>3372</td>\n      <td>1971</td>\n      <td>0</td>\n      <td>0</td>\n      <td>0.000000</td>\n      <td>0</td>\n      <td>...</td>\n      <td>0</td>\n      <td>7</td>\n      <td>203</td>\n      <td>208</td>\n      <td>823</td>\n      <td>19</td>\n      <td>6</td>\n      <td>1</td>\n      <td>40.1135</td>\n      <td>-88.2289</td>\n    </tr>\n    <tr>\n      <th>25</th>\n      <td>17019000401</td>\n      <td>Illinois</td>\n      <td>Champaign</td>\n      <td>1</td>\n      <td>4843</td>\n      <td>539</td>\n      <td>1</td>\n      <td>3684</td>\n      <td>0.760685</td>\n      <td>0</td>\n      <td>...</td>\n      <td>5</td>\n      <td>9</td>\n      <td>185</td>\n      <td>276</td>\n      <td>154</td>\n      <td>5</td>\n      <td>1</td>\n      <td>1</td>\n      <td>40.1069</td>\n      <td>-88.2287</td>\n    </tr>\n    <tr>\n      <th>26</th>\n      <td>17019000401</td>\n      <td>Illinois</td>\n      <td>Champaign</td>\n      <td>1</td>\n      <td>4843</td>\n      <td>539</td>\n      <td>1</td>\n      <td>3684</td>\n      <td>0.760685</td>\n      <td>0</td>\n      <td>...</td>\n      <td>5</td>\n      <td>9</td>\n      <td>185</td>\n      <td>276</td>\n      <td>154</td>\n      <td>5</td>\n      <td>2</td>\n      <td>1</td>\n      <td>40.1055</td>\n      <td>-88.2287</td>\n    </tr>\n    <tr>\n      <th>27</th>\n      <td>17019000401</td>\n      <td>Illinois</td>\n      <td>Champaign</td>\n      <td>1</td>\n      <td>4843</td>\n      <td>539</td>\n      <td>1</td>\n      <td>3684</td>\n      <td>0.760685</td>\n      <td>0</td>\n      <td>...</td>\n      <td>5</td>\n      <td>9</td>\n      <td>185</td>\n      <td>276</td>\n      <td>154</td>\n      <td>5</td>\n      <td>3</td>\n      <td>1</td>\n      <td>40.1041</td>\n      <td>-88.2355</td>\n    </tr>\n    <tr>\n      <th>28</th>\n      <td>17019000401</td>\n      <td>Illinois</td>\n      <td>Champaign</td>\n      <td>1</td>\n      <td>4843</td>\n      <td>539</td>\n      <td>1</td>\n      <td>3684</td>\n      <td>0.760685</td>\n      <td>0</td>\n      <td>...</td>\n      <td>5</td>\n      <td>9</td>\n      <td>185</td>\n      <td>276</td>\n      <td>154</td>\n      <td>5</td>\n      <td>4</td>\n      <td>1</td>\n      <td>40.1090</td>\n      <td>-88.2354</td>\n    </tr>\n    <tr>\n      <th>29</th>\n      <td>17019000401</td>\n      <td>Illinois</td>\n      <td>Champaign</td>\n      <td>1</td>\n      <td>4843</td>\n      <td>539</td>\n      <td>1</td>\n      <td>3684</td>\n      <td>0.760685</td>\n      <td>0</td>\n      <td>...</td>\n      <td>5</td>\n      <td>9</td>\n      <td>185</td>\n      <td>276</td>\n      <td>154</td>\n      <td>5</td>\n      <td>5</td>\n      <td>1</td>\n      <td>40.1091</td>\n      <td>-88.2287</td>\n    </tr>\n    <tr>\n      <th>30</th>\n      <td>17019000401</td>\n      <td>Illinois</td>\n      <td>Champaign</td>\n      <td>1</td>\n      <td>4843</td>\n      <td>539</td>\n      <td>1</td>\n      <td>3684</td>\n      <td>0.760685</td>\n      <td>0</td>\n      <td>...</td>\n      <td>5</td>\n      <td>9</td>\n      <td>185</td>\n      <td>276</td>\n      <td>154</td>\n      <td>5</td>\n      <td>6</td>\n      <td>1</td>\n      <td>40.1069</td>\n      <td>-88.2287</td>\n    </tr>\n    <tr>\n      <th>31</th>\n      <td>17019000402</td>\n      <td>Illinois</td>\n      <td>Champaign</td>\n      <td>1</td>\n      <td>3931</td>\n      <td>1294</td>\n      <td>0</td>\n      <td>691</td>\n      <td>0.175782</td>\n      <td>0</td>\n      <td>...</td>\n      <td>3</td>\n      <td>8</td>\n      <td>204</td>\n      <td>302</td>\n      <td>444</td>\n      <td>11</td>\n      <td>1</td>\n      <td>1</td>\n      <td>40.1054</td>\n      <td>-88.2355</td>\n    </tr>\n    <tr>\n      <th>32</th>\n      <td>17019000402</td>\n      <td>Illinois</td>\n      <td>Champaign</td>\n      <td>1</td>\n      <td>3931</td>\n      <td>1294</td>\n      <td>0</td>\n      <td>691</td>\n      <td>0.175782</td>\n      <td>0</td>\n      <td>...</td>\n      <td>3</td>\n      <td>8</td>\n      <td>204</td>\n      <td>302</td>\n      <td>444</td>\n      <td>11</td>\n      <td>2</td>\n      <td>1</td>\n      <td>40.1041</td>\n      <td>-88.2355</td>\n    </tr>\n    <tr>\n      <th>33</th>\n      <td>17019000402</td>\n      <td>Illinois</td>\n      <td>Champaign</td>\n      <td>1</td>\n      <td>3931</td>\n      <td>1294</td>\n      <td>0</td>\n      <td>691</td>\n      <td>0.175782</td>\n      <td>0</td>\n      <td>...</td>\n      <td>3</td>\n      <td>8</td>\n      <td>204</td>\n      <td>302</td>\n      <td>444</td>\n      <td>11</td>\n      <td>3</td>\n      <td>1</td>\n      <td>40.1041</td>\n      <td>-88.2415</td>\n    </tr>\n    <tr>\n      <th>34</th>\n      <td>17019000402</td>\n      <td>Illinois</td>\n      <td>Champaign</td>\n      <td>1</td>\n      <td>3931</td>\n      <td>1294</td>\n      <td>0</td>\n      <td>691</td>\n      <td>0.175782</td>\n      <td>0</td>\n      <td>...</td>\n      <td>3</td>\n      <td>8</td>\n      <td>204</td>\n      <td>302</td>\n      <td>444</td>\n      <td>11</td>\n      <td>4</td>\n      <td>1</td>\n      <td>40.1053</td>\n      <td>-88.2430</td>\n    </tr>\n    <tr>\n      <th>35</th>\n      <td>17019000402</td>\n      <td>Illinois</td>\n      <td>Champaign</td>\n      <td>1</td>\n      <td>3931</td>\n      <td>1294</td>\n      <td>0</td>\n      <td>691</td>\n      <td>0.175782</td>\n      <td>0</td>\n      <td>...</td>\n      <td>3</td>\n      <td>8</td>\n      <td>204</td>\n      <td>302</td>\n      <td>444</td>\n      <td>11</td>\n      <td>5</td>\n      <td>1</td>\n      <td>40.1090</td>\n      <td>-88.2424</td>\n    </tr>\n    <tr>\n      <th>36</th>\n      <td>17019000402</td>\n      <td>Illinois</td>\n      <td>Champaign</td>\n      <td>1</td>\n      <td>3931</td>\n      <td>1294</td>\n      <td>0</td>\n      <td>691</td>\n      <td>0.175782</td>\n      <td>0</td>\n      <td>...</td>\n      <td>3</td>\n      <td>8</td>\n      <td>204</td>\n      <td>302</td>\n      <td>444</td>\n      <td>11</td>\n      <td>6</td>\n      <td>1</td>\n      <td>40.1090</td>\n      <td>-88.2354</td>\n    </tr>\n    <tr>\n      <th>37</th>\n      <td>17019000402</td>\n      <td>Illinois</td>\n      <td>Champaign</td>\n      <td>1</td>\n      <td>3931</td>\n      <td>1294</td>\n      <td>0</td>\n      <td>691</td>\n      <td>0.175782</td>\n      <td>0</td>\n      <td>...</td>\n      <td>3</td>\n      <td>8</td>\n      <td>204</td>\n      <td>302</td>\n      <td>444</td>\n      <td>11</td>\n      <td>7</td>\n      <td>1</td>\n      <td>40.1054</td>\n      <td>-88.2355</td>\n    </tr>\n    <tr>\n      <th>38</th>\n      <td>17029000800</td>\n      <td>Illinois</td>\n      <td>Coles</td>\n      <td>1</td>\n      <td>5675</td>\n      <td>1033</td>\n      <td>0</td>\n      <td>3525</td>\n      <td>0.621145</td>\n      <td>0</td>\n      <td>...</td>\n      <td>4</td>\n      <td>6</td>\n      <td>173</td>\n      <td>226</td>\n      <td>166</td>\n      <td>167</td>\n      <td>1</td>\n      <td>1</td>\n      <td>39.4737</td>\n      <td>-88.1721</td>\n    </tr>\n    <tr>\n      <th>39</th>\n      <td>17029000800</td>\n      <td>Illinois</td>\n      <td>Coles</td>\n      <td>1</td>\n      <td>5675</td>\n      <td>1033</td>\n      <td>0</td>\n      <td>3525</td>\n      <td>0.621145</td>\n      <td>0</td>\n      <td>...</td>\n      <td>4</td>\n      <td>6</td>\n      <td>173</td>\n      <td>226</td>\n      <td>166</td>\n      <td>167</td>\n      <td>2</td>\n      <td>1</td>\n      <td>39.4736</td>\n      <td>-88.1783</td>\n    </tr>\n    <tr>\n      <th>40</th>\n      <td>17029000800</td>\n      <td>Illinois</td>\n      <td>Coles</td>\n      <td>1</td>\n      <td>5675</td>\n      <td>1033</td>\n      <td>0</td>\n      <td>3525</td>\n      <td>0.621145</td>\n      <td>0</td>\n      <td>...</td>\n      <td>4</td>\n      <td>6</td>\n      <td>173</td>\n      <td>226</td>\n      <td>166</td>\n      <td>167</td>\n      <td>3</td>\n      <td>1</td>\n      <td>39.4706</td>\n      <td>-88.1795</td>\n    </tr>\n    <tr>\n      <th>41</th>\n      <td>17029000800</td>\n      <td>Illinois</td>\n      <td>Coles</td>\n      <td>1</td>\n      <td>5675</td>\n      <td>1033</td>\n      <td>0</td>\n      <td>3525</td>\n      <td>0.621145</td>\n      <td>0</td>\n      <td>...</td>\n      <td>4</td>\n      <td>6</td>\n      <td>173</td>\n      <td>226</td>\n      <td>166</td>\n      <td>167</td>\n      <td>4</td>\n      <td>1</td>\n      <td>39.4716</td>\n      <td>-88.1864</td>\n    </tr>\n    <tr>\n      <th>42</th>\n      <td>17029000800</td>\n      <td>Illinois</td>\n      <td>Coles</td>\n      <td>1</td>\n      <td>5675</td>\n      <td>1033</td>\n      <td>0</td>\n      <td>3525</td>\n      <td>0.621145</td>\n      <td>0</td>\n      <td>...</td>\n      <td>4</td>\n      <td>6</td>\n      <td>173</td>\n      <td>226</td>\n      <td>166</td>\n      <td>167</td>\n      <td>5</td>\n      <td>1</td>\n      <td>39.4811</td>\n      <td>-88.1864</td>\n    </tr>\n    <tr>\n      <th>43</th>\n      <td>17029000800</td>\n      <td>Illinois</td>\n      <td>Coles</td>\n      <td>1</td>\n      <td>5675</td>\n      <td>1033</td>\n      <td>0</td>\n      <td>3525</td>\n      <td>0.621145</td>\n      <td>0</td>\n      <td>...</td>\n      <td>4</td>\n      <td>6</td>\n      <td>173</td>\n      <td>226</td>\n      <td>166</td>\n      <td>167</td>\n      <td>6</td>\n      <td>1</td>\n      <td>39.4819</td>\n      <td>-88.1770</td>\n    </tr>\n    <tr>\n      <th>44</th>\n      <td>17029000800</td>\n      <td>Illinois</td>\n      <td>Coles</td>\n      <td>1</td>\n      <td>5675</td>\n      <td>1033</td>\n      <td>0</td>\n      <td>3525</td>\n      <td>0.621145</td>\n      <td>0</td>\n      <td>...</td>\n      <td>4</td>\n      <td>6</td>\n      <td>173</td>\n      <td>226</td>\n      <td>166</td>\n      <td>167</td>\n      <td>7</td>\n      <td>1</td>\n      <td>39.4844</td>\n      <td>-88.1770</td>\n    </tr>\n    <tr>\n      <th>45</th>\n      <td>17029000800</td>\n      <td>Illinois</td>\n      <td>Coles</td>\n      <td>1</td>\n      <td>5675</td>\n      <td>1033</td>\n      <td>0</td>\n      <td>3525</td>\n      <td>0.621145</td>\n      <td>0</td>\n      <td>...</td>\n      <td>4</td>\n      <td>6</td>\n      <td>173</td>\n      <td>226</td>\n      <td>166</td>\n      <td>167</td>\n      <td>8</td>\n      <td>1</td>\n      <td>39.4844</td>\n      <td>-88.1711</td>\n    </tr>\n    <tr>\n      <th>46</th>\n      <td>17029000800</td>\n      <td>Illinois</td>\n      <td>Coles</td>\n      <td>1</td>\n      <td>5675</td>\n      <td>1033</td>\n      <td>0</td>\n      <td>3525</td>\n      <td>0.621145</td>\n      <td>0</td>\n      <td>...</td>\n      <td>4</td>\n      <td>6</td>\n      <td>173</td>\n      <td>226</td>\n      <td>166</td>\n      <td>167</td>\n      <td>9</td>\n      <td>1</td>\n      <td>39.4805</td>\n      <td>-88.1711</td>\n    </tr>\n    <tr>\n      <th>47</th>\n      <td>17029000800</td>\n      <td>Illinois</td>\n      <td>Coles</td>\n      <td>1</td>\n      <td>5675</td>\n      <td>1033</td>\n      <td>0</td>\n      <td>3525</td>\n      <td>0.621145</td>\n      <td>0</td>\n      <td>...</td>\n      <td>4</td>\n      <td>6</td>\n      <td>173</td>\n      <td>226</td>\n      <td>166</td>\n      <td>167</td>\n      <td>10</td>\n      <td>1</td>\n      <td>39.4805</td>\n      <td>-88.1675</td>\n    </tr>\n    <tr>\n      <th>48</th>\n      <td>17029000800</td>\n      <td>Illinois</td>\n      <td>Coles</td>\n      <td>1</td>\n      <td>5675</td>\n      <td>1033</td>\n      <td>0</td>\n      <td>3525</td>\n      <td>0.621145</td>\n      <td>0</td>\n      <td>...</td>\n      <td>4</td>\n      <td>6</td>\n      <td>173</td>\n      <td>226</td>\n      <td>166</td>\n      <td>167</td>\n      <td>11</td>\n      <td>1</td>\n      <td>39.4772</td>\n      <td>-88.1674</td>\n    </tr>\n    <tr>\n      <th>49</th>\n      <td>17029000800</td>\n      <td>Illinois</td>\n      <td>Coles</td>\n      <td>1</td>\n      <td>5675</td>\n      <td>1033</td>\n      <td>0</td>\n      <td>3525</td>\n      <td>0.621145</td>\n      <td>0</td>\n      <td>...</td>\n      <td>4</td>\n      <td>6</td>\n      <td>173</td>\n      <td>226</td>\n      <td>166</td>\n      <td>167</td>\n      <td>12</td>\n      <td>1</td>\n      <td>39.4772</td>\n      <td>-88.1630</td>\n    </tr>\n  </tbody>\n</table>\n<p>50 rows × 151 columns</p>\n</div>"
     },
     "metadata": {},
     "execution_count": 9
    }
   ],
   "source": [
    "df1 = df_below_income_threshold\n",
    "df2 = cen_tract_all_shapes_df\n",
    "\n",
    "merged_df = pd.merge(df1, df2, on=\"GEOID\",how=\"left\")\n",
    "print(merged_df.shape)\n",
    "merged_df.head(50)"
   ]
  },
  {
   "cell_type": "code",
   "execution_count": 10,
   "metadata": {},
   "outputs": [],
   "source": [
    "merged_df.to_csv('impoverished_'+State+'.csv')"
   ]
  },
  {
   "cell_type": "code",
   "execution_count": null,
   "metadata": {},
   "outputs": [],
   "source": []
  },
  {
   "cell_type": "code",
   "execution_count": null,
   "metadata": {},
   "outputs": [],
   "source": [
    "# cen_tract_all_shapes_df => Atlas\n",
    "# cen_tract               => food desert info\n",
    "\n",
    "## change CensusTract to GEOID\n",
    "new_columns = cen_tract.columns.values\n",
    "new_columns[0] = 'GEOID'\n",
    "cen_tract.columns  = new_columns"
   ]
  },
  {
   "cell_type": "code",
   "execution_count": null,
   "metadata": {},
   "outputs": [],
   "source": []
  },
  {
   "source": [
    "## Step 1: import lookup table csv as a dataframe"
   ],
   "cell_type": "markdown",
   "metadata": {}
  },
  {
   "cell_type": "code",
   "execution_count": 2,
   "metadata": {},
   "outputs": [
    {
     "output_type": "execute_result",
     "data": {
      "text/plain": [
       "         Field                 LongName                        Description\n",
       "0  CensusTract             Census tract                Census tract number\n",
       "1        State                    State                         State name\n",
       "2       County                   County                        County name\n",
       "3        Urban              Urban tract               Flag for urban tract\n",
       "4      POP2010  Population, tract total  Population count from 2010 census"
      ],
      "text/html": "<div>\n<style scoped>\n    .dataframe tbody tr th:only-of-type {\n        vertical-align: middle;\n    }\n\n    .dataframe tbody tr th {\n        vertical-align: top;\n    }\n\n    .dataframe thead th {\n        text-align: right;\n    }\n</style>\n<table border=\"1\" class=\"dataframe\">\n  <thead>\n    <tr style=\"text-align: right;\">\n      <th></th>\n      <th>Field</th>\n      <th>LongName</th>\n      <th>Description</th>\n    </tr>\n  </thead>\n  <tbody>\n    <tr>\n      <th>0</th>\n      <td>CensusTract</td>\n      <td>Census tract</td>\n      <td>Census tract number</td>\n    </tr>\n    <tr>\n      <th>1</th>\n      <td>State</td>\n      <td>State</td>\n      <td>State name</td>\n    </tr>\n    <tr>\n      <th>2</th>\n      <td>County</td>\n      <td>County</td>\n      <td>County name</td>\n    </tr>\n    <tr>\n      <th>3</th>\n      <td>Urban</td>\n      <td>Urban tract</td>\n      <td>Flag for urban tract</td>\n    </tr>\n    <tr>\n      <th>4</th>\n      <td>POP2010</td>\n      <td>Population, tract total</td>\n      <td>Population count from 2010 census</td>\n    </tr>\n  </tbody>\n</table>\n</div>"
     },
     "metadata": {},
     "execution_count": 2
    }
   ],
   "source": [
    "\n",
    "desc_df = pd.read_csv('food_access_variable_lookup.csv')\n",
    "desc_df.head(5)"
   ]
  },
  {
   "source": [
    "## Step 2: remove any absolute data, we only want to keep information that is in percentage\n",
    "The LongName column is of type string and we want to not inclue the row if the string ends with 'number'"
   ],
   "cell_type": "markdown",
   "metadata": {}
  },
  {
   "cell_type": "code",
   "execution_count": 3,
   "metadata": {},
   "outputs": [
    {
     "output_type": "stream",
     "name": "stdout",
     "text": [
      "(76, 3)\n"
     ]
    },
    {
     "output_type": "execute_result",
     "data": {
      "text/plain": [
       "         Field                 LongName                        Description\n",
       "0  CensusTract             Census tract                Census tract number\n",
       "1        State                    State                         State name\n",
       "2       County                   County                        County name\n",
       "3        Urban              Urban tract               Flag for urban tract\n",
       "4      POP2010  Population, tract total  Population count from 2010 census"
      ],
      "text/html": "<div>\n<style scoped>\n    .dataframe tbody tr th:only-of-type {\n        vertical-align: middle;\n    }\n\n    .dataframe tbody tr th {\n        vertical-align: top;\n    }\n\n    .dataframe thead th {\n        text-align: right;\n    }\n</style>\n<table border=\"1\" class=\"dataframe\">\n  <thead>\n    <tr style=\"text-align: right;\">\n      <th></th>\n      <th>Field</th>\n      <th>LongName</th>\n      <th>Description</th>\n    </tr>\n  </thead>\n  <tbody>\n    <tr>\n      <th>0</th>\n      <td>CensusTract</td>\n      <td>Census tract</td>\n      <td>Census tract number</td>\n    </tr>\n    <tr>\n      <th>1</th>\n      <td>State</td>\n      <td>State</td>\n      <td>State name</td>\n    </tr>\n    <tr>\n      <th>2</th>\n      <td>County</td>\n      <td>County</td>\n      <td>County name</td>\n    </tr>\n    <tr>\n      <th>3</th>\n      <td>Urban</td>\n      <td>Urban tract</td>\n      <td>Flag for urban tract</td>\n    </tr>\n    <tr>\n      <th>4</th>\n      <td>POP2010</td>\n      <td>Population, tract total</td>\n      <td>Population count from 2010 census</td>\n    </tr>\n  </tbody>\n</table>\n</div>"
     },
     "metadata": {},
     "execution_count": 3
    }
   ],
   "source": [
    "df = desc_df\n",
    "df_new = df.loc[~df['LongName'].str.endswith('number')]\n",
    "print(df_new.shape)\n",
    "df_share = df_new\n",
    "df_share.head(5)"
   ]
  },
  {
   "source": [
    "## Step 3: Remove Descriptions that start with Flag, these are binary classifications and not populatoin data"
   ],
   "cell_type": "markdown",
   "metadata": {}
  },
  {
   "cell_type": "code",
   "execution_count": 4,
   "metadata": {},
   "outputs": [
    {
     "output_type": "stream",
     "name": "stdout",
     "text": [
      "(60, 3)\n"
     ]
    },
    {
     "output_type": "execute_result",
     "data": {
      "text/plain": [
       "         Field                 LongName  \\\n",
       "0  CensusTract             Census tract   \n",
       "1        State                    State   \n",
       "2       County                   County   \n",
       "4      POP2010  Population, tract total   \n",
       "5      OHU2010     Housing units, total   \n",
       "\n",
       "                                    Description  \n",
       "0                           Census tract number  \n",
       "1                                    State name  \n",
       "2                                   County name  \n",
       "4             Population count from 2010 census  \n",
       "5  Occupied housing unit count from 2010 census  "
      ],
      "text/html": "<div>\n<style scoped>\n    .dataframe tbody tr th:only-of-type {\n        vertical-align: middle;\n    }\n\n    .dataframe tbody tr th {\n        vertical-align: top;\n    }\n\n    .dataframe thead th {\n        text-align: right;\n    }\n</style>\n<table border=\"1\" class=\"dataframe\">\n  <thead>\n    <tr style=\"text-align: right;\">\n      <th></th>\n      <th>Field</th>\n      <th>LongName</th>\n      <th>Description</th>\n    </tr>\n  </thead>\n  <tbody>\n    <tr>\n      <th>0</th>\n      <td>CensusTract</td>\n      <td>Census tract</td>\n      <td>Census tract number</td>\n    </tr>\n    <tr>\n      <th>1</th>\n      <td>State</td>\n      <td>State</td>\n      <td>State name</td>\n    </tr>\n    <tr>\n      <th>2</th>\n      <td>County</td>\n      <td>County</td>\n      <td>County name</td>\n    </tr>\n    <tr>\n      <th>4</th>\n      <td>POP2010</td>\n      <td>Population, tract total</td>\n      <td>Population count from 2010 census</td>\n    </tr>\n    <tr>\n      <th>5</th>\n      <td>OHU2010</td>\n      <td>Housing units, total</td>\n      <td>Occupied housing unit count from 2010 census</td>\n    </tr>\n  </tbody>\n</table>\n</div>"
     },
     "metadata": {},
     "execution_count": 4
    }
   ],
   "source": [
    "df = df_share\n",
    "df_new = df.loc[~df['Description'].str.startswith('Flag')]\n",
    "print(df_new.shape)\n",
    "df_share_noflag = df_new\n",
    "df_share_noflag.head(5)"
   ]
  },
  {
   "source": [
    "## Step 4: Keep only 1 out of the four distance categories in the Field column.  Save to csv to examine."
   ],
   "cell_type": "markdown",
   "metadata": {}
  },
  {
   "cell_type": "code",
   "execution_count": 5,
   "metadata": {},
   "outputs": [
    {
     "output_type": "stream",
     "name": "stdout",
     "text": [
      "(21, 3)\n"
     ]
    }
   ],
   "source": [
    "df = df_share_noflag\n",
    "cond_1 = ~df['Field'].str.endswith('halfshare')\n",
    "cond_2 = ~df['Field'].str.endswith('1share')\n",
    "cond_3 = ~df['Field'].str.endswith('10share')\n",
    "cond_4 = ~df['Field'].str.endswith('20share')\n",
    "df_new = df.loc[cond_1 & cond_3 & cond_4]\n",
    "print(df_new.shape)\n",
    "df_share_noflag_simple = df_new[['Field','Description']]\n",
    "df_share_noflag_simple.to_csv('short_description.csv')\n"
   ]
  },
  {
   "cell_type": "code",
   "execution_count": null,
   "metadata": {},
   "outputs": [],
   "source": []
  }
 ]
}