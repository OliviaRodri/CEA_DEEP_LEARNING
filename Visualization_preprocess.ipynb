{
 "metadata": {
  "language_info": {
   "codemirror_mode": {
    "name": "ipython",
    "version": 3
   },
   "file_extension": ".py",
   "mimetype": "text/x-python",
   "name": "python",
   "nbconvert_exporter": "python",
   "pygments_lexer": "ipython3",
   "version": "3.7.7-final"
  },
  "orig_nbformat": 2,
  "kernelspec": {
   "name": "mlenv",
   "display_name": "mlenv",
   "language": "python"
  }
 },
 "nbformat": 4,
 "nbformat_minor": 2,
 "cells": [
  {
   "cell_type": "code",
   "execution_count": 1,
   "metadata": {},
   "outputs": [
    {
     "output_type": "execute_result",
     "data": {
      "text/plain": [
       "   CensusTract    _c0  State   County  Urban  POP2010  OHU2010  \\\n",
       "0  48021950100  61529  Texas  Bastrop      0     8608     3063   \n",
       "1  48021950100  61529  Texas  Bastrop      0     8608     3063   \n",
       "2  48021950100  61529  Texas  Bastrop      0     8608     3063   \n",
       "3  48021950100  61529  Texas  Bastrop      0     8608     3063   \n",
       "4  48021950100  61529  Texas  Bastrop      0     8608     3063   \n",
       "\n",
       "   GroupQuartersFlag  NUMGQTRS  PCTGQTRS  ...  TractNHOPI  TractAIAN  \\\n",
       "0                  0         0       0.0  ...           4         65   \n",
       "1                  0         0       0.0  ...           4         65   \n",
       "2                  0         0       0.0  ...           4         65   \n",
       "3                  0         0       0.0  ...           4         65   \n",
       "4                  0         0       0.0  ...           4         65   \n",
       "\n",
       "   TractOMultir  TractHispanic  TractHUNV  TractSNAP  PointOrder  \\\n",
       "0          1596           2660         51        351           1   \n",
       "1          1596           2660         51        351           2   \n",
       "2          1596           2660         51        351           3   \n",
       "3          1596           2660         51        351           4   \n",
       "4          1596           2660         51        351           5   \n",
       "\n",
       "   SubPolygonId  PointLatitude  PointLongitude  \n",
       "0             1        30.2431        -97.1950  \n",
       "1             1        30.2438        -97.2139  \n",
       "2             1        30.2425        -97.2148  \n",
       "3             1        30.2469        -97.2217  \n",
       "4             1        30.2634        -97.2306  \n",
       "\n",
       "[5 rows x 152 columns]"
      ],
      "text/html": "<div>\n<style scoped>\n    .dataframe tbody tr th:only-of-type {\n        vertical-align: middle;\n    }\n\n    .dataframe tbody tr th {\n        vertical-align: top;\n    }\n\n    .dataframe thead th {\n        text-align: right;\n    }\n</style>\n<table border=\"1\" class=\"dataframe\">\n  <thead>\n    <tr style=\"text-align: right;\">\n      <th></th>\n      <th>CensusTract</th>\n      <th>_c0</th>\n      <th>State</th>\n      <th>County</th>\n      <th>Urban</th>\n      <th>POP2010</th>\n      <th>OHU2010</th>\n      <th>GroupQuartersFlag</th>\n      <th>NUMGQTRS</th>\n      <th>PCTGQTRS</th>\n      <th>...</th>\n      <th>TractNHOPI</th>\n      <th>TractAIAN</th>\n      <th>TractOMultir</th>\n      <th>TractHispanic</th>\n      <th>TractHUNV</th>\n      <th>TractSNAP</th>\n      <th>PointOrder</th>\n      <th>SubPolygonId</th>\n      <th>PointLatitude</th>\n      <th>PointLongitude</th>\n    </tr>\n  </thead>\n  <tbody>\n    <tr>\n      <th>0</th>\n      <td>48021950100</td>\n      <td>61529</td>\n      <td>Texas</td>\n      <td>Bastrop</td>\n      <td>0</td>\n      <td>8608</td>\n      <td>3063</td>\n      <td>0</td>\n      <td>0</td>\n      <td>0.0</td>\n      <td>...</td>\n      <td>4</td>\n      <td>65</td>\n      <td>1596</td>\n      <td>2660</td>\n      <td>51</td>\n      <td>351</td>\n      <td>1</td>\n      <td>1</td>\n      <td>30.2431</td>\n      <td>-97.1950</td>\n    </tr>\n    <tr>\n      <th>1</th>\n      <td>48021950100</td>\n      <td>61529</td>\n      <td>Texas</td>\n      <td>Bastrop</td>\n      <td>0</td>\n      <td>8608</td>\n      <td>3063</td>\n      <td>0</td>\n      <td>0</td>\n      <td>0.0</td>\n      <td>...</td>\n      <td>4</td>\n      <td>65</td>\n      <td>1596</td>\n      <td>2660</td>\n      <td>51</td>\n      <td>351</td>\n      <td>2</td>\n      <td>1</td>\n      <td>30.2438</td>\n      <td>-97.2139</td>\n    </tr>\n    <tr>\n      <th>2</th>\n      <td>48021950100</td>\n      <td>61529</td>\n      <td>Texas</td>\n      <td>Bastrop</td>\n      <td>0</td>\n      <td>8608</td>\n      <td>3063</td>\n      <td>0</td>\n      <td>0</td>\n      <td>0.0</td>\n      <td>...</td>\n      <td>4</td>\n      <td>65</td>\n      <td>1596</td>\n      <td>2660</td>\n      <td>51</td>\n      <td>351</td>\n      <td>3</td>\n      <td>1</td>\n      <td>30.2425</td>\n      <td>-97.2148</td>\n    </tr>\n    <tr>\n      <th>3</th>\n      <td>48021950100</td>\n      <td>61529</td>\n      <td>Texas</td>\n      <td>Bastrop</td>\n      <td>0</td>\n      <td>8608</td>\n      <td>3063</td>\n      <td>0</td>\n      <td>0</td>\n      <td>0.0</td>\n      <td>...</td>\n      <td>4</td>\n      <td>65</td>\n      <td>1596</td>\n      <td>2660</td>\n      <td>51</td>\n      <td>351</td>\n      <td>4</td>\n      <td>1</td>\n      <td>30.2469</td>\n      <td>-97.2217</td>\n    </tr>\n    <tr>\n      <th>4</th>\n      <td>48021950100</td>\n      <td>61529</td>\n      <td>Texas</td>\n      <td>Bastrop</td>\n      <td>0</td>\n      <td>8608</td>\n      <td>3063</td>\n      <td>0</td>\n      <td>0</td>\n      <td>0.0</td>\n      <td>...</td>\n      <td>4</td>\n      <td>65</td>\n      <td>1596</td>\n      <td>2660</td>\n      <td>51</td>\n      <td>351</td>\n      <td>5</td>\n      <td>1</td>\n      <td>30.2634</td>\n      <td>-97.2306</td>\n    </tr>\n  </tbody>\n</table>\n<p>5 rows × 152 columns</p>\n</div>"
     },
     "metadata": {},
     "execution_count": 1
    }
   ],
   "source": [
    "import pandas as pd \n",
    "#import fooddesert_austin_censusshapes.csv \n",
    "application_df = pd.read_csv(\"resources\\\\fooddesert_austin_censusshapes.csv\")\n",
    "application_df.head()"
   ]
  },
  {
   "cell_type": "code",
   "execution_count": 2,
   "metadata": {},
   "outputs": [
    {
     "output_type": "stream",
     "name": "stdout",
     "text": [
      "CensusTract\n_c0\nState\nCounty\nUrban\nPOP2010\nOHU2010\nGroupQuartersFlag\nNUMGQTRS\nPCTGQTRS\nLILATracts_1And10\nLILATracts_halfAnd10\nLILATracts_1And20\nLILATracts_Vehicle\nHUNVFlag\nLowIncomeTracts\nPovertyRate\nMedianFamilyIncome\nLA1and10\nLAhalfand10\nLA1and20\nLATracts_half\nLATracts1\nLATracts10\nLATracts20\nLATractsVehicle_20\nLAPOP1_10\nLAPOP05_10\nLAPOP1_20\nLALOWI1_10\nLALOWI05_10\nLALOWI1_20\nlapophalf\nlapophalfshare\nlalowihalf\nlalowihalfshare\nlakidshalf\nlakidshalfshare\nlaseniorshalf\nlaseniorshalfshare\nlawhitehalf\nlawhitehalfshare\nlablackhalf\nlablackhalfshare\nlaasianhalf\nlaasianhalfshare\nlanhopihalf\nlanhopihalfshare\nlaaianhalf\nlaaianhalfshare\nlaomultirhalf\nlaomultirhalfshare\nlahisphalf\nlahisphalfshare\nlahunvhalf\nlahunvhalfshare\nlasnaphalf\nlasnaphalfshare\nlapop1\nlapop1share\nlalowi1\nlalowi1share\nlakids1\nlakids1share\nlaseniors1\nlaseniors1share\nlawhite1\nlawhite1share\nlablack1\nlablack1share\nlaasian1\nlaasian1share\nlanhopi1\nlanhopi1share\nlaaian1\nlaaian1share\nlaomultir1\nlaomultir1share\nlahisp1\nlahisp1share\nlahunv1\nlahunv1share\nlasnap1\nlasnap1share\nlapop10\nlapop10share\nlalowi10\nlalowi10share\nlakids10\nlakids10share\nlaseniors10\nlaseniors10share\nlawhite10\nlawhite10share\nlablack10\nlablack10share\nlaasian10\nlaasian10share\nlanhopi10\nlanhopi10share\nlaaian10\nlaaian10share\nlaomultir10\nlaomultir10share\nlahisp10\nlahisp10share\nlahunv10\nlahunv10share\nlasnap10\nlasnap10share\nlapop20\nlapop20share\nlalowi20\nlalowi20share\nlakids20\nlakids20share\nlaseniors20\nlaseniors20share\nlawhite20\nlawhite20share\nlablack20\nlablack20share\nlaasian20\nlaasian20share\nlanhopi20\nlanhopi20share\nlaaian20\nlaaian20share\nlaomultir20\nlaomultir20share\nlahisp20\nlahisp20share\nlahunv20\nlahunv20share\nlasnap20\nlasnap20share\nTractLOWI\nTractKids\nTractSeniors\nTractWhite\nTractBlack\nTractAsian\nTractNHOPI\nTractAIAN\nTractOMultir\nTractHispanic\nTractHUNV\nTractSNAP\nPointOrder\nSubPolygonId\nPointLatitude\nPointLongitude\n"
     ]
    }
   ],
   "source": [
    "for col in application_df.columns: \n",
    "    print(col) "
   ]
  },
  {
   "cell_type": "code",
   "execution_count": 3,
   "metadata": {},
   "outputs": [
    {
     "output_type": "execute_result",
     "data": {
      "text/plain": [
       "   lasnaphalf  lahunvhalf     lasnap1    lahunv1  lasnap10  lahunv10  \\\n",
       "0  325.133846   48.548857  319.907937  47.889963  5.159378  0.922672   \n",
       "1  325.133846   48.548857  319.907937  47.889963  5.159378  0.922672   \n",
       "2  325.133846   48.548857  319.907937  47.889963  5.159378  0.922672   \n",
       "3  325.133846   48.548857  319.907937  47.889963  5.159378  0.922672   \n",
       "4  325.133846   48.548857  319.907937  47.889963  5.159378  0.922672   \n",
       "\n",
       "   lasnap20  lahunv20  lasnaphalfshare  lahunvhalfshare  lasnap1share  \\\n",
       "0         0         0         0.106149          0.01585      0.104443   \n",
       "1         0         0         0.106149          0.01585      0.104443   \n",
       "2         0         0         0.106149          0.01585      0.104443   \n",
       "3         0         0         0.106149          0.01585      0.104443   \n",
       "4         0         0         0.106149          0.01585      0.104443   \n",
       "\n",
       "   lahunv1share  lasnap10share  lahunv10share  lasnap20share  lahunv20share  \n",
       "0      0.015635       0.001684       0.000301              0              0  \n",
       "1      0.015635       0.001684       0.000301              0              0  \n",
       "2      0.015635       0.001684       0.000301              0              0  \n",
       "3      0.015635       0.001684       0.000301              0              0  \n",
       "4      0.015635       0.001684       0.000301              0              0  "
      ],
      "text/html": "<div>\n<style scoped>\n    .dataframe tbody tr th:only-of-type {\n        vertical-align: middle;\n    }\n\n    .dataframe tbody tr th {\n        vertical-align: top;\n    }\n\n    .dataframe thead th {\n        text-align: right;\n    }\n</style>\n<table border=\"1\" class=\"dataframe\">\n  <thead>\n    <tr style=\"text-align: right;\">\n      <th></th>\n      <th>lasnaphalf</th>\n      <th>lahunvhalf</th>\n      <th>lasnap1</th>\n      <th>lahunv1</th>\n      <th>lasnap10</th>\n      <th>lahunv10</th>\n      <th>lasnap20</th>\n      <th>lahunv20</th>\n      <th>lasnaphalfshare</th>\n      <th>lahunvhalfshare</th>\n      <th>lasnap1share</th>\n      <th>lahunv1share</th>\n      <th>lasnap10share</th>\n      <th>lahunv10share</th>\n      <th>lasnap20share</th>\n      <th>lahunv20share</th>\n    </tr>\n  </thead>\n  <tbody>\n    <tr>\n      <th>0</th>\n      <td>325.133846</td>\n      <td>48.548857</td>\n      <td>319.907937</td>\n      <td>47.889963</td>\n      <td>5.159378</td>\n      <td>0.922672</td>\n      <td>0</td>\n      <td>0</td>\n      <td>0.106149</td>\n      <td>0.01585</td>\n      <td>0.104443</td>\n      <td>0.015635</td>\n      <td>0.001684</td>\n      <td>0.000301</td>\n      <td>0</td>\n      <td>0</td>\n    </tr>\n    <tr>\n      <th>1</th>\n      <td>325.133846</td>\n      <td>48.548857</td>\n      <td>319.907937</td>\n      <td>47.889963</td>\n      <td>5.159378</td>\n      <td>0.922672</td>\n      <td>0</td>\n      <td>0</td>\n      <td>0.106149</td>\n      <td>0.01585</td>\n      <td>0.104443</td>\n      <td>0.015635</td>\n      <td>0.001684</td>\n      <td>0.000301</td>\n      <td>0</td>\n      <td>0</td>\n    </tr>\n    <tr>\n      <th>2</th>\n      <td>325.133846</td>\n      <td>48.548857</td>\n      <td>319.907937</td>\n      <td>47.889963</td>\n      <td>5.159378</td>\n      <td>0.922672</td>\n      <td>0</td>\n      <td>0</td>\n      <td>0.106149</td>\n      <td>0.01585</td>\n      <td>0.104443</td>\n      <td>0.015635</td>\n      <td>0.001684</td>\n      <td>0.000301</td>\n      <td>0</td>\n      <td>0</td>\n    </tr>\n    <tr>\n      <th>3</th>\n      <td>325.133846</td>\n      <td>48.548857</td>\n      <td>319.907937</td>\n      <td>47.889963</td>\n      <td>5.159378</td>\n      <td>0.922672</td>\n      <td>0</td>\n      <td>0</td>\n      <td>0.106149</td>\n      <td>0.01585</td>\n      <td>0.104443</td>\n      <td>0.015635</td>\n      <td>0.001684</td>\n      <td>0.000301</td>\n      <td>0</td>\n      <td>0</td>\n    </tr>\n    <tr>\n      <th>4</th>\n      <td>325.133846</td>\n      <td>48.548857</td>\n      <td>319.907937</td>\n      <td>47.889963</td>\n      <td>5.159378</td>\n      <td>0.922672</td>\n      <td>0</td>\n      <td>0</td>\n      <td>0.106149</td>\n      <td>0.01585</td>\n      <td>0.104443</td>\n      <td>0.015635</td>\n      <td>0.001684</td>\n      <td>0.000301</td>\n      <td>0</td>\n      <td>0</td>\n    </tr>\n  </tbody>\n</table>\n</div>"
     },
     "metadata": {},
     "execution_count": 3
    }
   ],
   "source": [
    "# Create a new dataframe with geo locations, county names, and columns to be used for visualizations. To be added are geo locations and county names\n",
    "\n",
    "column_list_number= ['lasnaphalf','lahunvhalf', 'lasnap1', 'lahunv1', 'lasnap10', 'lahunv10', 'lasnap20', 'lahunv20']\n",
    "column_list_share= ['lasnaphalfshare', 'lahunvhalfshare', 'lasnap1share', 'lahunv1share', 'lasnap10share', 'lahunv10share', 'lasnap20share', 'lahunv20share']\n",
    "viz_df= application_df[column_list_number+column_list_share]\n",
    "viz_df.head(5)"
   ]
  },
  {
   "cell_type": "code",
   "execution_count": 4,
   "metadata": {},
   "outputs": [
    {
     "output_type": "execute_result",
     "data": {
      "text/plain": [
       "0       0\n",
       "1       0\n",
       "2       0\n",
       "3       0\n",
       "4       0\n",
       "       ..\n",
       "7381    1\n",
       "7382    1\n",
       "7383    1\n",
       "7384    1\n",
       "7385    1\n",
       "Name: LILATracts_1And10, Length: 7386, dtype: int64"
      ]
     },
     "metadata": {},
     "execution_count": 4
    }
   ],
   "source": [
    "# Is this columns determine Food deserts?\n",
    "application_df['LILATracts_1And10']"
   ]
  },
  {
   "cell_type": "code",
   "execution_count": null,
   "metadata": {},
   "outputs": [],
   "source": []
  },
  {
   "cell_type": "code",
   "execution_count": null,
   "metadata": {},
   "outputs": [],
   "source": [
    "# Use a bar chart to show percentage of population count of low, median, high income levels for each county and the portion of those categories that are in a food desert. Create a new column\n",
    "#'Low income', - Create-qualifier to set 1 if below low income threshold \n",
    "#'lowincome_food_desert' Create-qualifier to set 1 if below low income threshold & is in a food desert\n",
    "# These newly created columns can now be counted in Tableau to find the percentage of low income and low income & food desert \n"
   ]
  },
  {
   "cell_type": "code",
   "execution_count": null,
   "metadata": {},
   "outputs": [],
   "source": [
    "#"
   ]
  }
 ]
}