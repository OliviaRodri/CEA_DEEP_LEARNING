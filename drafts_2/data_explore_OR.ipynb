{
 "metadata": {
  "language_info": {
   "codemirror_mode": {
    "name": "ipython",
    "version": 3
   },
   "file_extension": ".py",
   "mimetype": "text/x-python",
   "name": "python",
   "nbconvert_exporter": "python",
   "pygments_lexer": "ipython3",
   "version": "3.6.10-final"
  },
  "orig_nbformat": 2,
  "kernelspec": {
   "name": "python3",
   "display_name": "Python 3",
   "language": "python"
  }
 },
 "nbformat": 4,
 "nbformat_minor": 2,
 "cells": [
  {
   "cell_type": "code",
   "execution_count": 1,
   "metadata": {},
   "outputs": [],
   "source": [
    "import pandas as pd"
   ]
  },
  {
   "source": [
    "## Step 1: import lookup table csv as a dataframe"
   ],
   "cell_type": "markdown",
   "metadata": {}
  },
  {
   "cell_type": "code",
   "execution_count": 2,
   "metadata": {},
   "outputs": [
    {
     "output_type": "execute_result",
     "data": {
      "text/plain": [
       "         Field                 LongName                        Description\n",
       "0  CensusTract             Census tract                Census tract number\n",
       "1        State                    State                         State name\n",
       "2       County                   County                        County name\n",
       "3        Urban              Urban tract               Flag for urban tract\n",
       "4      POP2010  Population, tract total  Population count from 2010 census"
      ],
      "text/html": "<div>\n<style scoped>\n    .dataframe tbody tr th:only-of-type {\n        vertical-align: middle;\n    }\n\n    .dataframe tbody tr th {\n        vertical-align: top;\n    }\n\n    .dataframe thead th {\n        text-align: right;\n    }\n</style>\n<table border=\"1\" class=\"dataframe\">\n  <thead>\n    <tr style=\"text-align: right;\">\n      <th></th>\n      <th>Field</th>\n      <th>LongName</th>\n      <th>Description</th>\n    </tr>\n  </thead>\n  <tbody>\n    <tr>\n      <th>0</th>\n      <td>CensusTract</td>\n      <td>Census tract</td>\n      <td>Census tract number</td>\n    </tr>\n    <tr>\n      <th>1</th>\n      <td>State</td>\n      <td>State</td>\n      <td>State name</td>\n    </tr>\n    <tr>\n      <th>2</th>\n      <td>County</td>\n      <td>County</td>\n      <td>County name</td>\n    </tr>\n    <tr>\n      <th>3</th>\n      <td>Urban</td>\n      <td>Urban tract</td>\n      <td>Flag for urban tract</td>\n    </tr>\n    <tr>\n      <th>4</th>\n      <td>POP2010</td>\n      <td>Population, tract total</td>\n      <td>Population count from 2010 census</td>\n    </tr>\n  </tbody>\n</table>\n</div>"
     },
     "metadata": {},
     "execution_count": 2
    }
   ],
   "source": [
    "\n",
    "desc_df = pd.read_csv('food_access_variable_lookup.csv')\n",
    "desc_df.head(5)"
   ]
  },
  {
   "source": [
    "## Step 2: remove any absolute data, we only want to keep information that is in percentage\n",
    "The LongName column is of type string and we want to not inclue the row if the string ends with 'number'"
   ],
   "cell_type": "markdown",
   "metadata": {}
  },
  {
   "cell_type": "code",
   "execution_count": 3,
   "metadata": {},
   "outputs": [
    {
     "output_type": "stream",
     "name": "stdout",
     "text": [
      "(76, 3)\n"
     ]
    },
    {
     "output_type": "execute_result",
     "data": {
      "text/plain": [
       "         Field                 LongName                        Description\n",
       "0  CensusTract             Census tract                Census tract number\n",
       "1        State                    State                         State name\n",
       "2       County                   County                        County name\n",
       "3        Urban              Urban tract               Flag for urban tract\n",
       "4      POP2010  Population, tract total  Population count from 2010 census"
      ],
      "text/html": "<div>\n<style scoped>\n    .dataframe tbody tr th:only-of-type {\n        vertical-align: middle;\n    }\n\n    .dataframe tbody tr th {\n        vertical-align: top;\n    }\n\n    .dataframe thead th {\n        text-align: right;\n    }\n</style>\n<table border=\"1\" class=\"dataframe\">\n  <thead>\n    <tr style=\"text-align: right;\">\n      <th></th>\n      <th>Field</th>\n      <th>LongName</th>\n      <th>Description</th>\n    </tr>\n  </thead>\n  <tbody>\n    <tr>\n      <th>0</th>\n      <td>CensusTract</td>\n      <td>Census tract</td>\n      <td>Census tract number</td>\n    </tr>\n    <tr>\n      <th>1</th>\n      <td>State</td>\n      <td>State</td>\n      <td>State name</td>\n    </tr>\n    <tr>\n      <th>2</th>\n      <td>County</td>\n      <td>County</td>\n      <td>County name</td>\n    </tr>\n    <tr>\n      <th>3</th>\n      <td>Urban</td>\n      <td>Urban tract</td>\n      <td>Flag for urban tract</td>\n    </tr>\n    <tr>\n      <th>4</th>\n      <td>POP2010</td>\n      <td>Population, tract total</td>\n      <td>Population count from 2010 census</td>\n    </tr>\n  </tbody>\n</table>\n</div>"
     },
     "metadata": {},
     "execution_count": 3
    }
   ],
   "source": [
    "df = desc_df\n",
    "df_new = df.loc[~df['LongName'].str.endswith('number')]\n",
    "print(df_new.shape)\n",
    "df_share = df_new\n",
    "df_share.head(5)"
   ]
  },
  {
   "source": [
    "## Step 3: Remove Descriptions that start with Flag, these are binary classifications and not populatoin data"
   ],
   "cell_type": "markdown",
   "metadata": {}
  },
  {
   "cell_type": "code",
   "execution_count": 4,
   "metadata": {},
   "outputs": [
    {
     "output_type": "stream",
     "name": "stdout",
     "text": [
      "(60, 3)\n"
     ]
    },
    {
     "output_type": "execute_result",
     "data": {
      "text/plain": [
       "         Field                 LongName  \\\n",
       "0  CensusTract             Census tract   \n",
       "1        State                    State   \n",
       "2       County                   County   \n",
       "4      POP2010  Population, tract total   \n",
       "5      OHU2010     Housing units, total   \n",
       "\n",
       "                                    Description  \n",
       "0                           Census tract number  \n",
       "1                                    State name  \n",
       "2                                   County name  \n",
       "4             Population count from 2010 census  \n",
       "5  Occupied housing unit count from 2010 census  "
      ],
      "text/html": "<div>\n<style scoped>\n    .dataframe tbody tr th:only-of-type {\n        vertical-align: middle;\n    }\n\n    .dataframe tbody tr th {\n        vertical-align: top;\n    }\n\n    .dataframe thead th {\n        text-align: right;\n    }\n</style>\n<table border=\"1\" class=\"dataframe\">\n  <thead>\n    <tr style=\"text-align: right;\">\n      <th></th>\n      <th>Field</th>\n      <th>LongName</th>\n      <th>Description</th>\n    </tr>\n  </thead>\n  <tbody>\n    <tr>\n      <th>0</th>\n      <td>CensusTract</td>\n      <td>Census tract</td>\n      <td>Census tract number</td>\n    </tr>\n    <tr>\n      <th>1</th>\n      <td>State</td>\n      <td>State</td>\n      <td>State name</td>\n    </tr>\n    <tr>\n      <th>2</th>\n      <td>County</td>\n      <td>County</td>\n      <td>County name</td>\n    </tr>\n    <tr>\n      <th>4</th>\n      <td>POP2010</td>\n      <td>Population, tract total</td>\n      <td>Population count from 2010 census</td>\n    </tr>\n    <tr>\n      <th>5</th>\n      <td>OHU2010</td>\n      <td>Housing units, total</td>\n      <td>Occupied housing unit count from 2010 census</td>\n    </tr>\n  </tbody>\n</table>\n</div>"
     },
     "metadata": {},
     "execution_count": 4
    }
   ],
   "source": [
    "df = df_share\n",
    "df_new = df.loc[~df['Description'].str.startswith('Flag')]\n",
    "print(df_new.shape)\n",
    "df_share_noflag = df_new\n",
    "df_share_noflag.head(5)"
   ]
  },
  {
   "source": [
    "## Step 4: Keep only 1 out of the four distance categories in the Field column.  Save to csv to examine."
   ],
   "cell_type": "markdown",
   "metadata": {}
  },
  {
   "cell_type": "code",
   "execution_count": 5,
   "metadata": {},
   "outputs": [
    {
     "output_type": "stream",
     "name": "stdout",
     "text": [
      "(21, 3)\n"
     ]
    }
   ],
   "source": [
    "df = df_share_noflag\n",
    "cond_1 = ~df['Field'].str.endswith('halfshare')\n",
    "cond_2 = ~df['Field'].str.endswith('1share')\n",
    "cond_3 = ~df['Field'].str.endswith('10share')\n",
    "cond_4 = ~df['Field'].str.endswith('20share')\n",
    "df_new = df.loc[cond_1 & cond_3 & cond_4]\n",
    "print(df_new.shape)\n",
    "df_share_noflag_simple = df_new[['Field','Description']]\n",
    "df_share_noflag_simple.to_csv('short_description.csv')\n"
   ]
  },
  {
   "cell_type": "code",
   "execution_count": null,
   "metadata": {},
   "outputs": [],
   "source": []
  }
 ]
}