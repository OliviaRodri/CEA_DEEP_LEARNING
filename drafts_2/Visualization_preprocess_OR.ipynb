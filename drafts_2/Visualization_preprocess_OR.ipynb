{
 "metadata": {
  "language_info": {
   "codemirror_mode": {
    "name": "ipython",
    "version": 3
   },
   "file_extension": ".py",
   "mimetype": "text/x-python",
   "name": "python",
   "nbconvert_exporter": "python",
   "pygments_lexer": "ipython3",
   "version": "3.6.10-final"
  },
  "orig_nbformat": 2,
  "kernelspec": {
   "name": "mlenv",
   "display_name": "mlenv",
   "language": "python"
  }
 },
 "nbformat": 4,
 "nbformat_minor": 2,
 "cells": [
  {
   "cell_type": "code",
   "execution_count": 5,
   "metadata": {},
   "outputs": [
    {
     "output_type": "execute_result",
     "data": {
      "text/plain": [
       "   CensusTract    _c0  State   County  Urban  POP2010  OHU2010  \\\n",
       "0  48021950100  61529  Texas  Bastrop      0     8608     3063   \n",
       "1  48021950100  61529  Texas  Bastrop      0     8608     3063   \n",
       "2  48021950100  61529  Texas  Bastrop      0     8608     3063   \n",
       "3  48021950100  61529  Texas  Bastrop      0     8608     3063   \n",
       "4  48021950100  61529  Texas  Bastrop      0     8608     3063   \n",
       "\n",
       "   GroupQuartersFlag  NUMGQTRS  PCTGQTRS  ...  TractNHOPI  TractAIAN  \\\n",
       "0                  0         0       0.0  ...           4         65   \n",
       "1                  0         0       0.0  ...           4         65   \n",
       "2                  0         0       0.0  ...           4         65   \n",
       "3                  0         0       0.0  ...           4         65   \n",
       "4                  0         0       0.0  ...           4         65   \n",
       "\n",
       "   TractOMultir  TractHispanic  TractHUNV  TractSNAP  PointOrder  \\\n",
       "0          1596           2660         51        351           1   \n",
       "1          1596           2660         51        351           2   \n",
       "2          1596           2660         51        351           3   \n",
       "3          1596           2660         51        351           4   \n",
       "4          1596           2660         51        351           5   \n",
       "\n",
       "   SubPolygonId  PointLatitude  PointLongitude  \n",
       "0             1        30.2431        -97.1950  \n",
       "1             1        30.2438        -97.2139  \n",
       "2             1        30.2425        -97.2148  \n",
       "3             1        30.2469        -97.2217  \n",
       "4             1        30.2634        -97.2306  \n",
       "\n",
       "[5 rows x 152 columns]"
      ],
      "text/html": "<div>\n<style scoped>\n    .dataframe tbody tr th:only-of-type {\n        vertical-align: middle;\n    }\n\n    .dataframe tbody tr th {\n        vertical-align: top;\n    }\n\n    .dataframe thead th {\n        text-align: right;\n    }\n</style>\n<table border=\"1\" class=\"dataframe\">\n  <thead>\n    <tr style=\"text-align: right;\">\n      <th></th>\n      <th>CensusTract</th>\n      <th>_c0</th>\n      <th>State</th>\n      <th>County</th>\n      <th>Urban</th>\n      <th>POP2010</th>\n      <th>OHU2010</th>\n      <th>GroupQuartersFlag</th>\n      <th>NUMGQTRS</th>\n      <th>PCTGQTRS</th>\n      <th>...</th>\n      <th>TractNHOPI</th>\n      <th>TractAIAN</th>\n      <th>TractOMultir</th>\n      <th>TractHispanic</th>\n      <th>TractHUNV</th>\n      <th>TractSNAP</th>\n      <th>PointOrder</th>\n      <th>SubPolygonId</th>\n      <th>PointLatitude</th>\n      <th>PointLongitude</th>\n    </tr>\n  </thead>\n  <tbody>\n    <tr>\n      <th>0</th>\n      <td>48021950100</td>\n      <td>61529</td>\n      <td>Texas</td>\n      <td>Bastrop</td>\n      <td>0</td>\n      <td>8608</td>\n      <td>3063</td>\n      <td>0</td>\n      <td>0</td>\n      <td>0.0</td>\n      <td>...</td>\n      <td>4</td>\n      <td>65</td>\n      <td>1596</td>\n      <td>2660</td>\n      <td>51</td>\n      <td>351</td>\n      <td>1</td>\n      <td>1</td>\n      <td>30.2431</td>\n      <td>-97.1950</td>\n    </tr>\n    <tr>\n      <th>1</th>\n      <td>48021950100</td>\n      <td>61529</td>\n      <td>Texas</td>\n      <td>Bastrop</td>\n      <td>0</td>\n      <td>8608</td>\n      <td>3063</td>\n      <td>0</td>\n      <td>0</td>\n      <td>0.0</td>\n      <td>...</td>\n      <td>4</td>\n      <td>65</td>\n      <td>1596</td>\n      <td>2660</td>\n      <td>51</td>\n      <td>351</td>\n      <td>2</td>\n      <td>1</td>\n      <td>30.2438</td>\n      <td>-97.2139</td>\n    </tr>\n    <tr>\n      <th>2</th>\n      <td>48021950100</td>\n      <td>61529</td>\n      <td>Texas</td>\n      <td>Bastrop</td>\n      <td>0</td>\n      <td>8608</td>\n      <td>3063</td>\n      <td>0</td>\n      <td>0</td>\n      <td>0.0</td>\n      <td>...</td>\n      <td>4</td>\n      <td>65</td>\n      <td>1596</td>\n      <td>2660</td>\n      <td>51</td>\n      <td>351</td>\n      <td>3</td>\n      <td>1</td>\n      <td>30.2425</td>\n      <td>-97.2148</td>\n    </tr>\n    <tr>\n      <th>3</th>\n      <td>48021950100</td>\n      <td>61529</td>\n      <td>Texas</td>\n      <td>Bastrop</td>\n      <td>0</td>\n      <td>8608</td>\n      <td>3063</td>\n      <td>0</td>\n      <td>0</td>\n      <td>0.0</td>\n      <td>...</td>\n      <td>4</td>\n      <td>65</td>\n      <td>1596</td>\n      <td>2660</td>\n      <td>51</td>\n      <td>351</td>\n      <td>4</td>\n      <td>1</td>\n      <td>30.2469</td>\n      <td>-97.2217</td>\n    </tr>\n    <tr>\n      <th>4</th>\n      <td>48021950100</td>\n      <td>61529</td>\n      <td>Texas</td>\n      <td>Bastrop</td>\n      <td>0</td>\n      <td>8608</td>\n      <td>3063</td>\n      <td>0</td>\n      <td>0</td>\n      <td>0.0</td>\n      <td>...</td>\n      <td>4</td>\n      <td>65</td>\n      <td>1596</td>\n      <td>2660</td>\n      <td>51</td>\n      <td>351</td>\n      <td>5</td>\n      <td>1</td>\n      <td>30.2634</td>\n      <td>-97.2306</td>\n    </tr>\n  </tbody>\n</table>\n<p>5 rows × 152 columns</p>\n</div>"
     },
     "metadata": {},
     "execution_count": 5
    }
   ],
   "source": [
    "import pandas as pd \n",
    "#import fooddesert_austin_censusshapes.csv \n",
    "application_df = pd.read_csv(\"resources\\\\fooddesert_austin_censusshapes.csv\")\n",
    "application_df.head()"
   ]
  },
  {
   "cell_type": "code",
   "execution_count": 6,
   "metadata": {},
   "outputs": [
    {
     "output_type": "stream",
     "name": "stdout",
     "text": [
      "CensusTract\n_c0\nState\nCounty\nUrban\nPOP2010\nOHU2010\nGroupQuartersFlag\nNUMGQTRS\nPCTGQTRS\nLILATracts_1And10\nLILATracts_halfAnd10\nLILATracts_1And20\nLILATracts_Vehicle\nHUNVFlag\nLowIncomeTracts\nPovertyRate\nMedianFamilyIncome\nLA1and10\nLAhalfand10\nLA1and20\nLATracts_half\nLATracts1\nLATracts10\nLATracts20\nLATractsVehicle_20\nLAPOP1_10\nLAPOP05_10\nLAPOP1_20\nLALOWI1_10\nLALOWI05_10\nLALOWI1_20\nlapophalf\nlapophalfshare\nlalowihalf\nlalowihalfshare\nlakidshalf\nlakidshalfshare\nlaseniorshalf\nlaseniorshalfshare\nlawhitehalf\nlawhitehalfshare\nlablackhalf\nlablackhalfshare\nlaasianhalf\nlaasianhalfshare\nlanhopihalf\nlanhopihalfshare\nlaaianhalf\nlaaianhalfshare\nlaomultirhalf\nlaomultirhalfshare\nlahisphalf\nlahisphalfshare\nlahunvhalf\nlahunvhalfshare\nlasnaphalf\nlasnaphalfshare\nlapop1\nlapop1share\nlalowi1\nlalowi1share\nlakids1\nlakids1share\nlaseniors1\nlaseniors1share\nlawhite1\nlawhite1share\nlablack1\nlablack1share\nlaasian1\nlaasian1share\nlanhopi1\nlanhopi1share\nlaaian1\nlaaian1share\nlaomultir1\nlaomultir1share\nlahisp1\nlahisp1share\nlahunv1\nlahunv1share\nlasnap1\nlasnap1share\nlapop10\nlapop10share\nlalowi10\nlalowi10share\nlakids10\nlakids10share\nlaseniors10\nlaseniors10share\nlawhite10\nlawhite10share\nlablack10\nlablack10share\nlaasian10\nlaasian10share\nlanhopi10\nlanhopi10share\nlaaian10\nlaaian10share\nlaomultir10\nlaomultir10share\nlahisp10\nlahisp10share\nlahunv10\nlahunv10share\nlasnap10\nlasnap10share\nlapop20\nlapop20share\nlalowi20\nlalowi20share\nlakids20\nlakids20share\nlaseniors20\nlaseniors20share\nlawhite20\nlawhite20share\nlablack20\nlablack20share\nlaasian20\nlaasian20share\nlanhopi20\nlanhopi20share\nlaaian20\nlaaian20share\nlaomultir20\nlaomultir20share\nlahisp20\nlahisp20share\nlahunv20\nlahunv20share\nlasnap20\nlasnap20share\nTractLOWI\nTractKids\nTractSeniors\nTractWhite\nTractBlack\nTractAsian\nTractNHOPI\nTractAIAN\nTractOMultir\nTractHispanic\nTractHUNV\nTractSNAP\nPointOrder\nSubPolygonId\nPointLatitude\nPointLongitude\n"
     ]
    }
   ],
   "source": [
    "for col in application_df.columns: \n",
    "    print(col) "
   ]
  },
  {
   "cell_type": "code",
   "execution_count": 7,
   "metadata": {},
   "outputs": [
    {
     "output_type": "execute_result",
     "data": {
      "text/plain": [
       "   lasnaphalf  lahunvhalf     lasnap1    lahunv1  lasnap10  lahunv10  \\\n",
       "0  325.133846   48.548857  319.907937  47.889963  5.159378  0.922672   \n",
       "1  325.133846   48.548857  319.907937  47.889963  5.159378  0.922672   \n",
       "2  325.133846   48.548857  319.907937  47.889963  5.159378  0.922672   \n",
       "3  325.133846   48.548857  319.907937  47.889963  5.159378  0.922672   \n",
       "4  325.133846   48.548857  319.907937  47.889963  5.159378  0.922672   \n",
       "\n",
       "   lasnap20  lahunv20  lasnaphalfshare  lahunvhalfshare  lasnap1share  \\\n",
       "0         0         0         0.106149          0.01585      0.104443   \n",
       "1         0         0         0.106149          0.01585      0.104443   \n",
       "2         0         0         0.106149          0.01585      0.104443   \n",
       "3         0         0         0.106149          0.01585      0.104443   \n",
       "4         0         0         0.106149          0.01585      0.104443   \n",
       "\n",
       "   lahunv1share  lasnap10share  lahunv10share  lasnap20share  lahunv20share  \n",
       "0      0.015635       0.001684       0.000301              0              0  \n",
       "1      0.015635       0.001684       0.000301              0              0  \n",
       "2      0.015635       0.001684       0.000301              0              0  \n",
       "3      0.015635       0.001684       0.000301              0              0  \n",
       "4      0.015635       0.001684       0.000301              0              0  "
      ],
      "text/html": "<div>\n<style scoped>\n    .dataframe tbody tr th:only-of-type {\n        vertical-align: middle;\n    }\n\n    .dataframe tbody tr th {\n        vertical-align: top;\n    }\n\n    .dataframe thead th {\n        text-align: right;\n    }\n</style>\n<table border=\"1\" class=\"dataframe\">\n  <thead>\n    <tr style=\"text-align: right;\">\n      <th></th>\n      <th>lasnaphalf</th>\n      <th>lahunvhalf</th>\n      <th>lasnap1</th>\n      <th>lahunv1</th>\n      <th>lasnap10</th>\n      <th>lahunv10</th>\n      <th>lasnap20</th>\n      <th>lahunv20</th>\n      <th>lasnaphalfshare</th>\n      <th>lahunvhalfshare</th>\n      <th>lasnap1share</th>\n      <th>lahunv1share</th>\n      <th>lasnap10share</th>\n      <th>lahunv10share</th>\n      <th>lasnap20share</th>\n      <th>lahunv20share</th>\n    </tr>\n  </thead>\n  <tbody>\n    <tr>\n      <th>0</th>\n      <td>325.133846</td>\n      <td>48.548857</td>\n      <td>319.907937</td>\n      <td>47.889963</td>\n      <td>5.159378</td>\n      <td>0.922672</td>\n      <td>0</td>\n      <td>0</td>\n      <td>0.106149</td>\n      <td>0.01585</td>\n      <td>0.104443</td>\n      <td>0.015635</td>\n      <td>0.001684</td>\n      <td>0.000301</td>\n      <td>0</td>\n      <td>0</td>\n    </tr>\n    <tr>\n      <th>1</th>\n      <td>325.133846</td>\n      <td>48.548857</td>\n      <td>319.907937</td>\n      <td>47.889963</td>\n      <td>5.159378</td>\n      <td>0.922672</td>\n      <td>0</td>\n      <td>0</td>\n      <td>0.106149</td>\n      <td>0.01585</td>\n      <td>0.104443</td>\n      <td>0.015635</td>\n      <td>0.001684</td>\n      <td>0.000301</td>\n      <td>0</td>\n      <td>0</td>\n    </tr>\n    <tr>\n      <th>2</th>\n      <td>325.133846</td>\n      <td>48.548857</td>\n      <td>319.907937</td>\n      <td>47.889963</td>\n      <td>5.159378</td>\n      <td>0.922672</td>\n      <td>0</td>\n      <td>0</td>\n      <td>0.106149</td>\n      <td>0.01585</td>\n      <td>0.104443</td>\n      <td>0.015635</td>\n      <td>0.001684</td>\n      <td>0.000301</td>\n      <td>0</td>\n      <td>0</td>\n    </tr>\n    <tr>\n      <th>3</th>\n      <td>325.133846</td>\n      <td>48.548857</td>\n      <td>319.907937</td>\n      <td>47.889963</td>\n      <td>5.159378</td>\n      <td>0.922672</td>\n      <td>0</td>\n      <td>0</td>\n      <td>0.106149</td>\n      <td>0.01585</td>\n      <td>0.104443</td>\n      <td>0.015635</td>\n      <td>0.001684</td>\n      <td>0.000301</td>\n      <td>0</td>\n      <td>0</td>\n    </tr>\n    <tr>\n      <th>4</th>\n      <td>325.133846</td>\n      <td>48.548857</td>\n      <td>319.907937</td>\n      <td>47.889963</td>\n      <td>5.159378</td>\n      <td>0.922672</td>\n      <td>0</td>\n      <td>0</td>\n      <td>0.106149</td>\n      <td>0.01585</td>\n      <td>0.104443</td>\n      <td>0.015635</td>\n      <td>0.001684</td>\n      <td>0.000301</td>\n      <td>0</td>\n      <td>0</td>\n    </tr>\n  </tbody>\n</table>\n</div>"
     },
     "metadata": {},
     "execution_count": 7
    }
   ],
   "source": [
    "# Create a new dataframe with geo locations, county names, and columns to be used for visualizations. To be added are geo locations and county names\n",
    "\n",
    "column_list_number= ['lasnaphalf','lahunvhalf', 'lasnap1', 'lahunv1', 'lasnap10', 'lahunv10', 'lasnap20', 'lahunv20']\n",
    "column_list_share= ['lasnaphalfshare', 'lahunvhalfshare', 'lasnap1share', 'lahunv1share', 'lasnap10share', 'lahunv10share', 'lasnap20share', 'lahunv20share']\n",
    "viz_df= application_df[column_list_number+column_list_share]\n",
    "viz_df.head(5)"
   ]
  },
  {
   "cell_type": "code",
   "execution_count": 8,
   "metadata": {},
   "outputs": [
    {
     "output_type": "execute_result",
     "data": {
      "text/plain": [
       "0       0\n",
       "1       0\n",
       "2       0\n",
       "3       0\n",
       "4       0\n",
       "       ..\n",
       "7381    1\n",
       "7382    1\n",
       "7383    1\n",
       "7384    1\n",
       "7385    1\n",
       "Name: LILATracts_1And10, Length: 7386, dtype: int64"
      ]
     },
     "metadata": {},
     "execution_count": 8
    }
   ],
   "source": [
    "# Is this columns determine Food deserts?\n",
    "application_df['LILATracts_1And10']"
   ]
  },
  {
   "source": [
    "## Data Exploration"
   ],
   "cell_type": "markdown",
   "metadata": {}
  },
  {
   "cell_type": "code",
   "execution_count": 43,
   "metadata": {},
   "outputs": [
    {
     "output_type": "execute_result",
     "data": {
      "text/plain": [
       "                   Field                                           LongName  \\\n",
       "0            CensusTract                                       Census tract   \n",
       "1                  State                                              State   \n",
       "2                 County                                             County   \n",
       "3                  Urban                                        Urban tract   \n",
       "4                POP2010                            Population, tract total   \n",
       "5                OHU2010                               Housing units, total   \n",
       "6      GroupQuartersFlag              Group quarters, tract with high share   \n",
       "7               NUMGQTRS  Group quarters, tract population residing in, ...   \n",
       "8               PCTGQTRS  Group quarters, tract population residing in, ...   \n",
       "9      LILATracts_1And10  Low income and low access tract measured at 1 ...   \n",
       "10  LILATracts_halfAnd10  Low income and low access tract measured at 1/...   \n",
       "11     LILATracts_1And20  Low income and low access tract measured at 1 ...   \n",
       "12    LILATracts_Vehicle  Low income and low access tract using vehicle ...   \n",
       "13              HUNVFlag      Vehicle access, tract with low vehicle access   \n",
       "14       LowIncomeTracts                                   Low income tract   \n",
       "15           PovertyRate                                 Tract poverty rate   \n",
       "16    MedianFamilyIncome                         Tract median family income   \n",
       "17              LA1and10  Low access tract at 1 mile for urban areas and...   \n",
       "18           LAhalfand10  Low access tract at 1/2 mile for urban areas a...   \n",
       "19              LA1and20  Low access tract at 1 mile for urban areas and...   \n",
       "20         LATracts_half                       Low access tract at 1/2 mile   \n",
       "21             LATracts1                         Low access tract at 1 mile   \n",
       "22            LATracts10                       Low access tract at 10 miles   \n",
       "23            LATracts20                       Low access tract at 20 miles   \n",
       "24    LATractsVehicle_20  Low access tract using vehicle access and at 2...   \n",
       "25             LAPOP1_10  Low access, population at 1 mile for urban are...   \n",
       "26            LAPOP05_10  Low access, population at 1/2 mile for urban a...   \n",
       "27             LAPOP1_20  Low access, population at 1 mile for urban are...   \n",
       "28            LALOWI1_10  Low access, low-income population at 1 mile fo...   \n",
       "29           LALOWI05_10  Low access, low-income population at 1/2 mile ...   \n",
       "30            LALOWI1_20  Low access, low-income population at 1 mile fo...   \n",
       "31             lapophalf         Low access, population at 1/2 mile, number   \n",
       "32        lapophalfshare          Low access, population at 1/2 mile, share   \n",
       "33            lalowihalf  Low access, low-income population at 1/2 mile,...   \n",
       "34       lalowihalfshare  Low access, low-income population at 1/2 mile,...   \n",
       "35            lakidshalf  Low access, children age 0-17 at 1/2 mile, number   \n",
       "36       lakidshalfshare   Low access, children age 0-17 at 1/2 mile, share   \n",
       "37         laseniorshalf    Low access, seniors age 65+ at 1/2 mile, number   \n",
       "38    laseniorshalfshare     Low access, seniors age 65+ at 1/2 mile, share   \n",
       "39           lawhitehalf   Low access, White population at 1/2 mile, number   \n",
       "40      lawhitehalfshare    Low access, White population at 1/2 mile, share   \n",
       "41           lablackhalf  Low access, Black or African American populati...   \n",
       "42      lablackhalfshare  Low access, Black or African American populati...   \n",
       "43           laasianhalf   Low access, Asian population at 1/2 mile, number   \n",
       "44      laasianhalfshare    Low access, Asian population at 1/2 mile, share   \n",
       "45           lanhopihalf  Low access, Native Hawaiian or Other Pacific I...   \n",
       "46      lanhopihalfshare  Low access, Native Hawaiian or Other Pacific I...   \n",
       "47            laaianhalf  Low access, American Indian or Alaska Native p...   \n",
       "48       laaianhalfshare  Low access, American Indian or Alaska Native p...   \n",
       "49         laomultirhalf  Low access, Other/Multiple race population at ...   \n",
       "\n",
       "                                          Description  \n",
       "0                                 Census tract number  \n",
       "1                                          State name  \n",
       "2                                         County name  \n",
       "3                                Flag for urban tract  \n",
       "4                   Population count from 2010 census  \n",
       "5        Occupied housing unit count from 2010 census  \n",
       "6                          Flag for tract where >=67%  \n",
       "7   Count of tract population residing in group qu...  \n",
       "8   Percent of tract population residing in group ...  \n",
       "9   Flag for food desert when considering low acce...  \n",
       "10  Flag for food desert when considering low acce...  \n",
       "11  Flag for food desert when considering low acce...  \n",
       "12  Flag for food desert when considering vehicle ...  \n",
       "13  Flag for tract where >= 100 of households do n...  \n",
       "14                          Flag for low income tract  \n",
       "15  Share of the tract population living with inco...  \n",
       "16                         Tract median family income  \n",
       "17  Flag for low access tract at 1 mile for urban ...  \n",
       "18  Flag for low access tract at 1/2 mile for urba...  \n",
       "19  Flag for low access tract at 1 mile for urban ...  \n",
       "20  Flag for low access tract when considering 1/2...  \n",
       "21  Flag for low access tract when considering 1 m...  \n",
       "22  Flag for low access tract when considering 10 ...  \n",
       "23  Flag for low access tract when considering 20 ...  \n",
       "24  Flag for tract where >= 100 of households do n...  \n",
       "25  Population count beyond 1 mile for urban areas...  \n",
       "26  Population count beyond 1/2 mile for urban are...  \n",
       "27  Population count beyond 1 mile for urban areas...  \n",
       "28  Low income population count beyond 1 mile for ...  \n",
       "29  Low income population count beyond 1/2 mile fo...  \n",
       "30  Low income population count beyond 1 mile for ...  \n",
       "31  Population count beyond 1/2 mile from supermarket  \n",
       "32  Share of tract population that are beyond 1/2 ...  \n",
       "33  Low income population count beyond 1/2 mile fr...  \n",
       "34  Share of tract population that are low income ...  \n",
       "35  Kids population count beyond 1/2 mile from sup...  \n",
       "36  Share of tract population that are kids beyond...  \n",
       "37  Seniors population count beyond 1/2 mile from ...  \n",
       "38  Share of tract population that are seniors bey...  \n",
       "39  White population count beyond 1/2 mile from su...  \n",
       "40  Share of tract population that are white beyon...  \n",
       "41  Black or African American population count bey...  \n",
       "42  Share of tract population that are Black or Af...  \n",
       "43  Asian population count beyond 1/2 mile from su...  \n",
       "44  Share of tract population that are Asian beyon...  \n",
       "45  Native Hawaiian or Other Pacific Islander popu...  \n",
       "46  Share of tract population that are Native Hawa...  \n",
       "47  American Indian or Alaska Native population co...  \n",
       "48  Share of tract population that are American In...  \n",
       "49  Other/Multiple race population count beyond 1/...  "
      ],
      "text/html": "<div>\n<style scoped>\n    .dataframe tbody tr th:only-of-type {\n        vertical-align: middle;\n    }\n\n    .dataframe tbody tr th {\n        vertical-align: top;\n    }\n\n    .dataframe thead th {\n        text-align: right;\n    }\n</style>\n<table border=\"1\" class=\"dataframe\">\n  <thead>\n    <tr style=\"text-align: right;\">\n      <th></th>\n      <th>Field</th>\n      <th>LongName</th>\n      <th>Description</th>\n    </tr>\n  </thead>\n  <tbody>\n    <tr>\n      <th>0</th>\n      <td>CensusTract</td>\n      <td>Census tract</td>\n      <td>Census tract number</td>\n    </tr>\n    <tr>\n      <th>1</th>\n      <td>State</td>\n      <td>State</td>\n      <td>State name</td>\n    </tr>\n    <tr>\n      <th>2</th>\n      <td>County</td>\n      <td>County</td>\n      <td>County name</td>\n    </tr>\n    <tr>\n      <th>3</th>\n      <td>Urban</td>\n      <td>Urban tract</td>\n      <td>Flag for urban tract</td>\n    </tr>\n    <tr>\n      <th>4</th>\n      <td>POP2010</td>\n      <td>Population, tract total</td>\n      <td>Population count from 2010 census</td>\n    </tr>\n    <tr>\n      <th>5</th>\n      <td>OHU2010</td>\n      <td>Housing units, total</td>\n      <td>Occupied housing unit count from 2010 census</td>\n    </tr>\n    <tr>\n      <th>6</th>\n      <td>GroupQuartersFlag</td>\n      <td>Group quarters, tract with high share</td>\n      <td>Flag for tract where &gt;=67%</td>\n    </tr>\n    <tr>\n      <th>7</th>\n      <td>NUMGQTRS</td>\n      <td>Group quarters, tract population residing in, ...</td>\n      <td>Count of tract population residing in group qu...</td>\n    </tr>\n    <tr>\n      <th>8</th>\n      <td>PCTGQTRS</td>\n      <td>Group quarters, tract population residing in, ...</td>\n      <td>Percent of tract population residing in group ...</td>\n    </tr>\n    <tr>\n      <th>9</th>\n      <td>LILATracts_1And10</td>\n      <td>Low income and low access tract measured at 1 ...</td>\n      <td>Flag for food desert when considering low acce...</td>\n    </tr>\n    <tr>\n      <th>10</th>\n      <td>LILATracts_halfAnd10</td>\n      <td>Low income and low access tract measured at 1/...</td>\n      <td>Flag for food desert when considering low acce...</td>\n    </tr>\n    <tr>\n      <th>11</th>\n      <td>LILATracts_1And20</td>\n      <td>Low income and low access tract measured at 1 ...</td>\n      <td>Flag for food desert when considering low acce...</td>\n    </tr>\n    <tr>\n      <th>12</th>\n      <td>LILATracts_Vehicle</td>\n      <td>Low income and low access tract using vehicle ...</td>\n      <td>Flag for food desert when considering vehicle ...</td>\n    </tr>\n    <tr>\n      <th>13</th>\n      <td>HUNVFlag</td>\n      <td>Vehicle access, tract with low vehicle access</td>\n      <td>Flag for tract where &gt;= 100 of households do n...</td>\n    </tr>\n    <tr>\n      <th>14</th>\n      <td>LowIncomeTracts</td>\n      <td>Low income tract</td>\n      <td>Flag for low income tract</td>\n    </tr>\n    <tr>\n      <th>15</th>\n      <td>PovertyRate</td>\n      <td>Tract poverty rate</td>\n      <td>Share of the tract population living with inco...</td>\n    </tr>\n    <tr>\n      <th>16</th>\n      <td>MedianFamilyIncome</td>\n      <td>Tract median family income</td>\n      <td>Tract median family income</td>\n    </tr>\n    <tr>\n      <th>17</th>\n      <td>LA1and10</td>\n      <td>Low access tract at 1 mile for urban areas and...</td>\n      <td>Flag for low access tract at 1 mile for urban ...</td>\n    </tr>\n    <tr>\n      <th>18</th>\n      <td>LAhalfand10</td>\n      <td>Low access tract at 1/2 mile for urban areas a...</td>\n      <td>Flag for low access tract at 1/2 mile for urba...</td>\n    </tr>\n    <tr>\n      <th>19</th>\n      <td>LA1and20</td>\n      <td>Low access tract at 1 mile for urban areas and...</td>\n      <td>Flag for low access tract at 1 mile for urban ...</td>\n    </tr>\n    <tr>\n      <th>20</th>\n      <td>LATracts_half</td>\n      <td>Low access tract at 1/2 mile</td>\n      <td>Flag for low access tract when considering 1/2...</td>\n    </tr>\n    <tr>\n      <th>21</th>\n      <td>LATracts1</td>\n      <td>Low access tract at 1 mile</td>\n      <td>Flag for low access tract when considering 1 m...</td>\n    </tr>\n    <tr>\n      <th>22</th>\n      <td>LATracts10</td>\n      <td>Low access tract at 10 miles</td>\n      <td>Flag for low access tract when considering 10 ...</td>\n    </tr>\n    <tr>\n      <th>23</th>\n      <td>LATracts20</td>\n      <td>Low access tract at 20 miles</td>\n      <td>Flag for low access tract when considering 20 ...</td>\n    </tr>\n    <tr>\n      <th>24</th>\n      <td>LATractsVehicle_20</td>\n      <td>Low access tract using vehicle access and at 2...</td>\n      <td>Flag for tract where &gt;= 100 of households do n...</td>\n    </tr>\n    <tr>\n      <th>25</th>\n      <td>LAPOP1_10</td>\n      <td>Low access, population at 1 mile for urban are...</td>\n      <td>Population count beyond 1 mile for urban areas...</td>\n    </tr>\n    <tr>\n      <th>26</th>\n      <td>LAPOP05_10</td>\n      <td>Low access, population at 1/2 mile for urban a...</td>\n      <td>Population count beyond 1/2 mile for urban are...</td>\n    </tr>\n    <tr>\n      <th>27</th>\n      <td>LAPOP1_20</td>\n      <td>Low access, population at 1 mile for urban are...</td>\n      <td>Population count beyond 1 mile for urban areas...</td>\n    </tr>\n    <tr>\n      <th>28</th>\n      <td>LALOWI1_10</td>\n      <td>Low access, low-income population at 1 mile fo...</td>\n      <td>Low income population count beyond 1 mile for ...</td>\n    </tr>\n    <tr>\n      <th>29</th>\n      <td>LALOWI05_10</td>\n      <td>Low access, low-income population at 1/2 mile ...</td>\n      <td>Low income population count beyond 1/2 mile fo...</td>\n    </tr>\n    <tr>\n      <th>30</th>\n      <td>LALOWI1_20</td>\n      <td>Low access, low-income population at 1 mile fo...</td>\n      <td>Low income population count beyond 1 mile for ...</td>\n    </tr>\n    <tr>\n      <th>31</th>\n      <td>lapophalf</td>\n      <td>Low access, population at 1/2 mile, number</td>\n      <td>Population count beyond 1/2 mile from supermarket</td>\n    </tr>\n    <tr>\n      <th>32</th>\n      <td>lapophalfshare</td>\n      <td>Low access, population at 1/2 mile, share</td>\n      <td>Share of tract population that are beyond 1/2 ...</td>\n    </tr>\n    <tr>\n      <th>33</th>\n      <td>lalowihalf</td>\n      <td>Low access, low-income population at 1/2 mile,...</td>\n      <td>Low income population count beyond 1/2 mile fr...</td>\n    </tr>\n    <tr>\n      <th>34</th>\n      <td>lalowihalfshare</td>\n      <td>Low access, low-income population at 1/2 mile,...</td>\n      <td>Share of tract population that are low income ...</td>\n    </tr>\n    <tr>\n      <th>35</th>\n      <td>lakidshalf</td>\n      <td>Low access, children age 0-17 at 1/2 mile, number</td>\n      <td>Kids population count beyond 1/2 mile from sup...</td>\n    </tr>\n    <tr>\n      <th>36</th>\n      <td>lakidshalfshare</td>\n      <td>Low access, children age 0-17 at 1/2 mile, share</td>\n      <td>Share of tract population that are kids beyond...</td>\n    </tr>\n    <tr>\n      <th>37</th>\n      <td>laseniorshalf</td>\n      <td>Low access, seniors age 65+ at 1/2 mile, number</td>\n      <td>Seniors population count beyond 1/2 mile from ...</td>\n    </tr>\n    <tr>\n      <th>38</th>\n      <td>laseniorshalfshare</td>\n      <td>Low access, seniors age 65+ at 1/2 mile, share</td>\n      <td>Share of tract population that are seniors bey...</td>\n    </tr>\n    <tr>\n      <th>39</th>\n      <td>lawhitehalf</td>\n      <td>Low access, White population at 1/2 mile, number</td>\n      <td>White population count beyond 1/2 mile from su...</td>\n    </tr>\n    <tr>\n      <th>40</th>\n      <td>lawhitehalfshare</td>\n      <td>Low access, White population at 1/2 mile, share</td>\n      <td>Share of tract population that are white beyon...</td>\n    </tr>\n    <tr>\n      <th>41</th>\n      <td>lablackhalf</td>\n      <td>Low access, Black or African American populati...</td>\n      <td>Black or African American population count bey...</td>\n    </tr>\n    <tr>\n      <th>42</th>\n      <td>lablackhalfshare</td>\n      <td>Low access, Black or African American populati...</td>\n      <td>Share of tract population that are Black or Af...</td>\n    </tr>\n    <tr>\n      <th>43</th>\n      <td>laasianhalf</td>\n      <td>Low access, Asian population at 1/2 mile, number</td>\n      <td>Asian population count beyond 1/2 mile from su...</td>\n    </tr>\n    <tr>\n      <th>44</th>\n      <td>laasianhalfshare</td>\n      <td>Low access, Asian population at 1/2 mile, share</td>\n      <td>Share of tract population that are Asian beyon...</td>\n    </tr>\n    <tr>\n      <th>45</th>\n      <td>lanhopihalf</td>\n      <td>Low access, Native Hawaiian or Other Pacific I...</td>\n      <td>Native Hawaiian or Other Pacific Islander popu...</td>\n    </tr>\n    <tr>\n      <th>46</th>\n      <td>lanhopihalfshare</td>\n      <td>Low access, Native Hawaiian or Other Pacific I...</td>\n      <td>Share of tract population that are Native Hawa...</td>\n    </tr>\n    <tr>\n      <th>47</th>\n      <td>laaianhalf</td>\n      <td>Low access, American Indian or Alaska Native p...</td>\n      <td>American Indian or Alaska Native population co...</td>\n    </tr>\n    <tr>\n      <th>48</th>\n      <td>laaianhalfshare</td>\n      <td>Low access, American Indian or Alaska Native p...</td>\n      <td>Share of tract population that are American In...</td>\n    </tr>\n    <tr>\n      <th>49</th>\n      <td>laomultirhalf</td>\n      <td>Low access, Other/Multiple race population at ...</td>\n      <td>Other/Multiple race population count beyond 1/...</td>\n    </tr>\n  </tbody>\n</table>\n</div>"
     },
     "metadata": {},
     "execution_count": 43
    }
   ],
   "source": [
    "\n",
    "#import food_access_variable_lookup.csv.csv \n",
    "application_df = pd.read_csv(\"resources\\\\archive\\\\food_access_variable_lookup.csv\")\n",
    "application_df.head(50)"
   ]
  },
  {
   "cell_type": "code",
   "execution_count": 17,
   "metadata": {},
   "outputs": [
    {
     "output_type": "execute_result",
     "data": {
      "text/plain": [
       "(147, 3)"
      ]
     },
     "metadata": {},
     "execution_count": 17
    }
   ],
   "source": [
    "application_df.shape"
   ]
  },
  {
   "cell_type": "code",
   "execution_count": 26,
   "metadata": {},
   "outputs": [
    {
     "output_type": "stream",
     "name": "stdout",
     "text": [
      "LILATracts_1And20\nLow income and low access tract measured at 1 mile for urban areas and 20 miles for rural areas\nFlag for food desert when considering low accessibilty at 1 and 20 miles\n"
     ]
    }
   ],
   "source": [
    "print(application_df.iloc[11,0])\n",
    "print(application_df.iloc[11,1])\n",
    "print(application_df.iloc[11,2])"
   ]
  },
  {
   "cell_type": "code",
   "execution_count": 27,
   "metadata": {},
   "outputs": [
    {
     "output_type": "execute_result",
     "data": {
      "text/plain": [
       "             Field                                        Description\n",
       "0      CensusTract                                Census tract number\n",
       "1            State                                         State name\n",
       "2           County                                        County name\n",
       "3            Urban                               Flag for urban tract\n",
       "4          POP2010                  Population count from 2010 census\n",
       "..             ...                                                ...\n",
       "142      TractAIAN  Total count of American Indian and Alaska Nati...\n",
       "143   TractOMultir  Total count of Other/Multiple race population ...\n",
       "144  TractHispanic  Total count of Hispanic or Latino population i...\n",
       "145      TractHUNV  Total count of housing units without a vehicle...\n",
       "146      TractSNAP  Total count of housing units receiving SNAP be...\n",
       "\n",
       "[147 rows x 2 columns]"
      ],
      "text/html": "<div>\n<style scoped>\n    .dataframe tbody tr th:only-of-type {\n        vertical-align: middle;\n    }\n\n    .dataframe tbody tr th {\n        vertical-align: top;\n    }\n\n    .dataframe thead th {\n        text-align: right;\n    }\n</style>\n<table border=\"1\" class=\"dataframe\">\n  <thead>\n    <tr style=\"text-align: right;\">\n      <th></th>\n      <th>Field</th>\n      <th>Description</th>\n    </tr>\n  </thead>\n  <tbody>\n    <tr>\n      <th>0</th>\n      <td>CensusTract</td>\n      <td>Census tract number</td>\n    </tr>\n    <tr>\n      <th>1</th>\n      <td>State</td>\n      <td>State name</td>\n    </tr>\n    <tr>\n      <th>2</th>\n      <td>County</td>\n      <td>County name</td>\n    </tr>\n    <tr>\n      <th>3</th>\n      <td>Urban</td>\n      <td>Flag for urban tract</td>\n    </tr>\n    <tr>\n      <th>4</th>\n      <td>POP2010</td>\n      <td>Population count from 2010 census</td>\n    </tr>\n    <tr>\n      <th>...</th>\n      <td>...</td>\n      <td>...</td>\n    </tr>\n    <tr>\n      <th>142</th>\n      <td>TractAIAN</td>\n      <td>Total count of American Indian and Alaska Nati...</td>\n    </tr>\n    <tr>\n      <th>143</th>\n      <td>TractOMultir</td>\n      <td>Total count of Other/Multiple race population ...</td>\n    </tr>\n    <tr>\n      <th>144</th>\n      <td>TractHispanic</td>\n      <td>Total count of Hispanic or Latino population i...</td>\n    </tr>\n    <tr>\n      <th>145</th>\n      <td>TractHUNV</td>\n      <td>Total count of housing units without a vehicle...</td>\n    </tr>\n    <tr>\n      <th>146</th>\n      <td>TractSNAP</td>\n      <td>Total count of housing units receiving SNAP be...</td>\n    </tr>\n  </tbody>\n</table>\n<p>147 rows × 2 columns</p>\n</div>"
     },
     "metadata": {},
     "execution_count": 27
    }
   ],
   "source": [
    "application_df.drop(['LongName'], axis=1)"
   ]
  },
  {
   "cell_type": "code",
   "execution_count": 33,
   "metadata": {},
   "outputs": [
    {
     "output_type": "execute_result",
     "data": {
      "text/plain": [
       "                Field                                           LongName  \\\n",
       "11  LILATracts_1And20  Low income and low access tract measured at 1 ...   \n",
       "\n",
       "                                          Description  \n",
       "11  Flag for food desert when considering low acce...  "
      ],
      "text/html": "<div>\n<style scoped>\n    .dataframe tbody tr th:only-of-type {\n        vertical-align: middle;\n    }\n\n    .dataframe tbody tr th {\n        vertical-align: top;\n    }\n\n    .dataframe thead th {\n        text-align: right;\n    }\n</style>\n<table border=\"1\" class=\"dataframe\">\n  <thead>\n    <tr style=\"text-align: right;\">\n      <th></th>\n      <th>Field</th>\n      <th>LongName</th>\n      <th>Description</th>\n    </tr>\n  </thead>\n  <tbody>\n    <tr>\n      <th>11</th>\n      <td>LILATracts_1And20</td>\n      <td>Low income and low access tract measured at 1 ...</td>\n      <td>Flag for food desert when considering low acce...</td>\n    </tr>\n  </tbody>\n</table>\n</div>"
     },
     "metadata": {},
     "execution_count": 33
    }
   ],
   "source": [
    "application_df.loc[application_df[\"Field\"] == \"LILATracts_1And20\"]"
   ]
  },
  {
   "cell_type": "code",
   "execution_count": 36,
   "metadata": {},
   "outputs": [
    {
     "output_type": "execute_result",
     "data": {
      "text/plain": [
       "True"
      ]
     },
     "metadata": {},
     "execution_count": 36
    }
   ],
   "source": [
    "test= 'LILATracts_1And20'\n",
    "test.endswith('_1And20')"
   ]
  },
  {
   "cell_type": "code",
   "execution_count": null,
   "metadata": {},
   "outputs": [],
   "source": []
  },
  {
   "cell_type": "code",
   "execution_count": 45,
   "metadata": {},
   "outputs": [
    {
     "output_type": "execute_result",
     "data": {
      "text/plain": [
       "              Field                                           LongName  \\\n",
       "58      lapop1share            Low access, population at 1 mile, share   \n",
       "60     lalowi1share  Low access, low-income population at 1 mile, s...   \n",
       "62     lakids1share     Low access, children age 0-17 at 1 mile, share   \n",
       "64  laseniors1share       Low access, seniors age 65+ at 1 mile, share   \n",
       "66    lawhite1share      Low access, White population at 1 mile, share   \n",
       "68    lablack1share  Low access, Black or African American populati...   \n",
       "70    laasian1share      Low access, Asian population at 1 mile, share   \n",
       "72    lanhopi1share  Low access, Native Hawaiian and Other Pacific ...   \n",
       "74     laaian1share  Low access, American Indian and Alaska Native ...   \n",
       "76  laomultir1share  Low access, Other/Multiple race population at ...   \n",
       "78     lahisp1share  Low access, Hispanic or Latino population at 1...   \n",
       "80     lahunv1share  Vehicle access, housing units without and low ...   \n",
       "82     lasnap1share  Low access, housing units receiving SNAP benef...   \n",
       "\n",
       "                                          Description  \n",
       "58  Share of tract population that are beyond 1 mi...  \n",
       "60  Share of tract population that are low income ...  \n",
       "62  Share of tract population that are kids beyond...  \n",
       "64  Share of tract population that are seniors bey...  \n",
       "66  Share of tract population that are white beyon...  \n",
       "68  Share of tract population that are Black or Af...  \n",
       "70  Share of tract population that are Asian beyon...  \n",
       "72  Share of tract population that are Native Hawa...  \n",
       "74  Share of tract population that are American In...  \n",
       "76  Share of tract population that are Other/Multi...  \n",
       "78  Share of tract population that are of Hispanic...  \n",
       "80  Share of tract housing units that are without ...  \n",
       "82  Share of tract housing units receiving SNAP be...  "
      ],
      "text/html": "<div>\n<style scoped>\n    .dataframe tbody tr th:only-of-type {\n        vertical-align: middle;\n    }\n\n    .dataframe tbody tr th {\n        vertical-align: top;\n    }\n\n    .dataframe thead th {\n        text-align: right;\n    }\n</style>\n<table border=\"1\" class=\"dataframe\">\n  <thead>\n    <tr style=\"text-align: right;\">\n      <th></th>\n      <th>Field</th>\n      <th>LongName</th>\n      <th>Description</th>\n    </tr>\n  </thead>\n  <tbody>\n    <tr>\n      <th>58</th>\n      <td>lapop1share</td>\n      <td>Low access, population at 1 mile, share</td>\n      <td>Share of tract population that are beyond 1 mi...</td>\n    </tr>\n    <tr>\n      <th>60</th>\n      <td>lalowi1share</td>\n      <td>Low access, low-income population at 1 mile, s...</td>\n      <td>Share of tract population that are low income ...</td>\n    </tr>\n    <tr>\n      <th>62</th>\n      <td>lakids1share</td>\n      <td>Low access, children age 0-17 at 1 mile, share</td>\n      <td>Share of tract population that are kids beyond...</td>\n    </tr>\n    <tr>\n      <th>64</th>\n      <td>laseniors1share</td>\n      <td>Low access, seniors age 65+ at 1 mile, share</td>\n      <td>Share of tract population that are seniors bey...</td>\n    </tr>\n    <tr>\n      <th>66</th>\n      <td>lawhite1share</td>\n      <td>Low access, White population at 1 mile, share</td>\n      <td>Share of tract population that are white beyon...</td>\n    </tr>\n    <tr>\n      <th>68</th>\n      <td>lablack1share</td>\n      <td>Low access, Black or African American populati...</td>\n      <td>Share of tract population that are Black or Af...</td>\n    </tr>\n    <tr>\n      <th>70</th>\n      <td>laasian1share</td>\n      <td>Low access, Asian population at 1 mile, share</td>\n      <td>Share of tract population that are Asian beyon...</td>\n    </tr>\n    <tr>\n      <th>72</th>\n      <td>lanhopi1share</td>\n      <td>Low access, Native Hawaiian and Other Pacific ...</td>\n      <td>Share of tract population that are Native Hawa...</td>\n    </tr>\n    <tr>\n      <th>74</th>\n      <td>laaian1share</td>\n      <td>Low access, American Indian and Alaska Native ...</td>\n      <td>Share of tract population that are American In...</td>\n    </tr>\n    <tr>\n      <th>76</th>\n      <td>laomultir1share</td>\n      <td>Low access, Other/Multiple race population at ...</td>\n      <td>Share of tract population that are Other/Multi...</td>\n    </tr>\n    <tr>\n      <th>78</th>\n      <td>lahisp1share</td>\n      <td>Low access, Hispanic or Latino population at 1...</td>\n      <td>Share of tract population that are of Hispanic...</td>\n    </tr>\n    <tr>\n      <th>80</th>\n      <td>lahunv1share</td>\n      <td>Vehicle access, housing units without and low ...</td>\n      <td>Share of tract housing units that are without ...</td>\n    </tr>\n    <tr>\n      <th>82</th>\n      <td>lasnap1share</td>\n      <td>Low access, housing units receiving SNAP benef...</td>\n      <td>Share of tract housing units receiving SNAP be...</td>\n    </tr>\n  </tbody>\n</table>\n</div>"
     },
     "metadata": {},
     "execution_count": 45
    }
   ],
   "source": [
    "application_df.loc[application_df[\"Field\"].str.endswith(\"1share\")]"
   ]
  },
  {
   "cell_type": "code",
   "execution_count": 46,
   "metadata": {},
   "outputs": [],
   "source": [
    "share_1_df= application_df.loc[application_df[\"Field\"].str.endswith(\"1share\")]\n",
    "share_half_df= application_df.loc[application_df[\"Field\"].str.endswith(\"halfshare\")]\n",
    "share_10_df= application_df.loc[application_df[\"Field\"].str.endswith(\"10share\")]\n",
    "share_20_df= application_df.loc[application_df[\"Field\"].str.endswith(\"20share\")]"
   ]
  },
  {
   "cell_type": "code",
   "execution_count": 48,
   "metadata": {},
   "outputs": [
    {
     "output_type": "stream",
     "name": "stdout",
     "text": [
      "(13, 3) (13, 3) (13, 3) (13, 3)\n"
     ]
    }
   ],
   "source": [
    "print(share_1_df.shape, share_half_df.shape, share_10_df.shape, share_20_df.shape)"
   ]
  },
  {
   "cell_type": "code",
   "execution_count": 52,
   "metadata": {},
   "outputs": [
    {
     "output_type": "execute_result",
     "data": {
      "text/plain": [
       "58        lapop1share\n",
       "60       lalowi1share\n",
       "62       lakids1share\n",
       "64    laseniors1share\n",
       "66      lawhite1share\n",
       "68      lablack1share\n",
       "70      laasian1share\n",
       "72      lanhopi1share\n",
       "74       laaian1share\n",
       "76    laomultir1share\n",
       "78       lahisp1share\n",
       "80       lahunv1share\n",
       "82       lasnap1share\n",
       "Name: Field, dtype: object"
      ]
     },
     "metadata": {},
     "execution_count": 52
    }
   ],
   "source": [
    "share_1_df['Field']"
   ]
  },
  {
   "cell_type": "code",
   "execution_count": 53,
   "metadata": {},
   "outputs": [
    {
     "output_type": "execute_result",
     "data": {
      "text/plain": [
       "32        lapophalfshare\n",
       "34       lalowihalfshare\n",
       "36       lakidshalfshare\n",
       "38    laseniorshalfshare\n",
       "40      lawhitehalfshare\n",
       "42      lablackhalfshare\n",
       "44      laasianhalfshare\n",
       "46      lanhopihalfshare\n",
       "48       laaianhalfshare\n",
       "50    laomultirhalfshare\n",
       "52       lahisphalfshare\n",
       "54       lahunvhalfshare\n",
       "56       lasnaphalfshare\n",
       "Name: Field, dtype: object"
      ]
     },
     "metadata": {},
     "execution_count": 53
    }
   ],
   "source": [
    "share_half_df['Field']"
   ]
  },
  {
   "cell_type": "code",
   "execution_count": 54,
   "metadata": {},
   "outputs": [
    {
     "output_type": "execute_result",
     "data": {
      "text/plain": [
       "84         lapop10share\n",
       "86        lalowi10share\n",
       "88        lakids10share\n",
       "90     laseniors10share\n",
       "92       lawhite10share\n",
       "94       lablack10share\n",
       "96       laasian10share\n",
       "98       lanhopi10share\n",
       "100       laaian10share\n",
       "102    laomultir10share\n",
       "104       lahisp10share\n",
       "106       lahunv10share\n",
       "108       lasnap10share\n",
       "Name: Field, dtype: object"
      ]
     },
     "metadata": {},
     "execution_count": 54
    }
   ],
   "source": [
    "share_10_df['Field']"
   ]
  },
  {
   "cell_type": "code",
   "execution_count": 55,
   "metadata": {},
   "outputs": [
    {
     "output_type": "execute_result",
     "data": {
      "text/plain": [
       "110        lapop20share\n",
       "112       lalowi20share\n",
       "114       lakids20share\n",
       "116    laseniors20share\n",
       "118      lawhite20share\n",
       "120      lablack20share\n",
       "122      laasian20share\n",
       "124      lanhopi20share\n",
       "126       laaian20share\n",
       "128    laomultir20share\n",
       "130       lahisp20share\n",
       "132       lahunv20share\n",
       "134       lasnap20share\n",
       "Name: Field, dtype: object"
      ]
     },
     "metadata": {},
     "execution_count": 55
    }
   ],
   "source": [
    "share_20_df['Field']"
   ]
  },
  {
   "cell_type": "code",
   "execution_count": null,
   "metadata": {},
   "outputs": [],
   "source": []
  }
 ]
}